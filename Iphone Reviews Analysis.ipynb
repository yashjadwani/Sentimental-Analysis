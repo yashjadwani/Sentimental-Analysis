{
 "cells": [
  {
   "cell_type": "markdown",
   "id": "eac93f84",
   "metadata": {},
   "source": [
    "### Importing Libaries"
   ]
  },
  {
   "cell_type": "code",
   "execution_count": null,
   "id": "afa93d82",
   "metadata": {},
   "outputs": [],
   "source": [
    "import pandas as pd\n",
    "import numpy as np\n",
    "import matplotlib.pyplot as plt\n",
    "import seaborn as sns\n",
    "import nltk\n",
    "import torch\n",
    "from TextCleaner import TextCleaner\n",
    "from nltk.corpus import stopwords\n",
    "from nltk.stem import WordNetLemmatizer\n",
    "from textblob import TextBlob\n",
    "from vaderSentiment.vaderSentiment import SentimentIntensityAnalyzer\n",
    "from transformers import AutoTokenizer, AutoModelForSequenceClassification, pipeline\n",
    "from scipy.special import softmax\n",
    "from nltk.tokenize import sent_tokenize\n",
    "from collections import Counter\n",
    "import re\n",
    "from wordcloud import WordCloud\n",
    "import warnings\n",
    "from nltk.stem import WordNetLemmatizer\n",
    "from sklearn.feature_extraction.text import CountVectorizer\n",
    "warnings.filterwarnings(\"ignore\")\n",
    "\n",
    "# Download required NLTK data\n",
    "nltk.download('punkt')\n",
    "nltk.download('stopwords')\n",
    "nltk.download('wordnet')\n",
    "\n",
    "# Preload resources\n",
    "stop_words = set(stopwords.words(\"english\"))\n",
    "lemmatizer = WordNetLemmatizer()\n"
   ]
  },
  {
   "cell_type": "markdown",
   "id": "ea8c0d6c",
   "metadata": {},
   "source": [
    "### Getting Data"
   ]
  },
  {
   "cell_type": "code",
   "execution_count": null,
   "id": "b389410c",
   "metadata": {},
   "outputs": [],
   "source": [
    "#### Apple iPhone XR (64GB) - Black\n",
    "\n",
    "data = pd.read_csv('Data/apple_iphone_11_reviews.csv')\n",
    "data.head()"
   ]
  },
  {
   "cell_type": "markdown",
   "id": "3181df79",
   "metadata": {},
   "source": [
    "### Data Exploration and Cleaning"
   ]
  },
  {
   "cell_type": "code",
   "execution_count": null,
   "id": "c16dd76d",
   "metadata": {},
   "outputs": [],
   "source": [
    "data.info()"
   ]
  },
  {
   "cell_type": "code",
   "execution_count": null,
   "id": "2a376f36",
   "metadata": {},
   "outputs": [],
   "source": [
    "data.rename(columns={'Review rating out of 5': 'rating'},inplace=True)\n",
    "data['helpful_count'] = data['helpful_count'].str.replace(',', '').astype(int)\n",
    "data.head()"
   ]
  },
  {
   "cell_type": "code",
   "execution_count": null,
   "id": "131a3664",
   "metadata": {},
   "outputs": [],
   "source": [
    "data.duplicated().sum()"
   ]
  },
  {
   "cell_type": "code",
   "execution_count": null,
   "id": "2cf20bbf",
   "metadata": {},
   "outputs": [],
   "source": [
    "data.drop_duplicates(inplace=True)\n",
    "data.dropna(inplace=True)"
   ]
  },
  {
   "cell_type": "code",
   "execution_count": null,
   "id": "320904c6",
   "metadata": {},
   "outputs": [],
   "source": [
    "data.shape"
   ]
  },
  {
   "cell_type": "code",
   "execution_count": null,
   "id": "bc2326ac",
   "metadata": {},
   "outputs": [],
   "source": [
    "sns.countplot(x='rating', data=data)\n",
    "plt.xlabel(\"Ratings\")\n",
    "plt.ylabel(\"Count ot Ratings\")\n",
    "plt.show()"
   ]
  },
  {
   "cell_type": "code",
   "execution_count": null,
   "id": "6b27a3bb",
   "metadata": {},
   "outputs": [],
   "source": [
    "### Grouping by rating to see how people interact with the comments\n",
    "helpful_rating_group = data.groupby('rating')['helpful_count'].agg(\n",
    "    helpful_mean_amount='mean',\n",
    "    helpful_max_amount='max',\n",
    "    helpful_total_amount='sum',\n",
    "    count = 'count'\n",
    ").reset_index()\n",
    "\n",
    "total_comments_rating_group = data.groupby('rating')['total_comments'].agg(\n",
    "    total_comments_mean_amount='mean',\n",
    "    total_comments_max_amount='max',\n",
    "    total_comments_total_amount='sum',\n",
    ").reset_index()\n",
    "\n",
    "total_comments_rating_group = total_comments_rating_group.merge(helpful_rating_group,how='left',on='rating')\n",
    "total_comments_rating_group"
   ]
  },
  {
   "cell_type": "code",
   "execution_count": null,
   "id": "6e81af59",
   "metadata": {},
   "outputs": [],
   "source": [
    "data.sort_values('helpful_count', ascending=False).head(10)"
   ]
  },
  {
   "cell_type": "code",
   "execution_count": null,
   "id": "ddef437a",
   "metadata": {},
   "outputs": [],
   "source": [
    "raw_data = data.copy()"
   ]
  },
  {
   "cell_type": "markdown",
   "id": "cc9d7b6f",
   "metadata": {},
   "source": [
    "### Cleaning review text"
   ]
  },
  {
   "cell_type": "code",
   "execution_count": null,
   "id": "ccf46e58",
   "metadata": {},
   "outputs": [],
   "source": [
    "custom_stopwords = ['iphone', 'apple', 'camera', 'product', 'amazon', 'xr', 'x', 'phone','xs','authorize']\n",
    "textCleaner = TextCleaner(remove_non_ascii=True, keep_currency_symbols=False,custom_keywords=custom_stopwords)\n",
    "data['review_text']=data['review_text'].apply(textCleaner.clean)\n",
    "data['review_title']=data['review_title'].apply(textCleaner.clean)"
   ]
  },
  {
   "cell_type": "code",
   "execution_count": null,
   "id": "6952c4da",
   "metadata": {},
   "outputs": [],
   "source": [
    "data.head()"
   ]
  },
  {
   "cell_type": "code",
   "execution_count": null,
   "id": "52a8fc33",
   "metadata": {},
   "outputs": [],
   "source": [
    "data.drop_duplicates(inplace=True)\n",
    "data.dropna(inplace=True)"
   ]
  },
  {
   "cell_type": "markdown",
   "id": "ff5e4b70",
   "metadata": {},
   "source": [
    "### WordCloud"
   ]
  },
  {
   "cell_type": "code",
   "execution_count": null,
   "id": "a6080289",
   "metadata": {},
   "outputs": [],
   "source": [
    "text = \" \".join(review for review in data['review_text'])\n",
    "wordcloud = WordCloud(background_color='white').generate(text)\n",
    "plt.imshow(wordcloud, interpolation='bilinear')\n",
    "plt.axis('off')\n",
    "plt.show()"
   ]
  },
  {
   "cell_type": "code",
   "execution_count": null,
   "id": "73d5d0db",
   "metadata": {},
   "outputs": [],
   "source": [
    "data_reviews = data[['review_title','review_text','rating']].copy()\n",
    "data_reviews"
   ]
  },
  {
   "cell_type": "markdown",
   "id": "1080536c",
   "metadata": {},
   "source": [
    "### Sentiment Analysis"
   ]
  },
  {
   "cell_type": "markdown",
   "id": "9cb78386",
   "metadata": {},
   "source": [
    "#### Textblob"
   ]
  },
  {
   "cell_type": "code",
   "execution_count": null,
   "id": "4f63ee9e",
   "metadata": {},
   "outputs": [],
   "source": [
    "data_textblob = data.copy()"
   ]
  },
  {
   "cell_type": "code",
   "execution_count": null,
   "id": "bf109bf0",
   "metadata": {},
   "outputs": [],
   "source": [
    "polarity = []\n",
    "subjectivity = []\n",
    "for i in data_textblob['review_text'].values:\n",
    "    try:\n",
    "        analysis = TextBlob(i)\n",
    "        polarity.append(analysis.sentiment.polarity)\n",
    "        subjectivity.append(analysis.sentiment.subjectivity)\n",
    "    except:\n",
    "        polarity.append(0)\n",
    "        subjectivity.append(0)\n",
    "\n",
    "data_textblob['polarity'] = polarity\n",
    "data_textblob['subjectivity'] = subjectivity"
   ]
  },
  {
   "cell_type": "code",
   "execution_count": null,
   "id": "c5d6b3c1",
   "metadata": {},
   "outputs": [],
   "source": [
    "bins = np.linspace(-1, 1, 6) \n",
    "data_textblob['updated_rating'] = np.clip(np.digitize(data_textblob.polarity, bins, right=False), 1, 5)\n",
    "data_textblob['diff'] = data_textblob['updated_rating'] - data_textblob['rating']\n",
    "data_textblob['diff'].value_counts().sort_index()"
   ]
  },
  {
   "cell_type": "code",
   "execution_count": null,
   "id": "4b8cfddc",
   "metadata": {},
   "outputs": [],
   "source": [
    "data_reviews[['text_blob_polarity','text_blob_rating']] = data_textblob[['polarity','updated_rating']].copy()"
   ]
  },
  {
   "cell_type": "markdown",
   "id": "390eb0a1",
   "metadata": {},
   "source": [
    "#### VADER"
   ]
  },
  {
   "cell_type": "code",
   "execution_count": null,
   "id": "85600ca0",
   "metadata": {},
   "outputs": [],
   "source": [
    "data_vader = data.copy()"
   ]
  },
  {
   "cell_type": "code",
   "execution_count": null,
   "id": "4d86028d",
   "metadata": {},
   "outputs": [],
   "source": [
    "vader_analyzer = SentimentIntensityAnalyzer()\n",
    "\n",
    "def vader_sentiment(text):\n",
    "    scores = vader_analyzer.polarity_scores(text)\n",
    "    compound = scores['compound']\n",
    "    if compound >= 0.05:\n",
    "        sentiment = \"Positive\"\n",
    "    elif compound <= -0.05:\n",
    "        sentiment = \"Negative\"\n",
    "    else:\n",
    "        sentiment = \"Neutral\"\n",
    "    return pd.Series([sentiment, compound])\n",
    "\n",
    "data_vader[['Sentiment', 'Compound_Score']] = data_vader['review_text'].apply(vader_sentiment)"
   ]
  },
  {
   "cell_type": "code",
   "execution_count": null,
   "id": "4073d678",
   "metadata": {},
   "outputs": [],
   "source": [
    "data_vader.Sentiment.value_counts()"
   ]
  },
  {
   "cell_type": "code",
   "execution_count": null,
   "id": "fa581b37",
   "metadata": {},
   "outputs": [],
   "source": [
    "data_vader['updated_rating'] = np.clip(np.digitize(data_vader.Compound_Score, bins, right=False), 1, 5)\n",
    "data_vader['diff'] = data_vader['updated_rating'] - data_vader['rating']\n",
    "data_vader['diff'].value_counts().sort_index()"
   ]
  },
  {
   "cell_type": "code",
   "execution_count": null,
   "id": "63c6955e",
   "metadata": {},
   "outputs": [],
   "source": [
    "data_reviews[['vader_score','vader_sentiment','vader_rating']] = data_vader[['Compound_Score','Sentiment','updated_rating']].copy()"
   ]
  },
  {
   "cell_type": "markdown",
   "id": "7c1d1feb",
   "metadata": {},
   "source": [
    "#### RoBERTa"
   ]
  },
  {
   "cell_type": "code",
   "execution_count": null,
   "id": "28721a66",
   "metadata": {},
   "outputs": [],
   "source": [
    "data_RoBERTa = data.copy()"
   ]
  },
  {
   "cell_type": "code",
   "execution_count": null,
   "id": "7d7fa533",
   "metadata": {},
   "outputs": [],
   "source": [
    "MODEL = \"cardiffnlp/twitter-roberta-base-sentiment\"\n",
    "tokenizer = AutoTokenizer.from_pretrained(MODEL)\n",
    "model = AutoModelForSequenceClassification.from_pretrained(MODEL)\n",
    "\n",
    "labels = ['Negative', 'Neutral', 'Positive']\n",
    "\n",
    "def analyze_sentiment(text):\n",
    "    encoded = tokenizer(text, return_tensors='pt', truncation=True)\n",
    "    with torch.no_grad():\n",
    "        output = model(**encoded)\n",
    "    scores = output.logits[0].numpy()\n",
    "    probs = softmax(scores)\n",
    "    sentiment = labels[probs.argmax()]\n",
    "    confidence = probs.max()\n",
    "    return sentiment, confidence\n",
    "\n",
    "data_RoBERTa[['Sentiment', 'Compound_Score']] = data_RoBERTa['review_text'].apply(lambda x: pd.Series(analyze_sentiment(x)))"
   ]
  },
  {
   "cell_type": "code",
   "execution_count": null,
   "id": "e7876d7d",
   "metadata": {},
   "outputs": [],
   "source": [
    "data_RoBERTa.Sentiment.value_counts()"
   ]
  },
  {
   "cell_type": "code",
   "execution_count": null,
   "id": "6769565e",
   "metadata": {},
   "outputs": [],
   "source": [
    "bins = np.linspace(0, 1, 6) \n",
    "data_RoBERTa['updated_rating'] = np.clip(np.digitize(data_RoBERTa.Compound_Score, bins, right=False), 1, 5)\n",
    "data_RoBERTa['diff'] = data_RoBERTa['updated_rating'] - data_RoBERTa['rating']\n",
    "data_RoBERTa['diff'].value_counts().sort_index()"
   ]
  },
  {
   "cell_type": "code",
   "execution_count": null,
   "id": "063678ad",
   "metadata": {},
   "outputs": [],
   "source": [
    "data_reviews[['RoBERTa_score','RoBERTa_sentiment','RoBERTa_rating']] = data_RoBERTa[['Compound_Score','Sentiment','updated_rating']].copy()"
   ]
  },
  {
   "cell_type": "markdown",
   "id": "fc5051b4",
   "metadata": {},
   "source": [
    "#### Zero-Shot Classification"
   ]
  },
  {
   "cell_type": "code",
   "execution_count": null,
   "id": "8b600e5a",
   "metadata": {},
   "outputs": [],
   "source": [
    "data_zero = data.copy()"
   ]
  },
  {
   "cell_type": "code",
   "execution_count": null,
   "id": "72a4fc94",
   "metadata": {},
   "outputs": [],
   "source": [
    "classifier = pipeline(\"zero-shot-classification\", model=\"facebook/bart-large-mnli\")\n",
    "data_zero = data_zero[data_zero['review_text'].str.strip().ne(\"\")]\n",
    "\n",
    "candidate_labels = [\"Positive\", \"Negative\", \"Neutral\"]\n",
    "\n",
    "results = [classifier(text, candidate_labels) for text in data_zero.review_text]"
   ]
  },
  {
   "cell_type": "code",
   "execution_count": null,
   "id": "96ded792",
   "metadata": {},
   "outputs": [],
   "source": [
    "data_zero['Predicted_Sentiment'] = [res['labels'][0] for res in results]\n",
    "data_zero['Confidence_score'] = [res['scores'][0] for res in results]"
   ]
  },
  {
   "cell_type": "code",
   "execution_count": null,
   "id": "60fe1130",
   "metadata": {},
   "outputs": [],
   "source": [
    "data_zero.Predicted_Sentiment.value_counts()"
   ]
  },
  {
   "cell_type": "code",
   "execution_count": null,
   "id": "9633c7c0",
   "metadata": {},
   "outputs": [],
   "source": [
    "bins = np.linspace(0, 1, 6) \n",
    "data_zero['updated_rating'] = np.clip(np.digitize(data_zero.Confidence_score, bins, right=False), 1, 5)\n",
    "data_zero['diff'] = data_zero['updated_rating'] - data_zero['rating']\n",
    "data_zero['diff'].value_counts().sort_index()"
   ]
  },
  {
   "cell_type": "code",
   "execution_count": null,
   "id": "4c81b9b7",
   "metadata": {},
   "outputs": [],
   "source": [
    "data_reviews[['zeroShot_score','zeroShot_sentiment','zeroShot_rating']] = data_zero[['Confidence_score','Predicted_Sentiment','updated_rating']].copy()"
   ]
  },
  {
   "cell_type": "markdown",
   "id": "a3c112de",
   "metadata": {},
   "source": [
    "### Comparison of Various Methods"
   ]
  },
  {
   "cell_type": "code",
   "execution_count": null,
   "id": "2b049353",
   "metadata": {},
   "outputs": [],
   "source": [
    "data_reviews.rename(columns={'rating':'user_rating'},inplace=True)\n",
    "data_reviews.head()"
   ]
  },
  {
   "cell_type": "code",
   "execution_count": null,
   "id": "81ba8e9b",
   "metadata": {},
   "outputs": [],
   "source": [
    "#### Generating Sentiment : <=2 Negative, ==3 Neutral, >=4 Positive \n",
    "data_reviews['text_blob_sentiment'] =np.where( data_reviews['text_blob_rating'] < 3, 'Negative', np.where(data_reviews['text_blob_rating'] == 3, 'Neutral', 'Positive'))\n",
    "data_reviews['user_sentiment'] =np.where( data_reviews['user_rating'] < 3, 'Negative', np.where(data_reviews['user_rating'] == 3, 'Neutral', 'Positive'))"
   ]
  },
  {
   "cell_type": "code",
   "execution_count": null,
   "id": "3d253705",
   "metadata": {},
   "outputs": [],
   "source": [
    "scores = ['Polarity', 'Compound Score', 'Compound Score', 'Confidence Score']\n",
    "columns = ['text_blob_polarity','vader_score','RoBERTa_score','zeroShot_score']\n",
    "titles = ['Text Blob', 'VADER', 'RoBERTa', 'Zero Shot']\n",
    "\n",
    "# Create 2x2 subplot grid\n",
    "fig, axes = plt.subplots(2, 2, figsize=(14, 8))\n",
    "axes = axes.flatten()\n",
    "\n",
    "# Loop through datasets and plot histograms\n",
    "for i,column in enumerate(columns):\n",
    "    axes[i].hist(data_reviews[column], bins=20, color='lightcoral', edgecolor='black')\n",
    "    axes[i].set_title(f\"{titles[i]}: {scores[i]}\", fontsize=14, fontweight='bold')\n",
    "    axes[i].set_xlabel('Score')\n",
    "    axes[i].set_ylabel('Frequency')\n",
    "    axes[i].grid(True, linestyle='--', alpha=0.5)\n",
    "\n",
    "# Layout fix\n",
    "plt.tight_layout()\n",
    "plt.show()"
   ]
  },
  {
   "cell_type": "code",
   "execution_count": null,
   "id": "1d09f08f",
   "metadata": {},
   "outputs": [],
   "source": [
    "columns = ['text_blob_rating', 'vader_rating', 'RoBERTa_rating', 'zeroShot_rating']\n",
    "titles = ['Text Blob', 'VADER', 'RoBERTa', 'Zero Shot']\n",
    "\n",
    "# Create 2x2 subplot grid\n",
    "fig, axes = plt.subplots(2, 2, figsize=(14, 8))\n",
    "axes = axes.flatten()\n",
    "\n",
    "# Loop through datasets and plot histograms\n",
    "for i,column in enumerate(columns):\n",
    "    conf_matrix = pd.crosstab(data_reviews['user_rating'], data_reviews[column], rownames=['Original'], colnames=[titles[i]])\n",
    "    sns.heatmap(conf_matrix, annot=True, fmt='d', cmap='Reds',ax=axes[i], linewidths=0.5)\n",
    "    axes[i].set_title(f'Confusion Matrix of Original vs {titles[i]} Ratings')\n",
    "    axes[i].set_xlabel(f'{titles[i]} Predicted', fontsize=10)\n",
    "    axes[i].set_ylabel('True Rating', fontsize=10)\n",
    "\n",
    "# Layout fix\n",
    "plt.tight_layout()\n",
    "plt.subplots_adjust(wspace=0.2, hspace=0.4)\n",
    "plt.show()"
   ]
  },
  {
   "cell_type": "code",
   "execution_count": null,
   "id": "af3e520f",
   "metadata": {},
   "outputs": [],
   "source": [
    "## Plotting Sentiment counts\n",
    "\n",
    "sentiment_counts = pd.DataFrame()\n",
    "for col in ['user_sentiment', 'text_blob_sentiment', 'vader_sentiment', 'RoBERTa_sentiment', 'zeroShot_sentiment']:\n",
    "    sentiment_counts[col] = data_reviews[col].value_counts().sort_index()\n",
    "\n",
    "sentiment_counts = sentiment_counts.fillna(0).astype(int)\n",
    "\n",
    "sentiment_counts.plot(kind='bar', figsize=(12, 6), width=0.8)\n",
    "plt.title('Sentiment Frequency per Model', fontsize=16)\n",
    "plt.xlabel('Sentiment')\n",
    "plt.ylabel('Count')\n",
    "plt.legend(title='Source', bbox_to_anchor=(1.05, 1), loc='upper left')\n",
    "plt.grid(axis='y', linestyle='--', alpha=0.6)\n",
    "plt.tight_layout()\n",
    "plt.show()\n"
   ]
  },
  {
   "cell_type": "code",
   "execution_count": null,
   "id": "6e39d6d1",
   "metadata": {},
   "outputs": [],
   "source": [
    "## Plotting Rating counts\n",
    "\n",
    "rating_counts = pd.DataFrame()\n",
    "for col in ['user_rating', 'text_blob_rating', 'vader_rating', 'RoBERTa_rating', 'zeroShot_rating']:\n",
    "    rating_counts[col] = data_reviews[col].value_counts().sort_index()\n",
    "\n",
    "rating_counts = rating_counts.fillna(0).astype(int)\n",
    "\n",
    "rating_counts.plot(kind='bar', figsize=(12, 6), width=0.8)\n",
    "plt.title('Rating Frequency per Model (1–5)', fontsize=16)\n",
    "plt.xlabel('Rating')\n",
    "plt.ylabel('Count')\n",
    "plt.legend(title='Source', bbox_to_anchor=(1.05, 1), loc='upper left')\n",
    "plt.grid(axis='y', linestyle='--', alpha=0.6)\n",
    "plt.tight_layout()\n",
    "plt.show()\n"
   ]
  },
  {
   "cell_type": "code",
   "execution_count": null,
   "id": "a23d0e9f",
   "metadata": {},
   "outputs": [],
   "source": [
    "### Plotting average ratings\n",
    "\n",
    "avg_ratings = data_reviews[['user_rating', 'text_blob_rating', 'vader_rating', 'RoBERTa_rating', 'zeroShot_rating']].mean()\n",
    "\n",
    "# Create a bar plot\n",
    "plt.figure(figsize=(10, 6))\n",
    "sns.barplot(x=avg_ratings.index, y=avg_ratings.values, palette='Set2', edgecolor='black')\n",
    "\n",
    "plt.title('Average Rating by Model vs User Rating', fontsize=16)\n",
    "plt.ylabel('Average Rating (1–5)')\n",
    "plt.ylim(0, 5)\n",
    "plt.grid(axis='y', linestyle='--', alpha=0.6)\n",
    "\n",
    "# Annotate the bars\n",
    "for i, val in enumerate(avg_ratings.values):\n",
    "    plt.text(i, val + 0.05, f\"{val:.2f}\", ha='center', fontsize=12)\n",
    "\n",
    "plt.show()\n"
   ]
  },
  {
   "cell_type": "code",
   "execution_count": null,
   "id": "77066fac",
   "metadata": {},
   "outputs": [],
   "source": [
    "data_reviews.isna().sum()"
   ]
  },
  {
   "cell_type": "code",
   "execution_count": null,
   "id": "ca304f80",
   "metadata": {},
   "outputs": [],
   "source": [
    "data_reviews[data_reviews.text_blob_polarity.isnull()]"
   ]
  },
  {
   "cell_type": "code",
   "execution_count": null,
   "id": "44cc87c5",
   "metadata": {},
   "outputs": [],
   "source": [
    "from sklearn.metrics import mean_absolute_error\n",
    "\n",
    "mae = {\n",
    "    model: mean_absolute_error(data_reviews['user_rating'], data_reviews[model])\n",
    "    for model in ['text_blob_rating', 'vader_rating', 'RoBERTa_rating', 'zeroShot_rating']\n",
    "}\n",
    "\n",
    "plt.figure(figsize=(8, 5))\n",
    "sns.barplot(x=list(mae.keys()), y=list(mae.values()), palette='Set3', edgecolor='black')\n",
    "plt.title(\"Mean Absolute Error vs User Ratings\", fontsize=16)\n",
    "plt.ylabel(\"MAE\")\n",
    "for i, val in enumerate(mae.values()):\n",
    "    plt.text(i, val + 0.01, f\"{val:.2f}\", ha='center', fontsize=12)\n",
    "plt.grid(axis='y', linestyle='--', alpha=0.6)\n",
    "plt.show()\n"
   ]
  },
  {
   "cell_type": "markdown",
   "id": "540ebf60",
   "metadata": {},
   "source": [
    "### Extracting top Positive/Negative Words using VADER with Zero Shot as base"
   ]
  },
  {
   "cell_type": "code",
   "execution_count": null,
   "id": "82248e0e",
   "metadata": {},
   "outputs": [],
   "source": [
    "def extract_pos_neg_words(text):\n",
    "    words = re.findall(r'\\b\\w+\\b', text.lower())  # tokenize words\n",
    "    pos_words, neg_words = [], []\n",
    "    for word in words:\n",
    "        score = vader_analyzer.polarity_scores(word)['compound']\n",
    "        if score >= 0.5:\n",
    "            pos_words.append(word)\n",
    "        elif score <= -0.5:\n",
    "            neg_words.append(word)\n",
    "    return pos_words, neg_words"
   ]
  },
  {
   "cell_type": "code",
   "execution_count": null,
   "id": "b7a6c93d",
   "metadata": {},
   "outputs": [],
   "source": [
    "cluster_pos_words = {}\n",
    "cluster_neg_words = {}\n",
    "\n",
    "for cluster, group in data_reviews.groupby('zeroShot_sentiment'):\n",
    "    all_pos = []\n",
    "    all_neg = []\n",
    "    for review in group['review_text']:\n",
    "        pos, neg = extract_pos_neg_words(review)\n",
    "        all_pos.extend(pos)\n",
    "        all_neg.extend(neg)\n",
    "    cluster_pos_words[cluster] = Counter(all_pos).most_common(10)\n",
    "    cluster_neg_words[cluster] = Counter(all_neg).most_common(10)\n"
   ]
  },
  {
   "cell_type": "code",
   "execution_count": null,
   "id": "f378bc7b",
   "metadata": {},
   "outputs": [],
   "source": [
    "def plot_pos_neg_words(pos_words, neg_words, title=\"Top Sentiment Words\"):\n",
    "    fig, axes = plt.subplots(1, 2, figsize=(14, 6))\n",
    "    \n",
    "    if pos_words:\n",
    "        words, counts = zip(*pos_words)\n",
    "        axes[0].barh(words, counts, color='green')\n",
    "        axes[0].set_title(\"Positive Words\")\n",
    "        axes[0].invert_yaxis()\n",
    "    else:\n",
    "        axes[0].text(0.5, 0.5, 'No Positive Words', ha='center', va='center')\n",
    "        axes[0].axis('off')\n",
    "    \n",
    "    if neg_words:\n",
    "        words, counts = zip(*neg_words)\n",
    "        axes[1].barh(words, counts, color='red')\n",
    "        axes[1].set_title(\"Negative Words\")\n",
    "        axes[1].invert_yaxis()\n",
    "    else:\n",
    "        axes[1].text(0.5, 0.5, 'No Negative Words', ha='center', va='center')\n",
    "        axes[1].axis('off')\n",
    "    \n",
    "    for ax in axes:\n",
    "        ax.set_xlabel(\"Frequency\")\n",
    "    \n",
    "    fig.suptitle(title)\n",
    "    plt.tight_layout()\n",
    "    plt.show()"
   ]
  },
  {
   "cell_type": "code",
   "execution_count": null,
   "id": "b0d6f5ba",
   "metadata": {},
   "outputs": [],
   "source": [
    "plot_pos_neg_words(cluster_pos_words['Positive'], cluster_neg_words['Negative'], title=\"Positive vs Negative Words\")"
   ]
  },
  {
   "cell_type": "markdown",
   "id": "1187d4f1",
   "metadata": {},
   "source": [
    "### Top Positive and Negtative Sentences"
   ]
  },
  {
   "cell_type": "code",
   "execution_count": null,
   "id": "cb8aad2e",
   "metadata": {},
   "outputs": [],
   "source": [
    "positive_sentences = []\n",
    "negative_sentences = []\n",
    "\n",
    "# Replace this with your actual column:\n",
    "text_column = raw_data['review_text']\n",
    "\n",
    "for review in text_column.dropna():\n",
    "    sentences = sent_tokenize(review)\n",
    "    for sentence in sentences:\n",
    "        score = vader_analyzer.polarity_scores(sentence)['compound']\n",
    "        if score >= 0.7:\n",
    "            positive_sentences.append(sentence)\n",
    "        elif score <= -0.3:\n",
    "            negative_sentences.append(sentence)\n",
    "\n",
    "            \n",
    "print(\"🟢 Top 5 Positive Sentences:\")\n",
    "for s in positive_sentences[:10]:\n",
    "    print(\"-\", s)\n",
    "\n",
    "print(\"\\n🔴 Top 5 Negative Sentences:\")\n",
    "for s in negative_sentences[:10]:\n",
    "    print(\"-\", s)\n"
   ]
  },
  {
   "cell_type": "markdown",
   "id": "89cc4899",
   "metadata": {},
   "source": [
    "### N-Grams Analysis"
   ]
  },
  {
   "cell_type": "code",
   "execution_count": null,
   "id": "b50ed7d8",
   "metadata": {},
   "outputs": [],
   "source": [
    "def get_ngrams(texts, n=2, top_k=15):\n",
    "    vec = CountVectorizer(ngram_range=(n, n), stop_words='english')\n",
    "    X = vec.fit_transform(texts)\n",
    "    ngram_counts = X.sum(axis=0).A1\n",
    "    vocab = vec.get_feature_names_out()\n",
    "    ngram_freq = pd.Series(ngram_counts, index=vocab)\n",
    "    return ngram_freq.sort_values(ascending=False).head(top_k)\n",
    "\n",
    "for n in [1, 2, 3]:\n",
    "    top_ngrams = get_ngrams(data['review_text'], n=n)\n",
    "    plt.figure(figsize=(10, 5))\n",
    "    top_ngrams.plot(kind='barh', title=f\"Top {n}-grams\", color='purple')\n",
    "    plt.gca().invert_yaxis()\n",
    "    plt.xlabel(\"Frequency\")\n",
    "    plt.tight_layout()\n",
    "    plt.show()"
   ]
  }
 ],
 "metadata": {
  "kernelspec": {
   "display_name": "Python 3",
   "language": "python",
   "name": "python3"
  },
  "language_info": {
   "codemirror_mode": {
    "name": "ipython",
    "version": 3
   },
   "file_extension": ".py",
   "mimetype": "text/x-python",
   "name": "python",
   "nbconvert_exporter": "python",
   "pygments_lexer": "ipython3",
   "version": "3.13.2"
  }
 },
 "nbformat": 4,
 "nbformat_minor": 5
}
