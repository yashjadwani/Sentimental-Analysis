{
 "cells": [
  {
   "cell_type": "markdown",
   "id": "e583d3d8",
   "metadata": {},
   "source": [
    "### Importing Libraries"
   ]
  },
  {
   "cell_type": "code",
   "execution_count": 125,
   "id": "e2370fa1",
   "metadata": {},
   "outputs": [],
   "source": [
    "import pandas as pd\n",
    "import numpy as np\n",
    "pd.set_option('display.max_colwidth', 300)\n",
    "import matplotlib.pyplot as plt\n",
    "import seaborn as sns\n",
    "from collections import Counter\n",
    "import nltk\n",
    "from textblob import TextBlob\n",
    "import re\n",
    "from wordcloud import WordCloud, STOPWORDS\n",
    "import string\n",
    "\n",
    "from nltk.corpus import stopwords\n",
    "\n",
    "from nltk.corpus import wordnet\n",
    "from nltk.stem import PorterStemmer,WordNetLemmatizer\n",
    "\n",
    "import neattext.functions as nf\n",
    "import warnings\n",
    "warnings.filterwarnings(\"ignore\")"
   ]
  },
  {
   "cell_type": "markdown",
   "id": "de6ee328",
   "metadata": {},
   "source": [
    "### Getting Data"
   ]
  },
  {
   "cell_type": "code",
   "execution_count": 126,
   "id": "c58acfdd",
   "metadata": {},
   "outputs": [],
   "source": [
    "data = pd.read_csv('Data/apple_iphone_11_reviews.csv')"
   ]
  },
  {
   "cell_type": "code",
   "execution_count": 127,
   "id": "50e504b5",
   "metadata": {},
   "outputs": [
    {
     "data": {
      "text/html": [
       "<div>\n",
       "<style scoped>\n",
       "    .dataframe tbody tr th:only-of-type {\n",
       "        vertical-align: middle;\n",
       "    }\n",
       "\n",
       "    .dataframe tbody tr th {\n",
       "        vertical-align: top;\n",
       "    }\n",
       "\n",
       "    .dataframe thead th {\n",
       "        text-align: right;\n",
       "    }\n",
       "</style>\n",
       "<table border=\"1\" class=\"dataframe\">\n",
       "  <thead>\n",
       "    <tr style=\"text-align: right;\">\n",
       "      <th></th>\n",
       "      <th>product</th>\n",
       "      <th>helpful_count</th>\n",
       "      <th>total_comments</th>\n",
       "      <th>review_country</th>\n",
       "      <th>reviewed_at</th>\n",
       "      <th>review_text</th>\n",
       "      <th>Review rating out of 5</th>\n",
       "      <th>review_title</th>\n",
       "    </tr>\n",
       "  </thead>\n",
       "  <tbody>\n",
       "    <tr>\n",
       "      <th>0</th>\n",
       "      <td>Apple iPhone XR (64GB) - Black</td>\n",
       "      <td>5,087</td>\n",
       "      <td>24</td>\n",
       "      <td>India</td>\n",
       "      <td>12/12/18</td>\n",
       "      <td>NOTE:</td>\n",
       "      <td>3</td>\n",
       "      <td>Which iPhone you should Purchase ? iPhone 8, X, XS, XR ?</td>\n",
       "    </tr>\n",
       "    <tr>\n",
       "      <th>1</th>\n",
       "      <td>Apple iPhone XR (64GB) - Black</td>\n",
       "      <td>2,822</td>\n",
       "      <td>6</td>\n",
       "      <td>India</td>\n",
       "      <td>11/17/18</td>\n",
       "      <td>Very bad experience with this iPhone xr phone. Back camera found defective and non functional. Amazon is very careless. I haven't got any response on confirmation for replacing. I am just hanging with a damaged piece worth of more than 91000 rupees.</td>\n",
       "      <td>1</td>\n",
       "      <td>Don't buy iPhone xr from Amazon.</td>\n",
       "    </tr>\n",
       "    <tr>\n",
       "      <th>2</th>\n",
       "      <td>Apple iPhone XR (64GB) - Black</td>\n",
       "      <td>1,798</td>\n",
       "      <td>0</td>\n",
       "      <td>India</td>\n",
       "      <td>1/27/19</td>\n",
       "      <td>Amazing phone with amazing camera coming from iPhone 7 plus great service from amazon</td>\n",
       "      <td>5</td>\n",
       "      <td>Happy with the purchase</td>\n",
       "    </tr>\n",
       "    <tr>\n",
       "      <th>3</th>\n",
       "      <td>Apple iPhone XR (64GB) - Black</td>\n",
       "      <td>1,366</td>\n",
       "      <td>14</td>\n",
       "      <td>India</td>\n",
       "      <td>5/2/19</td>\n",
       "      <td>So I got the iPhone XR just today. The product looks amazing. But unfortunately the Face ID is not working and there’s a glitch in the front camera’s portrait mode. That’s fine, it may happen. But what’s not fine is the pathetic service provided by amazon and apple. Firstly, amazon takes no resp...</td>\n",
       "      <td>1</td>\n",
       "      <td>Amazon is not an apple authorised reseller. Please take a note.</td>\n",
       "    </tr>\n",
       "    <tr>\n",
       "      <th>4</th>\n",
       "      <td>Apple iPhone XR (64GB) - Black</td>\n",
       "      <td>536</td>\n",
       "      <td>5</td>\n",
       "      <td>India</td>\n",
       "      <td>5/24/19</td>\n",
       "      <td>I've been an android user all my life until I decided to try iPhone XR for iOS. Loving the camera and battery life is an absolute joy to have. It's been more than one month since I got this phone and I'm loving it. Face ID works flawlessly even in the dark and the dual sim function is working li...</td>\n",
       "      <td>5</td>\n",
       "      <td>Excellent Battery life and buttery smooth UI</td>\n",
       "    </tr>\n",
       "  </tbody>\n",
       "</table>\n",
       "</div>"
      ],
      "text/plain": [
       "                          product helpful_count  total_comments  \\\n",
       "0  Apple iPhone XR (64GB) - Black         5,087              24   \n",
       "1  Apple iPhone XR (64GB) - Black         2,822               6   \n",
       "2  Apple iPhone XR (64GB) - Black         1,798               0   \n",
       "3  Apple iPhone XR (64GB) - Black         1,366              14   \n",
       "4  Apple iPhone XR (64GB) - Black           536               5   \n",
       "\n",
       "  review_country reviewed_at  \\\n",
       "0         India     12/12/18   \n",
       "1         India     11/17/18   \n",
       "2         India      1/27/19   \n",
       "3         India       5/2/19   \n",
       "4         India      5/24/19   \n",
       "\n",
       "                                                                                                                                                                                                                                                                                                   review_text  \\\n",
       "0                                                                                                                                                                                                                                                                                                        NOTE:   \n",
       "1                                                    Very bad experience with this iPhone xr phone. Back camera found defective and non functional. Amazon is very careless. I haven't got any response on confirmation for replacing. I am just hanging with a damaged piece worth of more than 91000 rupees.   \n",
       "2                                                                                                                                                                                                                        Amazing phone with amazing camera coming from iPhone 7 plus great service from amazon   \n",
       "3  So I got the iPhone XR just today. The product looks amazing. But unfortunately the Face ID is not working and there’s a glitch in the front camera’s portrait mode. That’s fine, it may happen. But what’s not fine is the pathetic service provided by amazon and apple. Firstly, amazon takes no resp...   \n",
       "4  I've been an android user all my life until I decided to try iPhone XR for iOS. Loving the camera and battery life is an absolute joy to have. It's been more than one month since I got this phone and I'm loving it. Face ID works flawlessly even in the dark and the dual sim function is working li...   \n",
       "\n",
       "   Review rating out of 5  \\\n",
       "0                       3   \n",
       "1                       1   \n",
       "2                       5   \n",
       "3                       1   \n",
       "4                       5   \n",
       "\n",
       "                                                      review_title  \n",
       "0         Which iPhone you should Purchase ? iPhone 8, X, XS, XR ?  \n",
       "1                                 Don't buy iPhone xr from Amazon.  \n",
       "2                                          Happy with the purchase  \n",
       "3  Amazon is not an apple authorised reseller. Please take a note.  \n",
       "4                     Excellent Battery life and buttery smooth UI  "
      ]
     },
     "execution_count": 127,
     "metadata": {},
     "output_type": "execute_result"
    }
   ],
   "source": [
    "data.head()"
   ]
  },
  {
   "cell_type": "markdown",
   "id": "9bd3ea3e",
   "metadata": {},
   "source": [
    "### Preliminary Analysis"
   ]
  },
  {
   "cell_type": "code",
   "execution_count": 128,
   "id": "bf51247e",
   "metadata": {},
   "outputs": [
    {
     "name": "stdout",
     "output_type": "stream",
     "text": [
      "<class 'pandas.core.frame.DataFrame'>\n",
      "RangeIndex: 5010 entries, 0 to 5009\n",
      "Data columns (total 8 columns):\n",
      " #   Column                  Non-Null Count  Dtype \n",
      "---  ------                  --------------  ----- \n",
      " 0   product                 5010 non-null   object\n",
      " 1   helpful_count           5010 non-null   object\n",
      " 2   total_comments          5010 non-null   int64 \n",
      " 3   review_country          5010 non-null   object\n",
      " 4   reviewed_at             5010 non-null   object\n",
      " 5   review_text             5007 non-null   object\n",
      " 6   Review rating out of 5  5010 non-null   int64 \n",
      " 7   review_title            5008 non-null   object\n",
      "dtypes: int64(2), object(6)\n",
      "memory usage: 313.3+ KB\n"
     ]
    }
   ],
   "source": [
    "data.info()"
   ]
  },
  {
   "cell_type": "code",
   "execution_count": 129,
   "id": "babdd324",
   "metadata": {},
   "outputs": [
    {
     "data": {
      "text/html": [
       "<div>\n",
       "<style scoped>\n",
       "    .dataframe tbody tr th:only-of-type {\n",
       "        vertical-align: middle;\n",
       "    }\n",
       "\n",
       "    .dataframe tbody tr th {\n",
       "        vertical-align: top;\n",
       "    }\n",
       "\n",
       "    .dataframe thead th {\n",
       "        text-align: right;\n",
       "    }\n",
       "</style>\n",
       "<table border=\"1\" class=\"dataframe\">\n",
       "  <thead>\n",
       "    <tr style=\"text-align: right;\">\n",
       "      <th></th>\n",
       "      <th>product</th>\n",
       "      <th>helpful_count</th>\n",
       "      <th>total_comments</th>\n",
       "      <th>review_country</th>\n",
       "      <th>reviewed_at</th>\n",
       "      <th>review_text</th>\n",
       "      <th>rating</th>\n",
       "      <th>review_title</th>\n",
       "    </tr>\n",
       "  </thead>\n",
       "  <tbody>\n",
       "    <tr>\n",
       "      <th>0</th>\n",
       "      <td>Apple iPhone XR (64GB) - Black</td>\n",
       "      <td>5087</td>\n",
       "      <td>24</td>\n",
       "      <td>India</td>\n",
       "      <td>12/12/18</td>\n",
       "      <td>NOTE:</td>\n",
       "      <td>3</td>\n",
       "      <td>Which iPhone you should Purchase ? iPhone 8, X, XS, XR ?</td>\n",
       "    </tr>\n",
       "    <tr>\n",
       "      <th>1</th>\n",
       "      <td>Apple iPhone XR (64GB) - Black</td>\n",
       "      <td>2822</td>\n",
       "      <td>6</td>\n",
       "      <td>India</td>\n",
       "      <td>11/17/18</td>\n",
       "      <td>Very bad experience with this iPhone xr phone. Back camera found defective and non functional. Amazon is very careless. I haven't got any response on confirmation for replacing. I am just hanging with a damaged piece worth of more than 91000 rupees.</td>\n",
       "      <td>1</td>\n",
       "      <td>Don't buy iPhone xr from Amazon.</td>\n",
       "    </tr>\n",
       "    <tr>\n",
       "      <th>2</th>\n",
       "      <td>Apple iPhone XR (64GB) - Black</td>\n",
       "      <td>1798</td>\n",
       "      <td>0</td>\n",
       "      <td>India</td>\n",
       "      <td>1/27/19</td>\n",
       "      <td>Amazing phone with amazing camera coming from iPhone 7 plus great service from amazon</td>\n",
       "      <td>5</td>\n",
       "      <td>Happy with the purchase</td>\n",
       "    </tr>\n",
       "    <tr>\n",
       "      <th>3</th>\n",
       "      <td>Apple iPhone XR (64GB) - Black</td>\n",
       "      <td>1366</td>\n",
       "      <td>14</td>\n",
       "      <td>India</td>\n",
       "      <td>5/2/19</td>\n",
       "      <td>So I got the iPhone XR just today. The product looks amazing. But unfortunately the Face ID is not working and there’s a glitch in the front camera’s portrait mode. That’s fine, it may happen. But what’s not fine is the pathetic service provided by amazon and apple. Firstly, amazon takes no resp...</td>\n",
       "      <td>1</td>\n",
       "      <td>Amazon is not an apple authorised reseller. Please take a note.</td>\n",
       "    </tr>\n",
       "    <tr>\n",
       "      <th>4</th>\n",
       "      <td>Apple iPhone XR (64GB) - Black</td>\n",
       "      <td>536</td>\n",
       "      <td>5</td>\n",
       "      <td>India</td>\n",
       "      <td>5/24/19</td>\n",
       "      <td>I've been an android user all my life until I decided to try iPhone XR for iOS. Loving the camera and battery life is an absolute joy to have. It's been more than one month since I got this phone and I'm loving it. Face ID works flawlessly even in the dark and the dual sim function is working li...</td>\n",
       "      <td>5</td>\n",
       "      <td>Excellent Battery life and buttery smooth UI</td>\n",
       "    </tr>\n",
       "  </tbody>\n",
       "</table>\n",
       "</div>"
      ],
      "text/plain": [
       "                          product  helpful_count  total_comments  \\\n",
       "0  Apple iPhone XR (64GB) - Black           5087              24   \n",
       "1  Apple iPhone XR (64GB) - Black           2822               6   \n",
       "2  Apple iPhone XR (64GB) - Black           1798               0   \n",
       "3  Apple iPhone XR (64GB) - Black           1366              14   \n",
       "4  Apple iPhone XR (64GB) - Black            536               5   \n",
       "\n",
       "  review_country reviewed_at  \\\n",
       "0         India     12/12/18   \n",
       "1         India     11/17/18   \n",
       "2         India      1/27/19   \n",
       "3         India       5/2/19   \n",
       "4         India      5/24/19   \n",
       "\n",
       "                                                                                                                                                                                                                                                                                                   review_text  \\\n",
       "0                                                                                                                                                                                                                                                                                                        NOTE:   \n",
       "1                                                    Very bad experience with this iPhone xr phone. Back camera found defective and non functional. Amazon is very careless. I haven't got any response on confirmation for replacing. I am just hanging with a damaged piece worth of more than 91000 rupees.   \n",
       "2                                                                                                                                                                                                                        Amazing phone with amazing camera coming from iPhone 7 plus great service from amazon   \n",
       "3  So I got the iPhone XR just today. The product looks amazing. But unfortunately the Face ID is not working and there’s a glitch in the front camera’s portrait mode. That’s fine, it may happen. But what’s not fine is the pathetic service provided by amazon and apple. Firstly, amazon takes no resp...   \n",
       "4  I've been an android user all my life until I decided to try iPhone XR for iOS. Loving the camera and battery life is an absolute joy to have. It's been more than one month since I got this phone and I'm loving it. Face ID works flawlessly even in the dark and the dual sim function is working li...   \n",
       "\n",
       "   rating                                                     review_title  \n",
       "0       3         Which iPhone you should Purchase ? iPhone 8, X, XS, XR ?  \n",
       "1       1                                 Don't buy iPhone xr from Amazon.  \n",
       "2       5                                          Happy with the purchase  \n",
       "3       1  Amazon is not an apple authorised reseller. Please take a note.  \n",
       "4       5                     Excellent Battery life and buttery smooth UI  "
      ]
     },
     "execution_count": 129,
     "metadata": {},
     "output_type": "execute_result"
    }
   ],
   "source": [
    "data.rename(columns={'Review rating out of 5': 'rating'},inplace=True)\n",
    "data['helpful_count'] = data['helpful_count'].str.replace(',', '').astype(int)\n",
    "data.head()\n"
   ]
  },
  {
   "cell_type": "code",
   "execution_count": 130,
   "id": "f0cbf2fd",
   "metadata": {},
   "outputs": [
    {
     "data": {
      "text/plain": [
       "(5010, 8)"
      ]
     },
     "execution_count": 130,
     "metadata": {},
     "output_type": "execute_result"
    }
   ],
   "source": [
    "data.shape"
   ]
  },
  {
   "cell_type": "code",
   "execution_count": 131,
   "id": "4c96c6c1",
   "metadata": {},
   "outputs": [
    {
     "data": {
      "text/plain": [
       "np.int64(38)"
      ]
     },
     "execution_count": 131,
     "metadata": {},
     "output_type": "execute_result"
    }
   ],
   "source": [
    "data.duplicated().sum()"
   ]
  },
  {
   "cell_type": "code",
   "execution_count": 132,
   "id": "5e6719bc",
   "metadata": {},
   "outputs": [
    {
     "data": {
      "text/plain": [
       "product           0\n",
       "helpful_count     0\n",
       "total_comments    0\n",
       "review_country    0\n",
       "reviewed_at       0\n",
       "review_text       3\n",
       "rating            0\n",
       "review_title      2\n",
       "dtype: int64"
      ]
     },
     "execution_count": 132,
     "metadata": {},
     "output_type": "execute_result"
    }
   ],
   "source": [
    "data.drop_duplicates(inplace=True)\n",
    "data.isnull().sum()"
   ]
  },
  {
   "cell_type": "code",
   "execution_count": 133,
   "id": "f89ece7a",
   "metadata": {},
   "outputs": [
    {
     "data": {
      "text/plain": [
       "(4969, 8)"
      ]
     },
     "execution_count": 133,
     "metadata": {},
     "output_type": "execute_result"
    }
   ],
   "source": [
    "data.dropna(inplace=True)\n",
    "data.shape"
   ]
  },
  {
   "cell_type": "code",
   "execution_count": 134,
   "id": "2ca7aa5c",
   "metadata": {},
   "outputs": [
    {
     "data": {
      "text/html": [
       "<div>\n",
       "<style scoped>\n",
       "    .dataframe tbody tr th:only-of-type {\n",
       "        vertical-align: middle;\n",
       "    }\n",
       "\n",
       "    .dataframe tbody tr th {\n",
       "        vertical-align: top;\n",
       "    }\n",
       "\n",
       "    .dataframe thead th {\n",
       "        text-align: right;\n",
       "    }\n",
       "</style>\n",
       "<table border=\"1\" class=\"dataframe\">\n",
       "  <thead>\n",
       "    <tr style=\"text-align: right;\">\n",
       "      <th></th>\n",
       "      <th>helpful_count</th>\n",
       "      <th>total_comments</th>\n",
       "      <th>rating</th>\n",
       "    </tr>\n",
       "  </thead>\n",
       "  <tbody>\n",
       "    <tr>\n",
       "      <th>count</th>\n",
       "      <td>4969.000000</td>\n",
       "      <td>4969.000000</td>\n",
       "      <td>4969.000000</td>\n",
       "    </tr>\n",
       "    <tr>\n",
       "      <th>mean</th>\n",
       "      <td>2.946267</td>\n",
       "      <td>0.019924</td>\n",
       "      <td>4.491246</td>\n",
       "    </tr>\n",
       "    <tr>\n",
       "      <th>std</th>\n",
       "      <td>89.076844</td>\n",
       "      <td>0.424451</td>\n",
       "      <td>1.082717</td>\n",
       "    </tr>\n",
       "    <tr>\n",
       "      <th>min</th>\n",
       "      <td>0.000000</td>\n",
       "      <td>0.000000</td>\n",
       "      <td>1.000000</td>\n",
       "    </tr>\n",
       "    <tr>\n",
       "      <th>25%</th>\n",
       "      <td>0.000000</td>\n",
       "      <td>0.000000</td>\n",
       "      <td>4.000000</td>\n",
       "    </tr>\n",
       "    <tr>\n",
       "      <th>50%</th>\n",
       "      <td>0.000000</td>\n",
       "      <td>0.000000</td>\n",
       "      <td>5.000000</td>\n",
       "    </tr>\n",
       "    <tr>\n",
       "      <th>75%</th>\n",
       "      <td>0.000000</td>\n",
       "      <td>0.000000</td>\n",
       "      <td>5.000000</td>\n",
       "    </tr>\n",
       "    <tr>\n",
       "      <th>max</th>\n",
       "      <td>5087.000000</td>\n",
       "      <td>24.000000</td>\n",
       "      <td>5.000000</td>\n",
       "    </tr>\n",
       "  </tbody>\n",
       "</table>\n",
       "</div>"
      ],
      "text/plain": [
       "       helpful_count  total_comments       rating\n",
       "count    4969.000000     4969.000000  4969.000000\n",
       "mean        2.946267        0.019924     4.491246\n",
       "std        89.076844        0.424451     1.082717\n",
       "min         0.000000        0.000000     1.000000\n",
       "25%         0.000000        0.000000     4.000000\n",
       "50%         0.000000        0.000000     5.000000\n",
       "75%         0.000000        0.000000     5.000000\n",
       "max      5087.000000       24.000000     5.000000"
      ]
     },
     "execution_count": 134,
     "metadata": {},
     "output_type": "execute_result"
    }
   ],
   "source": [
    "data.describe()"
   ]
  },
  {
   "cell_type": "code",
   "execution_count": 135,
   "id": "8ed84891",
   "metadata": {},
   "outputs": [
    {
     "data": {
      "image/png": "[encoded data removed]",
      "text/plain": [
       "<Figure size 640x480 with 1 Axes>"
      ]
     },
     "metadata": {},
     "output_type": "display_data"
    }
   ],
   "source": [
    "sns.countplot(x='rating', data=data)\n",
    "plt.xlabel(\"Ratings\")\n",
    "plt.ylabel(\"Count ot Ratings\")\n",
    "plt.show()"
   ]
  },
  {
   "cell_type": "code",
   "execution_count": 136,
   "id": "9ea232b0",
   "metadata": {},
   "outputs": [
    {
     "data": {
      "text/html": [
       "<div>\n",
       "<style scoped>\n",
       "    .dataframe tbody tr th:only-of-type {\n",
       "        vertical-align: middle;\n",
       "    }\n",
       "\n",
       "    .dataframe tbody tr th {\n",
       "        vertical-align: top;\n",
       "    }\n",
       "\n",
       "    .dataframe thead th {\n",
       "        text-align: right;\n",
       "    }\n",
       "</style>\n",
       "<table border=\"1\" class=\"dataframe\">\n",
       "  <thead>\n",
       "    <tr style=\"text-align: right;\">\n",
       "      <th></th>\n",
       "      <th>rating</th>\n",
       "      <th>helpful_mean_amount</th>\n",
       "      <th>helpful_max_amount</th>\n",
       "      <th>helpful_total_amount</th>\n",
       "      <th>count</th>\n",
       "    </tr>\n",
       "  </thead>\n",
       "  <tbody>\n",
       "    <tr>\n",
       "      <th>0</th>\n",
       "      <td>1</td>\n",
       "      <td>17.079872</td>\n",
       "      <td>2822</td>\n",
       "      <td>5346</td>\n",
       "      <td>313</td>\n",
       "    </tr>\n",
       "    <tr>\n",
       "      <th>1</th>\n",
       "      <td>2</td>\n",
       "      <td>1.252874</td>\n",
       "      <td>62</td>\n",
       "      <td>109</td>\n",
       "      <td>87</td>\n",
       "    </tr>\n",
       "    <tr>\n",
       "      <th>2</th>\n",
       "      <td>3</td>\n",
       "      <td>34.493421</td>\n",
       "      <td>5087</td>\n",
       "      <td>5243</td>\n",
       "      <td>152</td>\n",
       "    </tr>\n",
       "    <tr>\n",
       "      <th>3</th>\n",
       "      <td>4</td>\n",
       "      <td>0.357243</td>\n",
       "      <td>124</td>\n",
       "      <td>254</td>\n",
       "      <td>711</td>\n",
       "    </tr>\n",
       "    <tr>\n",
       "      <th>4</th>\n",
       "      <td>5</td>\n",
       "      <td>0.995143</td>\n",
       "      <td>1798</td>\n",
       "      <td>3688</td>\n",
       "      <td>3706</td>\n",
       "    </tr>\n",
       "  </tbody>\n",
       "</table>\n",
       "</div>"
      ],
      "text/plain": [
       "   rating  helpful_mean_amount  helpful_max_amount  helpful_total_amount  \\\n",
       "0       1            17.079872                2822                  5346   \n",
       "1       2             1.252874                  62                   109   \n",
       "2       3            34.493421                5087                  5243   \n",
       "3       4             0.357243                 124                   254   \n",
       "4       5             0.995143                1798                  3688   \n",
       "\n",
       "   count  \n",
       "0    313  \n",
       "1     87  \n",
       "2    152  \n",
       "3    711  \n",
       "4   3706  "
      ]
     },
     "execution_count": 136,
     "metadata": {},
     "output_type": "execute_result"
    }
   ],
   "source": [
    "helpful_rating_group = data.groupby('rating')['helpful_count'].agg(\n",
    "    helpful_mean_amount='mean',\n",
    "    helpful_max_amount='max',\n",
    "    helpful_total_amount='sum',\n",
    "    count = 'count'\n",
    ").reset_index()\n",
    "helpful_rating_group"
   ]
  },
  {
   "cell_type": "code",
   "execution_count": 137,
   "id": "9b040d63",
   "metadata": {},
   "outputs": [
    {
     "data": {
      "text/html": [
       "<div>\n",
       "<style scoped>\n",
       "    .dataframe tbody tr th:only-of-type {\n",
       "        vertical-align: middle;\n",
       "    }\n",
       "\n",
       "    .dataframe tbody tr th {\n",
       "        vertical-align: top;\n",
       "    }\n",
       "\n",
       "    .dataframe thead th {\n",
       "        text-align: right;\n",
       "    }\n",
       "</style>\n",
       "<table border=\"1\" class=\"dataframe\">\n",
       "  <thead>\n",
       "    <tr style=\"text-align: right;\">\n",
       "      <th></th>\n",
       "      <th>rating</th>\n",
       "      <th>total_comments_mean_amount</th>\n",
       "      <th>total_comments_max_amount</th>\n",
       "      <th>total_comments_total_amount</th>\n",
       "    </tr>\n",
       "  </thead>\n",
       "  <tbody>\n",
       "    <tr>\n",
       "      <th>0</th>\n",
       "      <td>1</td>\n",
       "      <td>0.134185</td>\n",
       "      <td>14</td>\n",
       "      <td>42</td>\n",
       "    </tr>\n",
       "    <tr>\n",
       "      <th>1</th>\n",
       "      <td>2</td>\n",
       "      <td>0.022989</td>\n",
       "      <td>1</td>\n",
       "      <td>2</td>\n",
       "    </tr>\n",
       "    <tr>\n",
       "      <th>2</th>\n",
       "      <td>3</td>\n",
       "      <td>0.171053</td>\n",
       "      <td>24</td>\n",
       "      <td>26</td>\n",
       "    </tr>\n",
       "    <tr>\n",
       "      <th>3</th>\n",
       "      <td>4</td>\n",
       "      <td>0.008439</td>\n",
       "      <td>1</td>\n",
       "      <td>6</td>\n",
       "    </tr>\n",
       "    <tr>\n",
       "      <th>4</th>\n",
       "      <td>5</td>\n",
       "      <td>0.006206</td>\n",
       "      <td>5</td>\n",
       "      <td>23</td>\n",
       "    </tr>\n",
       "  </tbody>\n",
       "</table>\n",
       "</div>"
      ],
      "text/plain": [
       "   rating  total_comments_mean_amount  total_comments_max_amount  \\\n",
       "0       1                    0.134185                         14   \n",
       "1       2                    0.022989                          1   \n",
       "2       3                    0.171053                         24   \n",
       "3       4                    0.008439                          1   \n",
       "4       5                    0.006206                          5   \n",
       "\n",
       "   total_comments_total_amount  \n",
       "0                           42  \n",
       "1                            2  \n",
       "2                           26  \n",
       "3                            6  \n",
       "4                           23  "
      ]
     },
     "execution_count": 137,
     "metadata": {},
     "output_type": "execute_result"
    }
   ],
   "source": [
    "total_comments_rating_group = data.groupby('rating')['total_comments'].agg(\n",
    "    total_comments_mean_amount='mean',\n",
    "    total_comments_max_amount='max',\n",
    "    total_comments_total_amount='sum',\n",
    ").reset_index()\n",
    "total_comments_rating_group"
   ]
  },
  {
   "cell_type": "code",
   "execution_count": 138,
   "id": "56658c68",
   "metadata": {},
   "outputs": [
    {
     "data": {
      "text/html": [
       "<div>\n",
       "<style scoped>\n",
       "    .dataframe tbody tr th:only-of-type {\n",
       "        vertical-align: middle;\n",
       "    }\n",
       "\n",
       "    .dataframe tbody tr th {\n",
       "        vertical-align: top;\n",
       "    }\n",
       "\n",
       "    .dataframe thead th {\n",
       "        text-align: right;\n",
       "    }\n",
       "</style>\n",
       "<table border=\"1\" class=\"dataframe\">\n",
       "  <thead>\n",
       "    <tr style=\"text-align: right;\">\n",
       "      <th></th>\n",
       "      <th>rating</th>\n",
       "      <th>total_comments_mean_amount</th>\n",
       "      <th>total_comments_max_amount</th>\n",
       "      <th>total_comments_total_amount</th>\n",
       "      <th>helpful_mean_amount</th>\n",
       "      <th>helpful_max_amount</th>\n",
       "      <th>helpful_total_amount</th>\n",
       "      <th>count</th>\n",
       "    </tr>\n",
       "  </thead>\n",
       "  <tbody>\n",
       "    <tr>\n",
       "      <th>0</th>\n",
       "      <td>1</td>\n",
       "      <td>0.134185</td>\n",
       "      <td>14</td>\n",
       "      <td>42</td>\n",
       "      <td>17.079872</td>\n",
       "      <td>2822</td>\n",
       "      <td>5346</td>\n",
       "      <td>313</td>\n",
       "    </tr>\n",
       "    <tr>\n",
       "      <th>1</th>\n",
       "      <td>2</td>\n",
       "      <td>0.022989</td>\n",
       "      <td>1</td>\n",
       "      <td>2</td>\n",
       "      <td>1.252874</td>\n",
       "      <td>62</td>\n",
       "      <td>109</td>\n",
       "      <td>87</td>\n",
       "    </tr>\n",
       "    <tr>\n",
       "      <th>2</th>\n",
       "      <td>3</td>\n",
       "      <td>0.171053</td>\n",
       "      <td>24</td>\n",
       "      <td>26</td>\n",
       "      <td>34.493421</td>\n",
       "      <td>5087</td>\n",
       "      <td>5243</td>\n",
       "      <td>152</td>\n",
       "    </tr>\n",
       "    <tr>\n",
       "      <th>3</th>\n",
       "      <td>4</td>\n",
       "      <td>0.008439</td>\n",
       "      <td>1</td>\n",
       "      <td>6</td>\n",
       "      <td>0.357243</td>\n",
       "      <td>124</td>\n",
       "      <td>254</td>\n",
       "      <td>711</td>\n",
       "    </tr>\n",
       "    <tr>\n",
       "      <th>4</th>\n",
       "      <td>5</td>\n",
       "      <td>0.006206</td>\n",
       "      <td>5</td>\n",
       "      <td>23</td>\n",
       "      <td>0.995143</td>\n",
       "      <td>1798</td>\n",
       "      <td>3688</td>\n",
       "      <td>3706</td>\n",
       "    </tr>\n",
       "  </tbody>\n",
       "</table>\n",
       "</div>"
      ],
      "text/plain": [
       "   rating  total_comments_mean_amount  total_comments_max_amount  \\\n",
       "0       1                    0.134185                         14   \n",
       "1       2                    0.022989                          1   \n",
       "2       3                    0.171053                         24   \n",
       "3       4                    0.008439                          1   \n",
       "4       5                    0.006206                          5   \n",
       "\n",
       "   total_comments_total_amount  helpful_mean_amount  helpful_max_amount  \\\n",
       "0                           42            17.079872                2822   \n",
       "1                            2             1.252874                  62   \n",
       "2                           26            34.493421                5087   \n",
       "3                            6             0.357243                 124   \n",
       "4                           23             0.995143                1798   \n",
       "\n",
       "   helpful_total_amount  count  \n",
       "0                  5346    313  \n",
       "1                   109     87  \n",
       "2                  5243    152  \n",
       "3                   254    711  \n",
       "4                  3688   3706  "
      ]
     },
     "execution_count": 138,
     "metadata": {},
     "output_type": "execute_result"
    }
   ],
   "source": [
    "total_comments_rating_group = total_comments_rating_group.merge(helpful_rating_group,how='left',on='rating')\n",
    "total_comments_rating_group"
   ]
  },
  {
   "cell_type": "markdown",
   "id": "bc6db94b",
   "metadata": {},
   "source": [
    "### Cleaning Data"
   ]
  },
  {
   "cell_type": "code",
   "execution_count": 139,
   "id": "b21d2891",
   "metadata": {},
   "outputs": [],
   "source": [
    "#cleaning the data from unnecessary data\n",
    "\n",
    "#replacing url with string URL\n",
    "def replace_url(text):\n",
    "    return re.sub('https?:\\/\\/\\S*|www\\.\\S+','URL',text)\n",
    "\n",
    "#removing html\n",
    "def remove_html(text):\n",
    "    return re.sub('<.*?>','',text)\n",
    "\n",
    "#replacing mentions with string user\n",
    "def replace_mentions(text):\n",
    "    return re.sub('@\\S*','user',text,flags=re.IGNORECASE)\n",
    "\n",
    "#replacing numbers with string number\n",
    "def replace_num(text):\n",
    "    return re.sub('^[+-]*?\\d{1,3}[- ]*?\\d{1,10}|\\d{10}','NUMBER',text)\n",
    "\n",
    "#replacing <3 with sring heart\n",
    "def replace_heart(text):\n",
    "    return re.sub('<3','HEART', text)\n",
    "\n",
    "#removing alphanumeric characters eg-XYZ123ABC\n",
    "def remove_alphanumeric(text):\n",
    "    return re.sub('\\w*\\d+\\w*','',text)\n",
    "\n",
    "#removing all english stopwords \n",
    "def remove_stopwords(text):\n",
    "    text = ' '.join([word for word in text.split() if word not in stopwords.words(\"english\")])\n",
    "    return text\n",
    "\n",
    "#removing punctuations\n",
    "def remove_punctuations(text):\n",
    "    text=''.join([word for word in text if word not in string.punctuation])\n",
    "    return text\n",
    "\n",
    "#reducing words to thier root form\n",
    "def lemmatization(text):\n",
    "    lm= WordNetLemmatizer()\n",
    "    text = ' '.join([lm.lemmatize(word, pos='v') for word in text.split()])\n",
    "    return text"
   ]
  },
  {
   "cell_type": "code",
   "execution_count": 140,
   "id": "9c4a2a5d",
   "metadata": {},
   "outputs": [],
   "source": [
    "def clean_text(text):\n",
    "    text=str(text).lower()\n",
    "    text = replace_url(text)\n",
    "    text = remove_html(text)\n",
    "    text = replace_mentions(text)\n",
    "    text = replace_num(text)\n",
    "    text = replace_heart(text)\n",
    "    text = remove_alphanumeric(text)\n",
    "    text = remove_stopwords(text)\n",
    "    text=remove_punctuations(text)\n",
    "    #text=stemming(text)\n",
    "    text=lemmatization(text)\n",
    "    return text"
   ]
  },
  {
   "cell_type": "code",
   "execution_count": 141,
   "id": "6df24bfb",
   "metadata": {},
   "outputs": [],
   "source": [
    "data['review_text']=data['review_text'].apply(clean_text)\n",
    "data['review_title']=data['review_title'].apply(clean_text)"
   ]
  },
  {
   "cell_type": "markdown",
   "id": "c98f1226",
   "metadata": {},
   "source": [
    "### Sentiment Analyis"
   ]
  },
  {
   "cell_type": "markdown",
   "id": "a80534b0",
   "metadata": {},
   "source": [
    "#### Textblob"
   ]
  },
  {
   "cell_type": "code",
   "execution_count": 142,
   "id": "1b4b9830",
   "metadata": {},
   "outputs": [],
   "source": [
    "data_textblob = data.copy()"
   ]
  },
  {
   "cell_type": "code",
   "execution_count": 143,
   "id": "6db32393",
   "metadata": {},
   "outputs": [],
   "source": [
    "polarity = []\n",
    "subjectivity = []\n",
    "for i in data_textblob['review_text'].values:\n",
    "    try:\n",
    "        analysis = TextBlob(i)\n",
    "        polarity.append(analysis.sentiment.polarity)\n",
    "        subjectivity.append(analysis.sentiment.subjectivity)\n",
    "    except:\n",
    "        polarity.append(0)\n",
    "        subjectivity.append(0)"
   ]
  },
  {
   "cell_type": "code",
   "execution_count": 144,
   "id": "1fe92322",
   "metadata": {},
   "outputs": [],
   "source": [
    "data_textblob['polarity'] = polarity\n",
    "data_textblob['subjectivity'] = subjectivity"
   ]
  },
  {
   "cell_type": "code",
   "execution_count": 145,
   "id": "fd835bb2",
   "metadata": {},
   "outputs": [
    {
     "data": {
      "text/html": [
       "<div>\n",
       "<style scoped>\n",
       "    .dataframe tbody tr th:only-of-type {\n",
       "        vertical-align: middle;\n",
       "    }\n",
       "\n",
       "    .dataframe tbody tr th {\n",
       "        vertical-align: top;\n",
       "    }\n",
       "\n",
       "    .dataframe thead th {\n",
       "        text-align: right;\n",
       "    }\n",
       "</style>\n",
       "<table border=\"1\" class=\"dataframe\">\n",
       "  <thead>\n",
       "    <tr style=\"text-align: right;\">\n",
       "      <th></th>\n",
       "      <th>product</th>\n",
       "      <th>helpful_count</th>\n",
       "      <th>total_comments</th>\n",
       "      <th>review_country</th>\n",
       "      <th>reviewed_at</th>\n",
       "      <th>review_text</th>\n",
       "      <th>rating</th>\n",
       "      <th>review_title</th>\n",
       "      <th>polarity</th>\n",
       "      <th>subjectivity</th>\n",
       "    </tr>\n",
       "  </thead>\n",
       "  <tbody>\n",
       "    <tr>\n",
       "      <th>0</th>\n",
       "      <td>Apple iPhone XR (64GB) - Black</td>\n",
       "      <td>5087</td>\n",
       "      <td>24</td>\n",
       "      <td>India</td>\n",
       "      <td>12/12/18</td>\n",
       "      <td>note</td>\n",
       "      <td>3</td>\n",
       "      <td>iphone purchase iphone x xs xr</td>\n",
       "      <td>0.000000</td>\n",
       "      <td>0.000000</td>\n",
       "    </tr>\n",
       "    <tr>\n",
       "      <th>1</th>\n",
       "      <td>Apple iPhone XR (64GB) - Black</td>\n",
       "      <td>2822</td>\n",
       "      <td>6</td>\n",
       "      <td>India</td>\n",
       "      <td>11/17/18</td>\n",
       "      <td>bad experience iphone xr phone back camera find defective non functional amazon careless get response confirmation replace hang damage piece worth rupees</td>\n",
       "      <td>1</td>\n",
       "      <td>buy iphone xr amazon</td>\n",
       "      <td>-0.225000</td>\n",
       "      <td>0.416667</td>\n",
       "    </tr>\n",
       "    <tr>\n",
       "      <th>2</th>\n",
       "      <td>Apple iPhone XR (64GB) - Black</td>\n",
       "      <td>1798</td>\n",
       "      <td>0</td>\n",
       "      <td>India</td>\n",
       "      <td>1/27/19</td>\n",
       "      <td>amaze phone amaze camera come iphone plus great service amazon</td>\n",
       "      <td>5</td>\n",
       "      <td>happy purchase</td>\n",
       "      <td>0.800000</td>\n",
       "      <td>0.750000</td>\n",
       "    </tr>\n",
       "    <tr>\n",
       "      <th>3</th>\n",
       "      <td>Apple iPhone XR (64GB) - Black</td>\n",
       "      <td>1366</td>\n",
       "      <td>14</td>\n",
       "      <td>India</td>\n",
       "      <td>5/2/19</td>\n",
       "      <td>get iphone xr today product look amaze unfortunately face id work there’s glitch front camera’s portrait mode that’s fine may happen what’s fine pathetic service provide amazon apple firstly amazon take responsibility product sell talk giant apple call market leaders go service centre run diagno...</td>\n",
       "      <td>1</td>\n",
       "      <td>amazon apple authorise reseller please take note</td>\n",
       "      <td>-0.040043</td>\n",
       "      <td>0.683983</td>\n",
       "    </tr>\n",
       "    <tr>\n",
       "      <th>4</th>\n",
       "      <td>Apple iPhone XR (64GB) - Black</td>\n",
       "      <td>536</td>\n",
       "      <td>5</td>\n",
       "      <td>India</td>\n",
       "      <td>5/24/19</td>\n",
       "      <td>android user life decide try iphone xr ios love camera battery life absolute joy have one month since get phone love it face id work flawlessly even dark dual sim function work like charm use vodafone primary sim jio esim face problem whatsoever</td>\n",
       "      <td>5</td>\n",
       "      <td>excellent battery life buttery smooth ui</td>\n",
       "      <td>0.464286</td>\n",
       "      <td>0.600000</td>\n",
       "    </tr>\n",
       "  </tbody>\n",
       "</table>\n",
       "</div>"
      ],
      "text/plain": [
       "                          product  helpful_count  total_comments  \\\n",
       "0  Apple iPhone XR (64GB) - Black           5087              24   \n",
       "1  Apple iPhone XR (64GB) - Black           2822               6   \n",
       "2  Apple iPhone XR (64GB) - Black           1798               0   \n",
       "3  Apple iPhone XR (64GB) - Black           1366              14   \n",
       "4  Apple iPhone XR (64GB) - Black            536               5   \n",
       "\n",
       "  review_country reviewed_at  \\\n",
       "0         India     12/12/18   \n",
       "1         India     11/17/18   \n",
       "2         India      1/27/19   \n",
       "3         India       5/2/19   \n",
       "4         India      5/24/19   \n",
       "\n",
       "                                                                                                                                                                                                                                                                                                   review_text  \\\n",
       "0                                                                                                                                                                                                                                                                                                         note   \n",
       "1                                                                                                                                                    bad experience iphone xr phone back camera find defective non functional amazon careless get response confirmation replace hang damage piece worth rupees   \n",
       "2                                                                                                                                                                                                                                               amaze phone amaze camera come iphone plus great service amazon   \n",
       "3  get iphone xr today product look amaze unfortunately face id work there’s glitch front camera’s portrait mode that’s fine may happen what’s fine pathetic service provide amazon apple firstly amazon take responsibility product sell talk giant apple call market leaders go service centre run diagno...   \n",
       "4                                                        android user life decide try iphone xr ios love camera battery life absolute joy have one month since get phone love it face id work flawlessly even dark dual sim function work like charm use vodafone primary sim jio esim face problem whatsoever   \n",
       "\n",
       "   rating                                      review_title  polarity  \\\n",
       "0       3                    iphone purchase iphone x xs xr  0.000000   \n",
       "1       1                              buy iphone xr amazon -0.225000   \n",
       "2       5                                    happy purchase  0.800000   \n",
       "3       1  amazon apple authorise reseller please take note -0.040043   \n",
       "4       5          excellent battery life buttery smooth ui  0.464286   \n",
       "\n",
       "   subjectivity  \n",
       "0      0.000000  \n",
       "1      0.416667  \n",
       "2      0.750000  \n",
       "3      0.683983  \n",
       "4      0.600000  "
      ]
     },
     "execution_count": 145,
     "metadata": {},
     "output_type": "execute_result"
    }
   ],
   "source": [
    "data_textblob.head()"
   ]
  },
  {
   "cell_type": "code",
   "execution_count": 146,
   "id": "efdb2849",
   "metadata": {},
   "outputs": [
    {
     "data": {
      "text/plain": [
       "count    4969.000000\n",
       "mean        0.460785\n",
       "std         0.385827\n",
       "min        -1.000000\n",
       "25%         0.097396\n",
       "50%         0.500000\n",
       "75%         0.700000\n",
       "max         1.000000\n",
       "Name: polarity, dtype: float64"
      ]
     },
     "execution_count": 146,
     "metadata": {},
     "output_type": "execute_result"
    }
   ],
   "source": [
    "data_textblob.polarity.describe()"
   ]
  },
  {
   "cell_type": "code",
   "execution_count": 147,
   "id": "1ca66480",
   "metadata": {},
   "outputs": [
    {
     "data": {
      "text/plain": [
       "<Axes: >"
      ]
     },
     "execution_count": 147,
     "metadata": {},
     "output_type": "execute_result"
    },
    {
     "data": {
      "image/png": "[encoded data removed]",
      "text/plain": [
       "<Figure size 640x480 with 1 Axes>"
      ]
     },
     "metadata": {},
     "output_type": "display_data"
    }
   ],
   "source": [
    "data_textblob.polarity.hist(bins=20)"
   ]
  },
  {
   "cell_type": "code",
   "execution_count": null,
   "id": "716d6988",
   "metadata": {},
   "outputs": [],
   "source": [
    "bins = np.linspace(-1, 1, 6) \n",
    "data_textblob['updated_rating'] = np.clip(np.digitize(data_textblob.polarity, bins, right=False), 1, 5)\n",
    "data_textblob['diff'] = data_textblob['updated_rating'] - data_textblob['rating']\n",
    "data_textblob['diff'].value_counts().sort_index()"
   ]
  },
  {
   "cell_type": "code",
   "execution_count": 149,
   "id": "8609553e",
   "metadata": {},
   "outputs": [
    {
     "data": {
      "text/html": [
       "<div>\n",
       "<style scoped>\n",
       "    .dataframe tbody tr th:only-of-type {\n",
       "        vertical-align: middle;\n",
       "    }\n",
       "\n",
       "    .dataframe tbody tr th {\n",
       "        vertical-align: top;\n",
       "    }\n",
       "\n",
       "    .dataframe thead th {\n",
       "        text-align: right;\n",
       "    }\n",
       "</style>\n",
       "<table border=\"1\" class=\"dataframe\">\n",
       "  <thead>\n",
       "    <tr style=\"text-align: right;\">\n",
       "      <th></th>\n",
       "      <th>product</th>\n",
       "      <th>helpful_count</th>\n",
       "      <th>total_comments</th>\n",
       "      <th>review_country</th>\n",
       "      <th>reviewed_at</th>\n",
       "      <th>review_text</th>\n",
       "      <th>rating</th>\n",
       "      <th>review_title</th>\n",
       "      <th>polarity</th>\n",
       "      <th>subjectivity</th>\n",
       "      <th>updated_rating</th>\n",
       "    </tr>\n",
       "  </thead>\n",
       "  <tbody>\n",
       "    <tr>\n",
       "      <th>0</th>\n",
       "      <td>Apple iPhone XR (64GB) - Black</td>\n",
       "      <td>5087</td>\n",
       "      <td>24</td>\n",
       "      <td>India</td>\n",
       "      <td>12/12/18</td>\n",
       "      <td>note</td>\n",
       "      <td>3</td>\n",
       "      <td>iphone purchase iphone x xs xr</td>\n",
       "      <td>0.000000</td>\n",
       "      <td>0.000000</td>\n",
       "      <td>3</td>\n",
       "    </tr>\n",
       "    <tr>\n",
       "      <th>1</th>\n",
       "      <td>Apple iPhone XR (64GB) - Black</td>\n",
       "      <td>2822</td>\n",
       "      <td>6</td>\n",
       "      <td>India</td>\n",
       "      <td>11/17/18</td>\n",
       "      <td>bad experience iphone xr phone back camera find defective non functional amazon careless get response confirmation replace hang damage piece worth rupees</td>\n",
       "      <td>1</td>\n",
       "      <td>buy iphone xr amazon</td>\n",
       "      <td>-0.225000</td>\n",
       "      <td>0.416667</td>\n",
       "      <td>2</td>\n",
       "    </tr>\n",
       "    <tr>\n",
       "      <th>2</th>\n",
       "      <td>Apple iPhone XR (64GB) - Black</td>\n",
       "      <td>1798</td>\n",
       "      <td>0</td>\n",
       "      <td>India</td>\n",
       "      <td>1/27/19</td>\n",
       "      <td>amaze phone amaze camera come iphone plus great service amazon</td>\n",
       "      <td>5</td>\n",
       "      <td>happy purchase</td>\n",
       "      <td>0.800000</td>\n",
       "      <td>0.750000</td>\n",
       "      <td>5</td>\n",
       "    </tr>\n",
       "    <tr>\n",
       "      <th>3</th>\n",
       "      <td>Apple iPhone XR (64GB) - Black</td>\n",
       "      <td>1366</td>\n",
       "      <td>14</td>\n",
       "      <td>India</td>\n",
       "      <td>5/2/19</td>\n",
       "      <td>get iphone xr today product look amaze unfortunately face id work there’s glitch front camera’s portrait mode that’s fine may happen what’s fine pathetic service provide amazon apple firstly amazon take responsibility product sell talk giant apple call market leaders go service centre run diagno...</td>\n",
       "      <td>1</td>\n",
       "      <td>amazon apple authorise reseller please take note</td>\n",
       "      <td>-0.040043</td>\n",
       "      <td>0.683983</td>\n",
       "      <td>3</td>\n",
       "    </tr>\n",
       "    <tr>\n",
       "      <th>4</th>\n",
       "      <td>Apple iPhone XR (64GB) - Black</td>\n",
       "      <td>536</td>\n",
       "      <td>5</td>\n",
       "      <td>India</td>\n",
       "      <td>5/24/19</td>\n",
       "      <td>android user life decide try iphone xr ios love camera battery life absolute joy have one month since get phone love it face id work flawlessly even dark dual sim function work like charm use vodafone primary sim jio esim face problem whatsoever</td>\n",
       "      <td>5</td>\n",
       "      <td>excellent battery life buttery smooth ui</td>\n",
       "      <td>0.464286</td>\n",
       "      <td>0.600000</td>\n",
       "      <td>4</td>\n",
       "    </tr>\n",
       "  </tbody>\n",
       "</table>\n",
       "</div>"
      ],
      "text/plain": [
       "                          product  helpful_count  total_comments  \\\n",
       "0  Apple iPhone XR (64GB) - Black           5087              24   \n",
       "1  Apple iPhone XR (64GB) - Black           2822               6   \n",
       "2  Apple iPhone XR (64GB) - Black           1798               0   \n",
       "3  Apple iPhone XR (64GB) - Black           1366              14   \n",
       "4  Apple iPhone XR (64GB) - Black            536               5   \n",
       "\n",
       "  review_country reviewed_at  \\\n",
       "0         India     12/12/18   \n",
       "1         India     11/17/18   \n",
       "2         India      1/27/19   \n",
       "3         India       5/2/19   \n",
       "4         India      5/24/19   \n",
       "\n",
       "                                                                                                                                                                                                                                                                                                   review_text  \\\n",
       "0                                                                                                                                                                                                                                                                                                         note   \n",
       "1                                                                                                                                                    bad experience iphone xr phone back camera find defective non functional amazon careless get response confirmation replace hang damage piece worth rupees   \n",
       "2                                                                                                                                                                                                                                               amaze phone amaze camera come iphone plus great service amazon   \n",
       "3  get iphone xr today product look amaze unfortunately face id work there’s glitch front camera’s portrait mode that’s fine may happen what’s fine pathetic service provide amazon apple firstly amazon take responsibility product sell talk giant apple call market leaders go service centre run diagno...   \n",
       "4                                                        android user life decide try iphone xr ios love camera battery life absolute joy have one month since get phone love it face id work flawlessly even dark dual sim function work like charm use vodafone primary sim jio esim face problem whatsoever   \n",
       "\n",
       "   rating                                      review_title  polarity  \\\n",
       "0       3                    iphone purchase iphone x xs xr  0.000000   \n",
       "1       1                              buy iphone xr amazon -0.225000   \n",
       "2       5                                    happy purchase  0.800000   \n",
       "3       1  amazon apple authorise reseller please take note -0.040043   \n",
       "4       5          excellent battery life buttery smooth ui  0.464286   \n",
       "\n",
       "   subjectivity  updated_rating  \n",
       "0      0.000000               3  \n",
       "1      0.416667               2  \n",
       "2      0.750000               5  \n",
       "3      0.683983               3  \n",
       "4      0.600000               4  "
      ]
     },
     "execution_count": 149,
     "metadata": {},
     "output_type": "execute_result"
    }
   ],
   "source": [
    "data_textblob.head()"
   ]
  },
  {
   "cell_type": "code",
   "execution_count": null,
   "id": "487d8dcd",
   "metadata": {},
   "outputs": [
    {
     "data": {
      "text/plain": [
       "diff\n",
       "-4       5\n",
       "-3      31\n",
       "-2     841\n",
       "-1    1359\n",
       " 0    2040\n",
       " 1     398\n",
       " 2     230\n",
       " 3      46\n",
       " 4      19\n",
       "Name: count, dtype: int64"
      ]
     },
     "execution_count": 158,
     "metadata": {},
     "output_type": "execute_result"
    }
   ],
   "source": []
  },
  {
   "cell_type": "markdown",
   "id": "387a7325",
   "metadata": {},
   "source": [
    "#### VADER"
   ]
  },
  {
   "cell_type": "code",
   "execution_count": 160,
   "id": "5d154ab4",
   "metadata": {},
   "outputs": [],
   "source": [
    "data_vader = data.copy()"
   ]
  },
  {
   "cell_type": "code",
   "execution_count": 163,
   "id": "f6929224",
   "metadata": {},
   "outputs": [],
   "source": [
    "from vaderSentiment.vaderSentiment import SentimentIntensityAnalyzer\n",
    "analyzer = SentimentIntensityAnalyzer()"
   ]
  },
  {
   "cell_type": "code",
   "execution_count": 164,
   "id": "ffd7e91e",
   "metadata": {},
   "outputs": [],
   "source": [
    "def vader_sentiment(text):\n",
    "    scores = analyzer.polarity_scores(text)\n",
    "    # Compound score summarizes overall sentiment in [-1,1]\n",
    "    compound = scores['compound']\n",
    "    if compound >= 0.05:\n",
    "        sentiment = \"Positive\"\n",
    "    elif compound <= -0.05:\n",
    "        sentiment = \"Negative\"\n",
    "    else:\n",
    "        sentiment = \"Neutral\"\n",
    "    return pd.Series([sentiment, compound])\n",
    "\n",
    "# Apply VADER sentiment analysis to DataFrame\n",
    "data_vader[['Sentiment', 'Compound_Score']] = data_vader['review_text'].apply(vader_sentiment)"
   ]
  },
  {
   "cell_type": "code",
   "execution_count": 166,
   "id": "a653604e",
   "metadata": {},
   "outputs": [
    {
     "data": {
      "text/html": [
       "<div>\n",
       "<style scoped>\n",
       "    .dataframe tbody tr th:only-of-type {\n",
       "        vertical-align: middle;\n",
       "    }\n",
       "\n",
       "    .dataframe tbody tr th {\n",
       "        vertical-align: top;\n",
       "    }\n",
       "\n",
       "    .dataframe thead th {\n",
       "        text-align: right;\n",
       "    }\n",
       "</style>\n",
       "<table border=\"1\" class=\"dataframe\">\n",
       "  <thead>\n",
       "    <tr style=\"text-align: right;\">\n",
       "      <th></th>\n",
       "      <th>product</th>\n",
       "      <th>helpful_count</th>\n",
       "      <th>total_comments</th>\n",
       "      <th>review_country</th>\n",
       "      <th>reviewed_at</th>\n",
       "      <th>review_text</th>\n",
       "      <th>rating</th>\n",
       "      <th>review_title</th>\n",
       "      <th>Sentiment</th>\n",
       "      <th>Compound_Score</th>\n",
       "    </tr>\n",
       "  </thead>\n",
       "  <tbody>\n",
       "    <tr>\n",
       "      <th>0</th>\n",
       "      <td>Apple iPhone XR (64GB) - Black</td>\n",
       "      <td>5087</td>\n",
       "      <td>24</td>\n",
       "      <td>India</td>\n",
       "      <td>12/12/18</td>\n",
       "      <td>note</td>\n",
       "      <td>3</td>\n",
       "      <td>iphone purchase iphone x xs xr</td>\n",
       "      <td>Neutral</td>\n",
       "      <td>0.0000</td>\n",
       "    </tr>\n",
       "    <tr>\n",
       "      <th>1</th>\n",
       "      <td>Apple iPhone XR (64GB) - Black</td>\n",
       "      <td>2822</td>\n",
       "      <td>6</td>\n",
       "      <td>India</td>\n",
       "      <td>11/17/18</td>\n",
       "      <td>bad experience iphone xr phone back camera find defective non functional amazon careless get response confirmation replace hang damage piece worth rupees</td>\n",
       "      <td>1</td>\n",
       "      <td>buy iphone xr amazon</td>\n",
       "      <td>Negative</td>\n",
       "      <td>-0.8591</td>\n",
       "    </tr>\n",
       "    <tr>\n",
       "      <th>2</th>\n",
       "      <td>Apple iPhone XR (64GB) - Black</td>\n",
       "      <td>1798</td>\n",
       "      <td>0</td>\n",
       "      <td>India</td>\n",
       "      <td>1/27/19</td>\n",
       "      <td>amaze phone amaze camera come iphone plus great service amazon</td>\n",
       "      <td>5</td>\n",
       "      <td>happy purchase</td>\n",
       "      <td>Positive</td>\n",
       "      <td>0.9153</td>\n",
       "    </tr>\n",
       "    <tr>\n",
       "      <th>3</th>\n",
       "      <td>Apple iPhone XR (64GB) - Black</td>\n",
       "      <td>1366</td>\n",
       "      <td>14</td>\n",
       "      <td>India</td>\n",
       "      <td>5/2/19</td>\n",
       "      <td>get iphone xr today product look amaze unfortunately face id work there’s glitch front camera’s portrait mode that’s fine may happen what’s fine pathetic service provide amazon apple firstly amazon take responsibility product sell talk giant apple call market leaders go service centre run diagno...</td>\n",
       "      <td>1</td>\n",
       "      <td>amazon apple authorise reseller please take note</td>\n",
       "      <td>Positive</td>\n",
       "      <td>0.8176</td>\n",
       "    </tr>\n",
       "    <tr>\n",
       "      <th>4</th>\n",
       "      <td>Apple iPhone XR (64GB) - Black</td>\n",
       "      <td>536</td>\n",
       "      <td>5</td>\n",
       "      <td>India</td>\n",
       "      <td>5/24/19</td>\n",
       "      <td>android user life decide try iphone xr ios love camera battery life absolute joy have one month since get phone love it face id work flawlessly even dark dual sim function work like charm use vodafone primary sim jio esim face problem whatsoever</td>\n",
       "      <td>5</td>\n",
       "      <td>excellent battery life buttery smooth ui</td>\n",
       "      <td>Positive</td>\n",
       "      <td>0.9477</td>\n",
       "    </tr>\n",
       "  </tbody>\n",
       "</table>\n",
       "</div>"
      ],
      "text/plain": [
       "                          product  helpful_count  total_comments  \\\n",
       "0  Apple iPhone XR (64GB) - Black           5087              24   \n",
       "1  Apple iPhone XR (64GB) - Black           2822               6   \n",
       "2  Apple iPhone XR (64GB) - Black           1798               0   \n",
       "3  Apple iPhone XR (64GB) - Black           1366              14   \n",
       "4  Apple iPhone XR (64GB) - Black            536               5   \n",
       "\n",
       "  review_country reviewed_at  \\\n",
       "0         India     12/12/18   \n",
       "1         India     11/17/18   \n",
       "2         India      1/27/19   \n",
       "3         India       5/2/19   \n",
       "4         India      5/24/19   \n",
       "\n",
       "                                                                                                                                                                                                                                                                                                   review_text  \\\n",
       "0                                                                                                                                                                                                                                                                                                         note   \n",
       "1                                                                                                                                                    bad experience iphone xr phone back camera find defective non functional amazon careless get response confirmation replace hang damage piece worth rupees   \n",
       "2                                                                                                                                                                                                                                               amaze phone amaze camera come iphone plus great service amazon   \n",
       "3  get iphone xr today product look amaze unfortunately face id work there’s glitch front camera’s portrait mode that’s fine may happen what’s fine pathetic service provide amazon apple firstly amazon take responsibility product sell talk giant apple call market leaders go service centre run diagno...   \n",
       "4                                                        android user life decide try iphone xr ios love camera battery life absolute joy have one month since get phone love it face id work flawlessly even dark dual sim function work like charm use vodafone primary sim jio esim face problem whatsoever   \n",
       "\n",
       "   rating                                      review_title Sentiment  \\\n",
       "0       3                    iphone purchase iphone x xs xr   Neutral   \n",
       "1       1                              buy iphone xr amazon  Negative   \n",
       "2       5                                    happy purchase  Positive   \n",
       "3       1  amazon apple authorise reseller please take note  Positive   \n",
       "4       5          excellent battery life buttery smooth ui  Positive   \n",
       "\n",
       "   Compound_Score  \n",
       "0          0.0000  \n",
       "1         -0.8591  \n",
       "2          0.9153  \n",
       "3          0.8176  \n",
       "4          0.9477  "
      ]
     },
     "execution_count": 166,
     "metadata": {},
     "output_type": "execute_result"
    }
   ],
   "source": [
    "data_vader.head()"
   ]
  },
  {
   "cell_type": "code",
   "execution_count": 168,
   "id": "37a7445a",
   "metadata": {},
   "outputs": [
    {
     "data": {
      "text/plain": [
       "<Axes: >"
      ]
     },
     "execution_count": 168,
     "metadata": {},
     "output_type": "execute_result"
    },
    {
     "data": {
      "image/png": "[encoded data removed]",
      "text/plain": [
       "<Figure size 640x480 with 1 Axes>"
      ]
     },
     "metadata": {},
     "output_type": "display_data"
    }
   ],
   "source": [
    "data_vader.Compound_Score.hist(bins=20)"
   ]
  },
  {
   "cell_type": "code",
   "execution_count": 169,
   "id": "e54a3a47",
   "metadata": {},
   "outputs": [
    {
     "data": {
      "text/plain": [
       "Sentiment\n",
       "Positive    3984\n",
       "Neutral      661\n",
       "Negative     324\n",
       "Name: count, dtype: int64"
      ]
     },
     "execution_count": 169,
     "metadata": {},
     "output_type": "execute_result"
    }
   ],
   "source": [
    "data_vader.Sentiment.value_counts()"
   ]
  },
  {
   "cell_type": "code",
   "execution_count": 171,
   "id": "80069be9",
   "metadata": {},
   "outputs": [
    {
     "data": {
      "text/plain": [
       "diff\n",
       "-4       5\n",
       "-3      57\n",
       "-2     492\n",
       "-1    1614\n",
       " 0    2159\n",
       " 1     423\n",
       " 2     128\n",
       " 3      69\n",
       " 4      22\n",
       "Name: count, dtype: int64"
      ]
     },
     "execution_count": 171,
     "metadata": {},
     "output_type": "execute_result"
    }
   ],
   "source": [
    "data_vader['updated_rating'] = np.clip(np.digitize(data_vader.Compound_Score, bins, right=False), 1, 5)\n",
    "data_vader['diff'] = data_vader['updated_rating'] - data_vader['rating']\n",
    "data_vader['diff'].value_counts().sort_index()"
   ]
  },
  {
   "cell_type": "markdown",
   "id": "77966edb",
   "metadata": {},
   "source": [
    "#### RoBERTa"
   ]
  },
  {
   "cell_type": "code",
   "execution_count": 175,
   "id": "5a8a3c5a",
   "metadata": {},
   "outputs": [],
   "source": [
    "data_RoBERTa = data.copy()"
   ]
  },
  {
   "cell_type": "code",
   "execution_count": 172,
   "id": "ffa84621",
   "metadata": {},
   "outputs": [],
   "source": [
    "from transformers import AutoTokenizer, AutoModelForSequenceClassification\n",
    "from scipy.special import softmax\n",
    "import torch"
   ]
  },
  {
   "cell_type": "code",
   "execution_count": 173,
   "id": "c9499f02",
   "metadata": {},
   "outputs": [],
   "source": [
    "MODEL = \"cardiffnlp/twitter-roberta-base-sentiment\"\n",
    "tokenizer = AutoTokenizer.from_pretrained(MODEL)\n",
    "model = AutoModelForSequenceClassification.from_pretrained(MODEL)"
   ]
  },
  {
   "cell_type": "code",
   "execution_count": null,
   "id": "4d8afa4c",
   "metadata": {},
   "outputs": [],
   "source": [
    "labels = ['Negative', 'Neutral', 'Positive']\n",
    "\n",
    "def analyze_sentiment(text):\n",
    "    encoded = tokenizer(text, return_tensors='pt', truncation=True)\n",
    "    with torch.no_grad():\n",
    "        output = model(**encoded)\n",
    "    scores = output.logits[0].numpy()\n",
    "    probs = softmax(scores)\n",
    "    sentiment = labels[probs.argmax()]\n",
    "    confidence = probs.max()\n",
    "    return sentiment, confidence"
   ]
  },
  {
   "cell_type": "code",
   "execution_count": 177,
   "id": "01d85ce6",
   "metadata": {},
   "outputs": [
    {
     "data": {
      "text/html": [
       "<div>\n",
       "<style scoped>\n",
       "    .dataframe tbody tr th:only-of-type {\n",
       "        vertical-align: middle;\n",
       "    }\n",
       "\n",
       "    .dataframe tbody tr th {\n",
       "        vertical-align: top;\n",
       "    }\n",
       "\n",
       "    .dataframe thead th {\n",
       "        text-align: right;\n",
       "    }\n",
       "</style>\n",
       "<table border=\"1\" class=\"dataframe\">\n",
       "  <thead>\n",
       "    <tr style=\"text-align: right;\">\n",
       "      <th></th>\n",
       "      <th>product</th>\n",
       "      <th>helpful_count</th>\n",
       "      <th>total_comments</th>\n",
       "      <th>review_country</th>\n",
       "      <th>reviewed_at</th>\n",
       "      <th>review_text</th>\n",
       "      <th>rating</th>\n",
       "      <th>review_title</th>\n",
       "      <th>Sentiment</th>\n",
       "      <th>Compound_Score</th>\n",
       "    </tr>\n",
       "  </thead>\n",
       "  <tbody>\n",
       "    <tr>\n",
       "      <th>0</th>\n",
       "      <td>Apple iPhone XR (64GB) - Black</td>\n",
       "      <td>5087</td>\n",
       "      <td>24</td>\n",
       "      <td>India</td>\n",
       "      <td>12/12/18</td>\n",
       "      <td>note</td>\n",
       "      <td>3</td>\n",
       "      <td>iphone purchase iphone x xs xr</td>\n",
       "      <td>Neutral</td>\n",
       "      <td>0.596637</td>\n",
       "    </tr>\n",
       "    <tr>\n",
       "      <th>1</th>\n",
       "      <td>Apple iPhone XR (64GB) - Black</td>\n",
       "      <td>2822</td>\n",
       "      <td>6</td>\n",
       "      <td>India</td>\n",
       "      <td>11/17/18</td>\n",
       "      <td>bad experience iphone xr phone back camera find defective non functional amazon careless get response confirmation replace hang damage piece worth rupees</td>\n",
       "      <td>1</td>\n",
       "      <td>buy iphone xr amazon</td>\n",
       "      <td>Negative</td>\n",
       "      <td>0.923555</td>\n",
       "    </tr>\n",
       "    <tr>\n",
       "      <th>2</th>\n",
       "      <td>Apple iPhone XR (64GB) - Black</td>\n",
       "      <td>1798</td>\n",
       "      <td>0</td>\n",
       "      <td>India</td>\n",
       "      <td>1/27/19</td>\n",
       "      <td>amaze phone amaze camera come iphone plus great service amazon</td>\n",
       "      <td>5</td>\n",
       "      <td>happy purchase</td>\n",
       "      <td>Positive</td>\n",
       "      <td>0.968462</td>\n",
       "    </tr>\n",
       "    <tr>\n",
       "      <th>3</th>\n",
       "      <td>Apple iPhone XR (64GB) - Black</td>\n",
       "      <td>1366</td>\n",
       "      <td>14</td>\n",
       "      <td>India</td>\n",
       "      <td>5/2/19</td>\n",
       "      <td>get iphone xr today product look amaze unfortunately face id work there’s glitch front camera’s portrait mode that’s fine may happen what’s fine pathetic service provide amazon apple firstly amazon take responsibility product sell talk giant apple call market leaders go service centre run diagno...</td>\n",
       "      <td>1</td>\n",
       "      <td>amazon apple authorise reseller please take note</td>\n",
       "      <td>Neutral</td>\n",
       "      <td>0.461643</td>\n",
       "    </tr>\n",
       "    <tr>\n",
       "      <th>4</th>\n",
       "      <td>Apple iPhone XR (64GB) - Black</td>\n",
       "      <td>536</td>\n",
       "      <td>5</td>\n",
       "      <td>India</td>\n",
       "      <td>5/24/19</td>\n",
       "      <td>android user life decide try iphone xr ios love camera battery life absolute joy have one month since get phone love it face id work flawlessly even dark dual sim function work like charm use vodafone primary sim jio esim face problem whatsoever</td>\n",
       "      <td>5</td>\n",
       "      <td>excellent battery life buttery smooth ui</td>\n",
       "      <td>Positive</td>\n",
       "      <td>0.946619</td>\n",
       "    </tr>\n",
       "  </tbody>\n",
       "</table>\n",
       "</div>"
      ],
      "text/plain": [
       "                          product  helpful_count  total_comments  \\\n",
       "0  Apple iPhone XR (64GB) - Black           5087              24   \n",
       "1  Apple iPhone XR (64GB) - Black           2822               6   \n",
       "2  Apple iPhone XR (64GB) - Black           1798               0   \n",
       "3  Apple iPhone XR (64GB) - Black           1366              14   \n",
       "4  Apple iPhone XR (64GB) - Black            536               5   \n",
       "\n",
       "  review_country reviewed_at  \\\n",
       "0         India     12/12/18   \n",
       "1         India     11/17/18   \n",
       "2         India      1/27/19   \n",
       "3         India       5/2/19   \n",
       "4         India      5/24/19   \n",
       "\n",
       "                                                                                                                                                                                                                                                                                                   review_text  \\\n",
       "0                                                                                                                                                                                                                                                                                                         note   \n",
       "1                                                                                                                                                    bad experience iphone xr phone back camera find defective non functional amazon careless get response confirmation replace hang damage piece worth rupees   \n",
       "2                                                                                                                                                                                                                                               amaze phone amaze camera come iphone plus great service amazon   \n",
       "3  get iphone xr today product look amaze unfortunately face id work there’s glitch front camera’s portrait mode that’s fine may happen what’s fine pathetic service provide amazon apple firstly amazon take responsibility product sell talk giant apple call market leaders go service centre run diagno...   \n",
       "4                                                        android user life decide try iphone xr ios love camera battery life absolute joy have one month since get phone love it face id work flawlessly even dark dual sim function work like charm use vodafone primary sim jio esim face problem whatsoever   \n",
       "\n",
       "   rating                                      review_title Sentiment  \\\n",
       "0       3                    iphone purchase iphone x xs xr   Neutral   \n",
       "1       1                              buy iphone xr amazon  Negative   \n",
       "2       5                                    happy purchase  Positive   \n",
       "3       1  amazon apple authorise reseller please take note   Neutral   \n",
       "4       5          excellent battery life buttery smooth ui  Positive   \n",
       "\n",
       "   Compound_Score  \n",
       "0        0.596637  \n",
       "1        0.923555  \n",
       "2        0.968462  \n",
       "3        0.461643  \n",
       "4        0.946619  "
      ]
     },
     "execution_count": 177,
     "metadata": {},
     "output_type": "execute_result"
    }
   ],
   "source": [
    "data_RoBERTa[['Sentiment', 'Compound_Score']] = data_RoBERTa['review_text'].apply(lambda x: pd.Series(analyze_sentiment(x)))\n",
    "data_RoBERTa.head()\n"
   ]
  },
  {
   "cell_type": "code",
   "execution_count": 178,
   "id": "eb865c8c",
   "metadata": {},
   "outputs": [
    {
     "data": {
      "text/plain": [
       "<Axes: >"
      ]
     },
     "execution_count": 178,
     "metadata": {},
     "output_type": "execute_result"
    },
    {
     "data": {
      "image/png": "[encoded data removed]",
      "text/plain": [
       "<Figure size 640x480 with 1 Axes>"
      ]
     },
     "metadata": {},
     "output_type": "display_data"
    }
   ],
   "source": [
    "data_RoBERTa.Compound_Score.hist(bins=20)"
   ]
  },
  {
   "cell_type": "code",
   "execution_count": 179,
   "id": "3d6bc66f",
   "metadata": {},
   "outputs": [
    {
     "data": {
      "text/plain": [
       "Sentiment\n",
       "Positive    3477\n",
       "Neutral     1206\n",
       "Negative     286\n",
       "Name: count, dtype: int64"
      ]
     },
     "execution_count": 179,
     "metadata": {},
     "output_type": "execute_result"
    }
   ],
   "source": [
    "data_RoBERTa.Sentiment.value_counts()"
   ]
  },
  {
   "cell_type": "code",
   "execution_count": 180,
   "id": "81040a8b",
   "metadata": {},
   "outputs": [
    {
     "data": {
      "text/plain": [
       "diff\n",
       "-3       1\n",
       "-2     521\n",
       "-1    1218\n",
       " 0    2371\n",
       " 1     437\n",
       " 2     168\n",
       " 3     149\n",
       " 4     104\n",
       "Name: count, dtype: int64"
      ]
     },
     "execution_count": 180,
     "metadata": {},
     "output_type": "execute_result"
    }
   ],
   "source": [
    "bins = np.linspace(0, 1, 6) \n",
    "data_RoBERTa['updated_rating'] = np.clip(np.digitize(data_RoBERTa.Compound_Score, bins, right=False), 1, 5)\n",
    "data_RoBERTa['diff'] = data_RoBERTa['updated_rating'] - data_RoBERTa['rating']\n",
    "data_RoBERTa['diff'].value_counts().sort_index()"
   ]
  },
  {
   "cell_type": "markdown",
   "id": "edf72ea9",
   "metadata": {},
   "source": [
    "#### Zero-Shot Classification"
   ]
  },
  {
   "cell_type": "code",
   "execution_count": 185,
   "id": "1719aa1e",
   "metadata": {},
   "outputs": [],
   "source": [
    "data_zero = data.copy()"
   ]
  },
  {
   "cell_type": "code",
   "execution_count": 187,
   "id": "8f0b7a20",
   "metadata": {},
   "outputs": [
    {
     "name": "stderr",
     "output_type": "stream",
     "text": [
      "Device set to use cpu\n"
     ]
    }
   ],
   "source": [
    "from transformers import pipeline\n",
    "\n",
    "classifier = pipeline(\"zero-shot-classification\", model=\"facebook/bart-large-mnli\")\n",
    "data_zero = data_zero[data_zero['review_text'].str.strip().ne(\"\")]\n",
    "\n",
    "candidate_labels = [\"Positive\", \"Negative\", \"Neutral\"]\n",
    "\n",
    "results = [classifier(text, candidate_labels) for text in data_zero.review_text]"
   ]
  },
  {
   "cell_type": "code",
   "execution_count": 188,
   "id": "7f9e1f42",
   "metadata": {},
   "outputs": [],
   "source": [
    "data_zero['Predicted_Sentiment'] = [res['labels'][0] for res in results]\n",
    "data_zero['Confidence_score'] = [res['scores'][0] for res in results]"
   ]
  },
  {
   "cell_type": "code",
   "execution_count": 189,
   "id": "5ec474e2",
   "metadata": {},
   "outputs": [
    {
     "data": {
      "text/plain": [
       "<Axes: >"
      ]
     },
     "execution_count": 189,
     "metadata": {},
     "output_type": "execute_result"
    },
    {
     "data": {
      "image/png": "[encoded data removed]",
      "text/plain": [
       "<Figure size 640x480 with 1 Axes>"
      ]
     },
     "metadata": {},
     "output_type": "display_data"
    }
   ],
   "source": [
    "data_zero.Confidence_score.hist(bins=20)"
   ]
  },
  {
   "cell_type": "code",
   "execution_count": 190,
   "id": "99ca998f",
   "metadata": {},
   "outputs": [
    {
     "data": {
      "text/plain": [
       "Predicted_Sentiment\n",
       "Positive    4141\n",
       "Negative     735\n",
       "Neutral       87\n",
       "Name: count, dtype: int64"
      ]
     },
     "execution_count": 190,
     "metadata": {},
     "output_type": "execute_result"
    }
   ],
   "source": [
    "data_zero.Predicted_Sentiment.value_counts()"
   ]
  },
  {
   "cell_type": "code",
   "execution_count": 191,
   "id": "04530a8c",
   "metadata": {},
   "outputs": [
    {
     "data": {
      "text/plain": [
       "diff\n",
       "-3      50\n",
       "-2     340\n",
       "-1     572\n",
       " 0    2995\n",
       " 1     567\n",
       " 2     159\n",
       " 3      96\n",
       " 4     184\n",
       "Name: count, dtype: int64"
      ]
     },
     "execution_count": 191,
     "metadata": {},
     "output_type": "execute_result"
    }
   ],
   "source": [
    "bins = np.linspace(0, 1, 6) \n",
    "data_zero['updated_rating'] = np.clip(np.digitize(data_zero.Confidence_score, bins, right=False), 1, 5)\n",
    "data_zero['diff'] = data_zero['updated_rating'] - data_zero['rating']\n",
    "data_zero['diff'].value_counts().sort_index()"
   ]
  }
 ],
 "metadata": {
  "kernelspec": {
   "display_name": "Python 3",
   "language": "python",
   "name": "python3"
  },
  "language_info": {
   "codemirror_mode": {
    "name": "ipython",
    "version": 3
   },
   "file_extension": ".py",
   "mimetype": "text/x-python",
   "name": "python",
   "nbconvert_exporter": "python",
   "pygments_lexer": "ipython3",
   "version": "3.13.2"
  }
 },
 "nbformat": 4,
 "nbformat_minor": 5
}
