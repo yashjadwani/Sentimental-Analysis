{
 "cells": [
  {
   "cell_type": "markdown",
   "id": "68a99557",
   "metadata": {},
   "source": [
    "# SENTIMENT ANALYSIS ON IPHONE REVIEWS"
   ]
  },
  {
   "cell_type": "markdown",
   "id": "b8786dfc",
   "metadata": {},
   "source": [
    "# IMPORTING PACKAGES"
   ]
  },
  {
   "cell_type": "code",
   "execution_count": 434,
   "id": "87e8d61c",
   "metadata": {},
   "outputs": [],
   "source": [
    "import pandas as pd\n",
    "import numpy as np\n",
    "pd.set_option('display.max_colwidth', 300)\n",
    "import matplotlib.pyplot as plt\n",
    "import seaborn as sns\n",
    "from collections import Counter\n",
    "import nltk\n",
    "from textblob import TextBlob\n",
    "import re\n",
    "import string\n",
    "import neattext.functions as nf\n",
    "import warnings\n",
    "warnings.filterwarnings(\"ignore\")"
   ]
  },
  {
   "cell_type": "markdown",
   "id": "72103cc0",
   "metadata": {},
   "source": [
    "# IMPORTING DATA"
   ]
  },
  {
   "cell_type": "code",
   "execution_count": 435,
   "id": "1157aefc",
   "metadata": {},
   "outputs": [],
   "source": [
    "data = pd.read_csv('apple_iphone_11_reviews.csv')"
   ]
  },
  {
   "cell_type": "code",
   "execution_count": 436,
   "id": "a99f87d9",
   "metadata": {},
   "outputs": [
    {
     "data": {
      "text/html": [
       "<div>\n",
       "<style scoped>\n",
       "    .dataframe tbody tr th:only-of-type {\n",
       "        vertical-align: middle;\n",
       "    }\n",
       "\n",
       "    .dataframe tbody tr th {\n",
       "        vertical-align: top;\n",
       "    }\n",
       "\n",
       "    .dataframe thead th {\n",
       "        text-align: right;\n",
       "    }\n",
       "</style>\n",
       "<table border=\"1\" class=\"dataframe\">\n",
       "  <thead>\n",
       "    <tr style=\"text-align: right;\">\n",
       "      <th></th>\n",
       "      <th>product</th>\n",
       "      <th>helpful_count</th>\n",
       "      <th>total_comments</th>\n",
       "      <th>review_country</th>\n",
       "      <th>reviewed_at</th>\n",
       "      <th>review_text</th>\n",
       "      <th>Review rating out of 5</th>\n",
       "      <th>review_title</th>\n",
       "    </tr>\n",
       "  </thead>\n",
       "  <tbody>\n",
       "    <tr>\n",
       "      <th>0</th>\n",
       "      <td>Apple iPhone XR (64GB) - Black</td>\n",
       "      <td>5,087</td>\n",
       "      <td>24</td>\n",
       "      <td>India</td>\n",
       "      <td>12/12/18</td>\n",
       "      <td>NOTE:</td>\n",
       "      <td>3</td>\n",
       "      <td>Which iPhone you should Purchase ? iPhone 8, X, XS, XR ?</td>\n",
       "    </tr>\n",
       "    <tr>\n",
       "      <th>1</th>\n",
       "      <td>Apple iPhone XR (64GB) - Black</td>\n",
       "      <td>2,822</td>\n",
       "      <td>6</td>\n",
       "      <td>India</td>\n",
       "      <td>11/17/18</td>\n",
       "      <td>Very bad experience with this iPhone xr phone. Back camera found defective and non functional. Amazon is very careless. I haven't got any response on confirmation for replacing. I am just hanging with a damaged piece worth of more than 91000 rupees.</td>\n",
       "      <td>1</td>\n",
       "      <td>Don't buy iPhone xr from Amazon.</td>\n",
       "    </tr>\n",
       "    <tr>\n",
       "      <th>2</th>\n",
       "      <td>Apple iPhone XR (64GB) - Black</td>\n",
       "      <td>1,798</td>\n",
       "      <td>0</td>\n",
       "      <td>India</td>\n",
       "      <td>1/27/19</td>\n",
       "      <td>Amazing phone with amazing camera coming from iPhone 7 plus great service from amazon</td>\n",
       "      <td>5</td>\n",
       "      <td>Happy with the purchase</td>\n",
       "    </tr>\n",
       "    <tr>\n",
       "      <th>3</th>\n",
       "      <td>Apple iPhone XR (64GB) - Black</td>\n",
       "      <td>1,366</td>\n",
       "      <td>14</td>\n",
       "      <td>India</td>\n",
       "      <td>5/2/19</td>\n",
       "      <td>So I got the iPhone XR just today. The product looks amazing. But unfortunately the Face ID is not working and there’s a glitch in the front camera’s portrait mode. That’s fine, it may happen. But what’s not fine is the pathetic service provided by amazon and apple. Firstly, amazon takes no resp...</td>\n",
       "      <td>1</td>\n",
       "      <td>Amazon is not an apple authorised reseller. Please take a note.</td>\n",
       "    </tr>\n",
       "    <tr>\n",
       "      <th>4</th>\n",
       "      <td>Apple iPhone XR (64GB) - Black</td>\n",
       "      <td>536</td>\n",
       "      <td>5</td>\n",
       "      <td>India</td>\n",
       "      <td>5/24/19</td>\n",
       "      <td>I've been an android user all my life until I decided to try iPhone XR for iOS. Loving the camera and battery life is an absolute joy to have. It's been more than one month since I got this phone and I'm loving it. Face ID works flawlessly even in the dark and the dual sim function is working li...</td>\n",
       "      <td>5</td>\n",
       "      <td>Excellent Battery life and buttery smooth UI</td>\n",
       "    </tr>\n",
       "    <tr>\n",
       "      <th>...</th>\n",
       "      <td>...</td>\n",
       "      <td>...</td>\n",
       "      <td>...</td>\n",
       "      <td>...</td>\n",
       "      <td>...</td>\n",
       "      <td>...</td>\n",
       "      <td>...</td>\n",
       "      <td>...</td>\n",
       "    </tr>\n",
       "    <tr>\n",
       "      <th>5005</th>\n",
       "      <td>Apple iPhone XR (64GB) - Black</td>\n",
       "      <td>0</td>\n",
       "      <td>0</td>\n",
       "      <td>India</td>\n",
       "      <td>11/13/19</td>\n",
       "      <td>Dhamaka</td>\n",
       "      <td>4</td>\n",
       "      <td>Dhamaka phone</td>\n",
       "    </tr>\n",
       "    <tr>\n",
       "      <th>5006</th>\n",
       "      <td>Apple iPhone XR (64GB) - Black</td>\n",
       "      <td>0</td>\n",
       "      <td>0</td>\n",
       "      <td>India</td>\n",
       "      <td>11/15/19</td>\n",
       "      <td>Goodbye</td>\n",
       "      <td>4</td>\n",
       "      <td>Good</td>\n",
       "    </tr>\n",
       "    <tr>\n",
       "      <th>5007</th>\n",
       "      <td>Apple iPhone XR (64GB) - Black</td>\n",
       "      <td>0</td>\n",
       "      <td>0</td>\n",
       "      <td>India</td>\n",
       "      <td>12/29/19</td>\n",
       "      <td>Nothing</td>\n",
       "      <td>5</td>\n",
       "      <td>Fantabulous phone. Easy to use.</td>\n",
       "    </tr>\n",
       "    <tr>\n",
       "      <th>5008</th>\n",
       "      <td>Apple iPhone XR (64GB) - Black</td>\n",
       "      <td>0</td>\n",
       "      <td>0</td>\n",
       "      <td>India</td>\n",
       "      <td>11/10/19</td>\n",
       "      <td>Superbb</td>\n",
       "      <td>5</td>\n",
       "      <td>Fantastic</td>\n",
       "    </tr>\n",
       "    <tr>\n",
       "      <th>5009</th>\n",
       "      <td>Apple iPhone XR (64GB) - Black</td>\n",
       "      <td>0</td>\n",
       "      <td>0</td>\n",
       "      <td>India</td>\n",
       "      <td>11/5/19</td>\n",
       "      <td>Nothing</td>\n",
       "      <td>5</td>\n",
       "      <td>Best purchase</td>\n",
       "    </tr>\n",
       "  </tbody>\n",
       "</table>\n",
       "<p>5010 rows × 8 columns</p>\n",
       "</div>"
      ],
      "text/plain": [
       "                             product helpful_count  total_comments  \\\n",
       "0     Apple iPhone XR (64GB) - Black         5,087              24   \n",
       "1     Apple iPhone XR (64GB) - Black         2,822               6   \n",
       "2     Apple iPhone XR (64GB) - Black         1,798               0   \n",
       "3     Apple iPhone XR (64GB) - Black         1,366              14   \n",
       "4     Apple iPhone XR (64GB) - Black           536               5   \n",
       "...                              ...           ...             ...   \n",
       "5005  Apple iPhone XR (64GB) - Black             0               0   \n",
       "5006  Apple iPhone XR (64GB) - Black             0               0   \n",
       "5007  Apple iPhone XR (64GB) - Black             0               0   \n",
       "5008  Apple iPhone XR (64GB) - Black             0               0   \n",
       "5009  Apple iPhone XR (64GB) - Black             0               0   \n",
       "\n",
       "     review_country reviewed_at  \\\n",
       "0            India     12/12/18   \n",
       "1            India     11/17/18   \n",
       "2            India      1/27/19   \n",
       "3            India       5/2/19   \n",
       "4            India      5/24/19   \n",
       "...             ...         ...   \n",
       "5005         India     11/13/19   \n",
       "5006         India     11/15/19   \n",
       "5007         India     12/29/19   \n",
       "5008         India     11/10/19   \n",
       "5009         India      11/5/19   \n",
       "\n",
       "                                                                                                                                                                                                                                                                                                      review_text  \\\n",
       "0                                                                                                                                                                                                                                                                                                           NOTE:   \n",
       "1                                                       Very bad experience with this iPhone xr phone. Back camera found defective and non functional. Amazon is very careless. I haven't got any response on confirmation for replacing. I am just hanging with a damaged piece worth of more than 91000 rupees.   \n",
       "2                                                                                                                                                                                                                           Amazing phone with amazing camera coming from iPhone 7 plus great service from amazon   \n",
       "3     So I got the iPhone XR just today. The product looks amazing. But unfortunately the Face ID is not working and there’s a glitch in the front camera’s portrait mode. That’s fine, it may happen. But what’s not fine is the pathetic service provided by amazon and apple. Firstly, amazon takes no resp...   \n",
       "4     I've been an android user all my life until I decided to try iPhone XR for iOS. Loving the camera and battery life is an absolute joy to have. It's been more than one month since I got this phone and I'm loving it. Face ID works flawlessly even in the dark and the dual sim function is working li...   \n",
       "...                                                                                                                                                                                                                                                                                                           ...   \n",
       "5005                                                                                                                                                                                                                                                                                                      Dhamaka   \n",
       "5006                                                                                                                                                                                                                                                                                                      Goodbye   \n",
       "5007                                                                                                                                                                                                                                                                                                      Nothing   \n",
       "5008                                                                                                                                                                                                                                                                                                      Superbb   \n",
       "5009                                                                                                                                                                                                                                                                                                      Nothing   \n",
       "\n",
       "      Review rating out of 5  \\\n",
       "0                          3   \n",
       "1                          1   \n",
       "2                          5   \n",
       "3                          1   \n",
       "4                          5   \n",
       "...                      ...   \n",
       "5005                       4   \n",
       "5006                       4   \n",
       "5007                       5   \n",
       "5008                       5   \n",
       "5009                       5   \n",
       "\n",
       "                                                         review_title  \n",
       "0            Which iPhone you should Purchase ? iPhone 8, X, XS, XR ?  \n",
       "1                                    Don't buy iPhone xr from Amazon.  \n",
       "2                                             Happy with the purchase  \n",
       "3     Amazon is not an apple authorised reseller. Please take a note.  \n",
       "4                        Excellent Battery life and buttery smooth UI  \n",
       "...                                                               ...  \n",
       "5005                                                    Dhamaka phone  \n",
       "5006                                                             Good  \n",
       "5007                                  Fantabulous phone. Easy to use.  \n",
       "5008                                                        Fantastic  \n",
       "5009                                                    Best purchase  \n",
       "\n",
       "[5010 rows x 8 columns]"
      ]
     },
     "execution_count": 436,
     "metadata": {},
     "output_type": "execute_result"
    }
   ],
   "source": [
    "data"
   ]
  },
  {
   "cell_type": "code",
   "execution_count": 437,
   "id": "8653db57",
   "metadata": {
    "scrolled": true
   },
   "outputs": [
    {
     "data": {
      "text/plain": [
       "2       False\n",
       "4       False\n",
       "6       False\n",
       "12      False\n",
       "14      False\n",
       "        ...  \n",
       "5003    False\n",
       "5004    False\n",
       "5007    False\n",
       "5008    False\n",
       "5009    False\n",
       "Name: Review rating out of 5, Length: 3731, dtype: bool"
      ]
     },
     "execution_count": 437,
     "metadata": {},
     "output_type": "execute_result"
    }
   ],
   "source": [
    "test = data.copy(deep=True)\n",
    "test.loc[test['Review rating out of 5'] == 5, 'Review rating out of 5'] == 'Positive'"
   ]
  },
  {
   "cell_type": "code",
   "execution_count": 438,
   "id": "f033fe2e",
   "metadata": {},
   "outputs": [],
   "source": [
    "data = data.rename(columns={\"Review rating out of 5\": \"review_rating\"})\n"
   ]
  },
  {
   "cell_type": "code",
   "execution_count": 439,
   "id": "924b1489",
   "metadata": {},
   "outputs": [
    {
     "data": {
      "text/plain": [
       "Text(0.5, 1.0, 'Rating Distribution - Review Rating')"
      ]
     },
     "execution_count": 439,
     "metadata": {},
     "output_type": "execute_result"
    },
    {
     "data": {
      "image/png": "[encoded data removed]",
      "text/plain": [
       "<Figure size 2400x1000 with 1 Axes>"
      ]
     },
     "metadata": {},
     "output_type": "display_data"
    }
   ],
   "source": [
    "fig, ax = plt.subplots(figsize=(24, 10))\n",
    "\n",
    "data.review_rating.value_counts().plot.barh( ax=ax)\n",
    "ax.set_title(\"Rating Distribution - Review Rating\")"
   ]
  },
  {
   "cell_type": "markdown",
   "id": "1dc76d57",
   "metadata": {},
   "source": [
    "# Displaying Data Information"
   ]
  },
  {
   "cell_type": "code",
   "execution_count": 440,
   "id": "46118f6f",
   "metadata": {},
   "outputs": [
    {
     "data": {
      "text/html": [
       "<div>\n",
       "<style scoped>\n",
       "    .dataframe tbody tr th:only-of-type {\n",
       "        vertical-align: middle;\n",
       "    }\n",
       "\n",
       "    .dataframe tbody tr th {\n",
       "        vertical-align: top;\n",
       "    }\n",
       "\n",
       "    .dataframe thead th {\n",
       "        text-align: right;\n",
       "    }\n",
       "</style>\n",
       "<table border=\"1\" class=\"dataframe\">\n",
       "  <thead>\n",
       "    <tr style=\"text-align: right;\">\n",
       "      <th></th>\n",
       "      <th>product</th>\n",
       "      <th>helpful_count</th>\n",
       "      <th>total_comments</th>\n",
       "      <th>review_country</th>\n",
       "      <th>reviewed_at</th>\n",
       "      <th>review_text</th>\n",
       "      <th>review_rating</th>\n",
       "      <th>review_title</th>\n",
       "    </tr>\n",
       "  </thead>\n",
       "  <tbody>\n",
       "    <tr>\n",
       "      <th>0</th>\n",
       "      <td>Apple iPhone XR (64GB) - Black</td>\n",
       "      <td>5,087</td>\n",
       "      <td>24</td>\n",
       "      <td>India</td>\n",
       "      <td>12/12/18</td>\n",
       "      <td>NOTE:</td>\n",
       "      <td>3</td>\n",
       "      <td>Which iPhone you should Purchase ? iPhone 8, X, XS, XR ?</td>\n",
       "    </tr>\n",
       "    <tr>\n",
       "      <th>1</th>\n",
       "      <td>Apple iPhone XR (64GB) - Black</td>\n",
       "      <td>2,822</td>\n",
       "      <td>6</td>\n",
       "      <td>India</td>\n",
       "      <td>11/17/18</td>\n",
       "      <td>Very bad experience with this iPhone xr phone. Back camera found defective and non functional. Amazon is very careless. I haven't got any response on confirmation for replacing. I am just hanging with a damaged piece worth of more than 91000 rupees.</td>\n",
       "      <td>1</td>\n",
       "      <td>Don't buy iPhone xr from Amazon.</td>\n",
       "    </tr>\n",
       "    <tr>\n",
       "      <th>2</th>\n",
       "      <td>Apple iPhone XR (64GB) - Black</td>\n",
       "      <td>1,798</td>\n",
       "      <td>0</td>\n",
       "      <td>India</td>\n",
       "      <td>1/27/19</td>\n",
       "      <td>Amazing phone with amazing camera coming from iPhone 7 plus great service from amazon</td>\n",
       "      <td>5</td>\n",
       "      <td>Happy with the purchase</td>\n",
       "    </tr>\n",
       "    <tr>\n",
       "      <th>3</th>\n",
       "      <td>Apple iPhone XR (64GB) - Black</td>\n",
       "      <td>1,366</td>\n",
       "      <td>14</td>\n",
       "      <td>India</td>\n",
       "      <td>5/2/19</td>\n",
       "      <td>So I got the iPhone XR just today. The product looks amazing. But unfortunately the Face ID is not working and there’s a glitch in the front camera’s portrait mode. That’s fine, it may happen. But what’s not fine is the pathetic service provided by amazon and apple. Firstly, amazon takes no resp...</td>\n",
       "      <td>1</td>\n",
       "      <td>Amazon is not an apple authorised reseller. Please take a note.</td>\n",
       "    </tr>\n",
       "    <tr>\n",
       "      <th>4</th>\n",
       "      <td>Apple iPhone XR (64GB) - Black</td>\n",
       "      <td>536</td>\n",
       "      <td>5</td>\n",
       "      <td>India</td>\n",
       "      <td>5/24/19</td>\n",
       "      <td>I've been an android user all my life until I decided to try iPhone XR for iOS. Loving the camera and battery life is an absolute joy to have. It's been more than one month since I got this phone and I'm loving it. Face ID works flawlessly even in the dark and the dual sim function is working li...</td>\n",
       "      <td>5</td>\n",
       "      <td>Excellent Battery life and buttery smooth UI</td>\n",
       "    </tr>\n",
       "  </tbody>\n",
       "</table>\n",
       "</div>"
      ],
      "text/plain": [
       "                          product helpful_count  total_comments  \\\n",
       "0  Apple iPhone XR (64GB) - Black         5,087              24   \n",
       "1  Apple iPhone XR (64GB) - Black         2,822               6   \n",
       "2  Apple iPhone XR (64GB) - Black         1,798               0   \n",
       "3  Apple iPhone XR (64GB) - Black         1,366              14   \n",
       "4  Apple iPhone XR (64GB) - Black           536               5   \n",
       "\n",
       "  review_country reviewed_at  \\\n",
       "0         India     12/12/18   \n",
       "1         India     11/17/18   \n",
       "2         India      1/27/19   \n",
       "3         India       5/2/19   \n",
       "4         India      5/24/19   \n",
       "\n",
       "                                                                                                                                                                                                                                                                                                   review_text  \\\n",
       "0                                                                                                                                                                                                                                                                                                        NOTE:   \n",
       "1                                                    Very bad experience with this iPhone xr phone. Back camera found defective and non functional. Amazon is very careless. I haven't got any response on confirmation for replacing. I am just hanging with a damaged piece worth of more than 91000 rupees.   \n",
       "2                                                                                                                                                                                                                        Amazing phone with amazing camera coming from iPhone 7 plus great service from amazon   \n",
       "3  So I got the iPhone XR just today. The product looks amazing. But unfortunately the Face ID is not working and there’s a glitch in the front camera’s portrait mode. That’s fine, it may happen. But what’s not fine is the pathetic service provided by amazon and apple. Firstly, amazon takes no resp...   \n",
       "4  I've been an android user all my life until I decided to try iPhone XR for iOS. Loving the camera and battery life is an absolute joy to have. It's been more than one month since I got this phone and I'm loving it. Face ID works flawlessly even in the dark and the dual sim function is working li...   \n",
       "\n",
       "   review_rating  \\\n",
       "0              3   \n",
       "1              1   \n",
       "2              5   \n",
       "3              1   \n",
       "4              5   \n",
       "\n",
       "                                                      review_title  \n",
       "0         Which iPhone you should Purchase ? iPhone 8, X, XS, XR ?  \n",
       "1                                 Don't buy iPhone xr from Amazon.  \n",
       "2                                          Happy with the purchase  \n",
       "3  Amazon is not an apple authorised reseller. Please take a note.  \n",
       "4                     Excellent Battery life and buttery smooth UI  "
      ]
     },
     "execution_count": 440,
     "metadata": {},
     "output_type": "execute_result"
    }
   ],
   "source": [
    "data.head()"
   ]
  },
  {
   "cell_type": "code",
   "execution_count": 441,
   "id": "5a52edda",
   "metadata": {},
   "outputs": [
    {
     "name": "stdout",
     "output_type": "stream",
     "text": [
      "<class 'pandas.core.frame.DataFrame'>\n",
      "RangeIndex: 5010 entries, 0 to 5009\n",
      "Data columns (total 8 columns):\n",
      " #   Column          Non-Null Count  Dtype \n",
      "---  ------          --------------  ----- \n",
      " 0   product         5010 non-null   object\n",
      " 1   helpful_count   5010 non-null   object\n",
      " 2   total_comments  5010 non-null   int64 \n",
      " 3   review_country  5010 non-null   object\n",
      " 4   reviewed_at     5010 non-null   object\n",
      " 5   review_text     5007 non-null   object\n",
      " 6   review_rating   5010 non-null   int64 \n",
      " 7   review_title    5008 non-null   object\n",
      "dtypes: int64(2), object(6)\n",
      "memory usage: 313.3+ KB\n"
     ]
    }
   ],
   "source": [
    "data.info()"
   ]
  },
  {
   "cell_type": "code",
   "execution_count": 442,
   "id": "17e9d740",
   "metadata": {},
   "outputs": [
    {
     "data": {
      "text/plain": [
       "5010"
      ]
     },
     "execution_count": 442,
     "metadata": {},
     "output_type": "execute_result"
    }
   ],
   "source": [
    "len(data)"
   ]
  },
  {
   "cell_type": "code",
   "execution_count": 443,
   "id": "fe939f65",
   "metadata": {},
   "outputs": [
    {
     "data": {
      "text/plain": [
       "(5010, 8)"
      ]
     },
     "execution_count": 443,
     "metadata": {},
     "output_type": "execute_result"
    }
   ],
   "source": [
    "data.shape"
   ]
  },
  {
   "cell_type": "code",
   "execution_count": 444,
   "id": "718db157",
   "metadata": {},
   "outputs": [
    {
     "data": {
      "text/plain": [
       "38"
      ]
     },
     "execution_count": 444,
     "metadata": {},
     "output_type": "execute_result"
    }
   ],
   "source": [
    "data.duplicated().sum()"
   ]
  },
  {
   "cell_type": "code",
   "execution_count": 445,
   "id": "0d9d2075",
   "metadata": {},
   "outputs": [
    {
     "data": {
      "text/html": [
       "<div>\n",
       "<style scoped>\n",
       "    .dataframe tbody tr th:only-of-type {\n",
       "        vertical-align: middle;\n",
       "    }\n",
       "\n",
       "    .dataframe tbody tr th {\n",
       "        vertical-align: top;\n",
       "    }\n",
       "\n",
       "    .dataframe thead th {\n",
       "        text-align: right;\n",
       "    }\n",
       "</style>\n",
       "<table border=\"1\" class=\"dataframe\">\n",
       "  <thead>\n",
       "    <tr style=\"text-align: right;\">\n",
       "      <th></th>\n",
       "      <th>product</th>\n",
       "      <th>helpful_count</th>\n",
       "      <th>total_comments</th>\n",
       "      <th>review_country</th>\n",
       "      <th>reviewed_at</th>\n",
       "      <th>review_text</th>\n",
       "      <th>review_rating</th>\n",
       "      <th>review_title</th>\n",
       "    </tr>\n",
       "  </thead>\n",
       "  <tbody>\n",
       "    <tr>\n",
       "      <th>0</th>\n",
       "      <td>Apple iPhone XR (64GB) - Black</td>\n",
       "      <td>5,087</td>\n",
       "      <td>24</td>\n",
       "      <td>India</td>\n",
       "      <td>12/12/18</td>\n",
       "      <td>NOTE:</td>\n",
       "      <td>3</td>\n",
       "      <td>Which iPhone you should Purchase ? iPhone 8, X, XS, XR ?</td>\n",
       "    </tr>\n",
       "    <tr>\n",
       "      <th>1</th>\n",
       "      <td>Apple iPhone XR (64GB) - Black</td>\n",
       "      <td>2,822</td>\n",
       "      <td>6</td>\n",
       "      <td>India</td>\n",
       "      <td>11/17/18</td>\n",
       "      <td>Very bad experience with this iPhone xr phone. Back camera found defective and non functional. Amazon is very careless. I haven't got any response on confirmation for replacing. I am just hanging with a damaged piece worth of more than 91000 rupees.</td>\n",
       "      <td>1</td>\n",
       "      <td>Don't buy iPhone xr from Amazon.</td>\n",
       "    </tr>\n",
       "    <tr>\n",
       "      <th>2</th>\n",
       "      <td>Apple iPhone XR (64GB) - Black</td>\n",
       "      <td>1,798</td>\n",
       "      <td>0</td>\n",
       "      <td>India</td>\n",
       "      <td>1/27/19</td>\n",
       "      <td>Amazing phone with amazing camera coming from iPhone 7 plus great service from amazon</td>\n",
       "      <td>5</td>\n",
       "      <td>Happy with the purchase</td>\n",
       "    </tr>\n",
       "    <tr>\n",
       "      <th>3</th>\n",
       "      <td>Apple iPhone XR (64GB) - Black</td>\n",
       "      <td>1,366</td>\n",
       "      <td>14</td>\n",
       "      <td>India</td>\n",
       "      <td>5/2/19</td>\n",
       "      <td>So I got the iPhone XR just today. The product looks amazing. But unfortunately the Face ID is not working and there’s a glitch in the front camera’s portrait mode. That’s fine, it may happen. But what’s not fine is the pathetic service provided by amazon and apple. Firstly, amazon takes no resp...</td>\n",
       "      <td>1</td>\n",
       "      <td>Amazon is not an apple authorised reseller. Please take a note.</td>\n",
       "    </tr>\n",
       "    <tr>\n",
       "      <th>4</th>\n",
       "      <td>Apple iPhone XR (64GB) - Black</td>\n",
       "      <td>536</td>\n",
       "      <td>5</td>\n",
       "      <td>India</td>\n",
       "      <td>5/24/19</td>\n",
       "      <td>I've been an android user all my life until I decided to try iPhone XR for iOS. Loving the camera and battery life is an absolute joy to have. It's been more than one month since I got this phone and I'm loving it. Face ID works flawlessly even in the dark and the dual sim function is working li...</td>\n",
       "      <td>5</td>\n",
       "      <td>Excellent Battery life and buttery smooth UI</td>\n",
       "    </tr>\n",
       "    <tr>\n",
       "      <th>...</th>\n",
       "      <td>...</td>\n",
       "      <td>...</td>\n",
       "      <td>...</td>\n",
       "      <td>...</td>\n",
       "      <td>...</td>\n",
       "      <td>...</td>\n",
       "      <td>...</td>\n",
       "      <td>...</td>\n",
       "    </tr>\n",
       "    <tr>\n",
       "      <th>5005</th>\n",
       "      <td>Apple iPhone XR (64GB) - Black</td>\n",
       "      <td>0</td>\n",
       "      <td>0</td>\n",
       "      <td>India</td>\n",
       "      <td>11/13/19</td>\n",
       "      <td>Dhamaka</td>\n",
       "      <td>4</td>\n",
       "      <td>Dhamaka phone</td>\n",
       "    </tr>\n",
       "    <tr>\n",
       "      <th>5006</th>\n",
       "      <td>Apple iPhone XR (64GB) - Black</td>\n",
       "      <td>0</td>\n",
       "      <td>0</td>\n",
       "      <td>India</td>\n",
       "      <td>11/15/19</td>\n",
       "      <td>Goodbye</td>\n",
       "      <td>4</td>\n",
       "      <td>Good</td>\n",
       "    </tr>\n",
       "    <tr>\n",
       "      <th>5007</th>\n",
       "      <td>Apple iPhone XR (64GB) - Black</td>\n",
       "      <td>0</td>\n",
       "      <td>0</td>\n",
       "      <td>India</td>\n",
       "      <td>12/29/19</td>\n",
       "      <td>Nothing</td>\n",
       "      <td>5</td>\n",
       "      <td>Fantabulous phone. Easy to use.</td>\n",
       "    </tr>\n",
       "    <tr>\n",
       "      <th>5008</th>\n",
       "      <td>Apple iPhone XR (64GB) - Black</td>\n",
       "      <td>0</td>\n",
       "      <td>0</td>\n",
       "      <td>India</td>\n",
       "      <td>11/10/19</td>\n",
       "      <td>Superbb</td>\n",
       "      <td>5</td>\n",
       "      <td>Fantastic</td>\n",
       "    </tr>\n",
       "    <tr>\n",
       "      <th>5009</th>\n",
       "      <td>Apple iPhone XR (64GB) - Black</td>\n",
       "      <td>0</td>\n",
       "      <td>0</td>\n",
       "      <td>India</td>\n",
       "      <td>11/5/19</td>\n",
       "      <td>Nothing</td>\n",
       "      <td>5</td>\n",
       "      <td>Best purchase</td>\n",
       "    </tr>\n",
       "  </tbody>\n",
       "</table>\n",
       "<p>4972 rows × 8 columns</p>\n",
       "</div>"
      ],
      "text/plain": [
       "                             product helpful_count  total_comments  \\\n",
       "0     Apple iPhone XR (64GB) - Black         5,087              24   \n",
       "1     Apple iPhone XR (64GB) - Black         2,822               6   \n",
       "2     Apple iPhone XR (64GB) - Black         1,798               0   \n",
       "3     Apple iPhone XR (64GB) - Black         1,366              14   \n",
       "4     Apple iPhone XR (64GB) - Black           536               5   \n",
       "...                              ...           ...             ...   \n",
       "5005  Apple iPhone XR (64GB) - Black             0               0   \n",
       "5006  Apple iPhone XR (64GB) - Black             0               0   \n",
       "5007  Apple iPhone XR (64GB) - Black             0               0   \n",
       "5008  Apple iPhone XR (64GB) - Black             0               0   \n",
       "5009  Apple iPhone XR (64GB) - Black             0               0   \n",
       "\n",
       "     review_country reviewed_at  \\\n",
       "0            India     12/12/18   \n",
       "1            India     11/17/18   \n",
       "2            India      1/27/19   \n",
       "3            India       5/2/19   \n",
       "4            India      5/24/19   \n",
       "...             ...         ...   \n",
       "5005         India     11/13/19   \n",
       "5006         India     11/15/19   \n",
       "5007         India     12/29/19   \n",
       "5008         India     11/10/19   \n",
       "5009         India      11/5/19   \n",
       "\n",
       "                                                                                                                                                                                                                                                                                                      review_text  \\\n",
       "0                                                                                                                                                                                                                                                                                                           NOTE:   \n",
       "1                                                       Very bad experience with this iPhone xr phone. Back camera found defective and non functional. Amazon is very careless. I haven't got any response on confirmation for replacing. I am just hanging with a damaged piece worth of more than 91000 rupees.   \n",
       "2                                                                                                                                                                                                                           Amazing phone with amazing camera coming from iPhone 7 plus great service from amazon   \n",
       "3     So I got the iPhone XR just today. The product looks amazing. But unfortunately the Face ID is not working and there’s a glitch in the front camera’s portrait mode. That’s fine, it may happen. But what’s not fine is the pathetic service provided by amazon and apple. Firstly, amazon takes no resp...   \n",
       "4     I've been an android user all my life until I decided to try iPhone XR for iOS. Loving the camera and battery life is an absolute joy to have. It's been more than one month since I got this phone and I'm loving it. Face ID works flawlessly even in the dark and the dual sim function is working li...   \n",
       "...                                                                                                                                                                                                                                                                                                           ...   \n",
       "5005                                                                                                                                                                                                                                                                                                      Dhamaka   \n",
       "5006                                                                                                                                                                                                                                                                                                      Goodbye   \n",
       "5007                                                                                                                                                                                                                                                                                                      Nothing   \n",
       "5008                                                                                                                                                                                                                                                                                                      Superbb   \n",
       "5009                                                                                                                                                                                                                                                                                                      Nothing   \n",
       "\n",
       "      review_rating  \\\n",
       "0                 3   \n",
       "1                 1   \n",
       "2                 5   \n",
       "3                 1   \n",
       "4                 5   \n",
       "...             ...   \n",
       "5005              4   \n",
       "5006              4   \n",
       "5007              5   \n",
       "5008              5   \n",
       "5009              5   \n",
       "\n",
       "                                                         review_title  \n",
       "0            Which iPhone you should Purchase ? iPhone 8, X, XS, XR ?  \n",
       "1                                    Don't buy iPhone xr from Amazon.  \n",
       "2                                             Happy with the purchase  \n",
       "3     Amazon is not an apple authorised reseller. Please take a note.  \n",
       "4                        Excellent Battery life and buttery smooth UI  \n",
       "...                                                               ...  \n",
       "5005                                                    Dhamaka phone  \n",
       "5006                                                             Good  \n",
       "5007                                  Fantabulous phone. Easy to use.  \n",
       "5008                                                        Fantastic  \n",
       "5009                                                    Best purchase  \n",
       "\n",
       "[4972 rows x 8 columns]"
      ]
     },
     "execution_count": 445,
     "metadata": {},
     "output_type": "execute_result"
    }
   ],
   "source": [
    "data.drop_duplicates(inplace=True)\n",
    "data"
   ]
  },
  {
   "cell_type": "code",
   "execution_count": 446,
   "id": "d3313e65",
   "metadata": {},
   "outputs": [
    {
     "data": {
      "text/plain": [
       "0"
      ]
     },
     "execution_count": 446,
     "metadata": {},
     "output_type": "execute_result"
    }
   ],
   "source": [
    "data.duplicated().sum()"
   ]
  },
  {
   "cell_type": "code",
   "execution_count": 447,
   "id": "f875b06c",
   "metadata": {},
   "outputs": [
    {
     "data": {
      "text/plain": [
       "(4972, 8)"
      ]
     },
     "execution_count": 447,
     "metadata": {},
     "output_type": "execute_result"
    }
   ],
   "source": [
    "reviews_df = data\n",
    "reviews_df.shape"
   ]
  },
  {
   "cell_type": "markdown",
   "id": "5e93d241",
   "metadata": {},
   "source": [
    "# Calculating Sentiment Polarity and Subjectivity"
   ]
  },
  {
   "cell_type": "code",
   "execution_count": 448,
   "id": "f4dfcb12",
   "metadata": {},
   "outputs": [],
   "source": [
    "polarity = []\n",
    "subjectivity = []\n",
    "for i in reviews_df['review_text'].values:\n",
    "    try:\n",
    "        analysis = TextBlob(i)\n",
    "        polarity.append(analysis.sentiment.polarity)\n",
    "        subjectivity.append(analysis.sentiment.subjectivity)\n",
    "    except:\n",
    "        polarity.append(0)\n",
    "        subjectivity.append(0)"
   ]
  },
  {
   "cell_type": "code",
   "execution_count": 449,
   "id": "97eb4bcd",
   "metadata": {},
   "outputs": [],
   "source": [
    "reviews_df['polarity'] = polarity\n",
    "reviews_df['subjectivity'] = subjectivity"
   ]
  },
  {
   "cell_type": "markdown",
   "id": "e5b4eb2c",
   "metadata": {},
   "source": [
    "# Displaying Reviews with newly added Columns"
   ]
  },
  {
   "cell_type": "code",
   "execution_count": 450,
   "id": "04f3f432",
   "metadata": {},
   "outputs": [
    {
     "data": {
      "text/html": [
       "<div>\n",
       "<style scoped>\n",
       "    .dataframe tbody tr th:only-of-type {\n",
       "        vertical-align: middle;\n",
       "    }\n",
       "\n",
       "    .dataframe tbody tr th {\n",
       "        vertical-align: top;\n",
       "    }\n",
       "\n",
       "    .dataframe thead th {\n",
       "        text-align: right;\n",
       "    }\n",
       "</style>\n",
       "<table border=\"1\" class=\"dataframe\">\n",
       "  <thead>\n",
       "    <tr style=\"text-align: right;\">\n",
       "      <th></th>\n",
       "      <th>product</th>\n",
       "      <th>helpful_count</th>\n",
       "      <th>total_comments</th>\n",
       "      <th>review_country</th>\n",
       "      <th>reviewed_at</th>\n",
       "      <th>review_text</th>\n",
       "      <th>review_rating</th>\n",
       "      <th>review_title</th>\n",
       "      <th>polarity</th>\n",
       "      <th>subjectivity</th>\n",
       "    </tr>\n",
       "  </thead>\n",
       "  <tbody>\n",
       "    <tr>\n",
       "      <th>1</th>\n",
       "      <td>Apple iPhone XR (64GB) - Black</td>\n",
       "      <td>2,822</td>\n",
       "      <td>6</td>\n",
       "      <td>India</td>\n",
       "      <td>11/17/18</td>\n",
       "      <td>Very bad experience with this iPhone xr phone. Back camera found defective and non functional. Amazon is very careless. I haven't got any response on confirmation for replacing. I am just hanging with a damaged piece worth of more than 91000 rupees.</td>\n",
       "      <td>1</td>\n",
       "      <td>Don't buy iPhone xr from Amazon.</td>\n",
       "      <td>-0.152000</td>\n",
       "      <td>0.493333</td>\n",
       "    </tr>\n",
       "    <tr>\n",
       "      <th>3</th>\n",
       "      <td>Apple iPhone XR (64GB) - Black</td>\n",
       "      <td>1,366</td>\n",
       "      <td>14</td>\n",
       "      <td>India</td>\n",
       "      <td>5/2/19</td>\n",
       "      <td>So I got the iPhone XR just today. The product looks amazing. But unfortunately the Face ID is not working and there’s a glitch in the front camera’s portrait mode. That’s fine, it may happen. But what’s not fine is the pathetic service provided by amazon and apple. Firstly, amazon takes no resp...</td>\n",
       "      <td>1</td>\n",
       "      <td>Amazon is not an apple authorised reseller. Please take a note.</td>\n",
       "      <td>-0.033902</td>\n",
       "      <td>0.710985</td>\n",
       "    </tr>\n",
       "    <tr>\n",
       "      <th>5</th>\n",
       "      <td>Apple iPhone XR (64GB) - Black</td>\n",
       "      <td>313</td>\n",
       "      <td>2</td>\n",
       "      <td>India</td>\n",
       "      <td>4/22/19</td>\n",
       "      <td>I was delivered a phone that did not work immediately after removing from the box. I was not able to return it as I need to first check with Apple. Apple service told me that the phone was lying without charge since 5 months and hence the battery failed. Now I have had to leave the phone with Ap...</td>\n",
       "      <td>1</td>\n",
       "      <td>Never purchase a phone online.</td>\n",
       "      <td>-0.140000</td>\n",
       "      <td>0.345000</td>\n",
       "    </tr>\n",
       "    <tr>\n",
       "      <th>7</th>\n",
       "      <td>Apple iPhone XR (64GB) - Black</td>\n",
       "      <td>164</td>\n",
       "      <td>1</td>\n",
       "      <td>India</td>\n",
       "      <td>11/25/18</td>\n",
       "      <td>The phone is hanging. Video quality is not very good.</td>\n",
       "      <td>1</td>\n",
       "      <td>Exchange of I phone xr with xs.</td>\n",
       "      <td>-0.269231</td>\n",
       "      <td>0.461538</td>\n",
       "    </tr>\n",
       "    <tr>\n",
       "      <th>21</th>\n",
       "      <td>Apple iPhone XR (64GB) - Black</td>\n",
       "      <td>69</td>\n",
       "      <td>1</td>\n",
       "      <td>India</td>\n",
       "      <td>7/21/19</td>\n",
       "      <td>Don't buy Apple products from Amazon. I got a defective product which is not activating. During first charging the iPhone started heating like anything. Since there was a 10 days replacement policy, so I asked Amazon to replace it as the product is defective. But very poor customer service from ...</td>\n",
       "      <td>1</td>\n",
       "      <td>Horrible Experience with Amazon</td>\n",
       "      <td>-0.135000</td>\n",
       "      <td>0.556667</td>\n",
       "    </tr>\n",
       "    <tr>\n",
       "      <th>28</th>\n",
       "      <td>Apple iPhone XR (64GB) - Black</td>\n",
       "      <td>54</td>\n",
       "      <td>2</td>\n",
       "      <td>India</td>\n",
       "      <td>1/1/19</td>\n",
       "      <td>It is not supporting any type of sim.. the network gets disconnected after sometime only</td>\n",
       "      <td>1</td>\n",
       "      <td>Not supporting any sim</td>\n",
       "      <td>-0.062500</td>\n",
       "      <td>0.625000</td>\n",
       "    </tr>\n",
       "    <tr>\n",
       "      <th>29</th>\n",
       "      <td>Apple iPhone XR (64GB) - Black</td>\n",
       "      <td>38</td>\n",
       "      <td>0</td>\n",
       "      <td>India</td>\n",
       "      <td>6/6/19</td>\n",
       "      <td>i always was unhappy with the size of my previous iPhones (iPhone 7 and 5s), I badly needed an upgrade and but don’t have the budget of 1lakh so I took my chances with XR and I am very happy with my purchase.</td>\n",
       "      <td>5</td>\n",
       "      <td>Best Buy!! iPhone XR full fills the dream of big iPhone</td>\n",
       "      <td>-0.116667</td>\n",
       "      <td>0.683333</td>\n",
       "    </tr>\n",
       "    <tr>\n",
       "      <th>31</th>\n",
       "      <td>Apple iPhone XR (64GB) - Black</td>\n",
       "      <td>35</td>\n",
       "      <td>1</td>\n",
       "      <td>India</td>\n",
       "      <td>7/13/19</td>\n",
       "      <td>Im facing some speaker related issues and had given my handset XR 64 Gb in service center they denied to repair the same stating that the handset is fake and not valid for any warrenty</td>\n",
       "      <td>1</td>\n",
       "      <td>Fake handsetset received</td>\n",
       "      <td>-0.150000</td>\n",
       "      <td>0.406250</td>\n",
       "    </tr>\n",
       "    <tr>\n",
       "      <th>39</th>\n",
       "      <td>Apple iPhone XR (64GB) - Black</td>\n",
       "      <td>16</td>\n",
       "      <td>0</td>\n",
       "      <td>India</td>\n",
       "      <td>10/7/19</td>\n",
       "      <td>NEVER BUY it from Amazon. VERY POOR PRODUCT AND CUSTOMER CARE.i bought it and received it on 3.10.2019 and noted a crack on right top corner of display which was visible when the plastic sticker was removed and complained to amazon customer cell on 4.10.2019. they assured a replacement. nothing ...</td>\n",
       "      <td>1</td>\n",
       "      <td>NEVER BUY FROM AMAZON</td>\n",
       "      <td>-0.004286</td>\n",
       "      <td>0.296607</td>\n",
       "    </tr>\n",
       "    <tr>\n",
       "      <th>51</th>\n",
       "      <td>Apple iPhone XR (64GB) - Black</td>\n",
       "      <td>14</td>\n",
       "      <td>0</td>\n",
       "      <td>India</td>\n",
       "      <td>8/9/19</td>\n",
       "      <td>Prices have fallen by rs 10000 in 3 days after I bought my phone. I feel terrible.</td>\n",
       "      <td>1</td>\n",
       "      <td>Prices have fallen by rs 10000 in 3 days after I bought my phone. I feel terrible.</td>\n",
       "      <td>-1.000000</td>\n",
       "      <td>1.000000</td>\n",
       "    </tr>\n",
       "  </tbody>\n",
       "</table>\n",
       "</div>"
      ],
      "text/plain": [
       "                           product helpful_count  total_comments  \\\n",
       "1   Apple iPhone XR (64GB) - Black         2,822               6   \n",
       "3   Apple iPhone XR (64GB) - Black         1,366              14   \n",
       "5   Apple iPhone XR (64GB) - Black           313               2   \n",
       "7   Apple iPhone XR (64GB) - Black           164               1   \n",
       "21  Apple iPhone XR (64GB) - Black            69               1   \n",
       "28  Apple iPhone XR (64GB) - Black            54               2   \n",
       "29  Apple iPhone XR (64GB) - Black            38               0   \n",
       "31  Apple iPhone XR (64GB) - Black            35               1   \n",
       "39  Apple iPhone XR (64GB) - Black            16               0   \n",
       "51  Apple iPhone XR (64GB) - Black            14               0   \n",
       "\n",
       "   review_country reviewed_at  \\\n",
       "1          India     11/17/18   \n",
       "3          India       5/2/19   \n",
       "5          India      4/22/19   \n",
       "7          India     11/25/18   \n",
       "21         India      7/21/19   \n",
       "28         India       1/1/19   \n",
       "29         India       6/6/19   \n",
       "31         India      7/13/19   \n",
       "39         India      10/7/19   \n",
       "51         India       8/9/19   \n",
       "\n",
       "                                                                                                                                                                                                                                                                                                    review_text  \\\n",
       "1                                                     Very bad experience with this iPhone xr phone. Back camera found defective and non functional. Amazon is very careless. I haven't got any response on confirmation for replacing. I am just hanging with a damaged piece worth of more than 91000 rupees.   \n",
       "3   So I got the iPhone XR just today. The product looks amazing. But unfortunately the Face ID is not working and there’s a glitch in the front camera’s portrait mode. That’s fine, it may happen. But what’s not fine is the pathetic service provided by amazon and apple. Firstly, amazon takes no resp...   \n",
       "5   I was delivered a phone that did not work immediately after removing from the box. I was not able to return it as I need to first check with Apple. Apple service told me that the phone was lying without charge since 5 months and hence the battery failed. Now I have had to leave the phone with Ap...   \n",
       "7                                                                                                                                                                                                                                                         The phone is hanging. Video quality is not very good.   \n",
       "21  Don't buy Apple products from Amazon. I got a defective product which is not activating. During first charging the iPhone started heating like anything. Since there was a 10 days replacement policy, so I asked Amazon to replace it as the product is defective. But very poor customer service from ...   \n",
       "28                                                                                                                                                                                                                     It is not supporting any type of sim.. the network gets disconnected after sometime only   \n",
       "29                                                                                             i always was unhappy with the size of my previous iPhones (iPhone 7 and 5s), I badly needed an upgrade and but don’t have the budget of 1lakh so I took my chances with XR and I am very happy with my purchase.   \n",
       "31                                                                                                                     Im facing some speaker related issues and had given my handset XR 64 Gb in service center they denied to repair the same stating that the handset is fake and not valid for any warrenty   \n",
       "39  NEVER BUY it from Amazon. VERY POOR PRODUCT AND CUSTOMER CARE.i bought it and received it on 3.10.2019 and noted a crack on right top corner of display which was visible when the plastic sticker was removed and complained to amazon customer cell on 4.10.2019. they assured a replacement. nothing ...   \n",
       "51                                                                                                                                                                                                                           Prices have fallen by rs 10000 in 3 days after I bought my phone. I feel terrible.   \n",
       "\n",
       "    review_rating  \\\n",
       "1               1   \n",
       "3               1   \n",
       "5               1   \n",
       "7               1   \n",
       "21              1   \n",
       "28              1   \n",
       "29              5   \n",
       "31              1   \n",
       "39              1   \n",
       "51              1   \n",
       "\n",
       "                                                                          review_title  \\\n",
       "1                                                     Don't buy iPhone xr from Amazon.   \n",
       "3                      Amazon is not an apple authorised reseller. Please take a note.   \n",
       "5                                                       Never purchase a phone online.   \n",
       "7                                                      Exchange of I phone xr with xs.   \n",
       "21                                                     Horrible Experience with Amazon   \n",
       "28                                                              Not supporting any sim   \n",
       "29                             Best Buy!! iPhone XR full fills the dream of big iPhone   \n",
       "31                                                            Fake handsetset received   \n",
       "39                                                               NEVER BUY FROM AMAZON   \n",
       "51  Prices have fallen by rs 10000 in 3 days after I bought my phone. I feel terrible.   \n",
       "\n",
       "    polarity  subjectivity  \n",
       "1  -0.152000      0.493333  \n",
       "3  -0.033902      0.710985  \n",
       "5  -0.140000      0.345000  \n",
       "7  -0.269231      0.461538  \n",
       "21 -0.135000      0.556667  \n",
       "28 -0.062500      0.625000  \n",
       "29 -0.116667      0.683333  \n",
       "31 -0.150000      0.406250  \n",
       "39 -0.004286      0.296607  \n",
       "51 -1.000000      1.000000  "
      ]
     },
     "execution_count": 450,
     "metadata": {},
     "output_type": "execute_result"
    }
   ],
   "source": [
    "reviews_df[reviews_df.polarity<0].head(10)"
   ]
  },
  {
   "cell_type": "markdown",
   "id": "07d7af12",
   "metadata": {},
   "source": [
    "# Displaying Positive Reviews"
   ]
  },
  {
   "cell_type": "code",
   "execution_count": 451,
   "id": "91dcd10a",
   "metadata": {
    "scrolled": true
   },
   "outputs": [
    {
     "data": {
      "text/html": [
       "<div>\n",
       "<style scoped>\n",
       "    .dataframe tbody tr th:only-of-type {\n",
       "        vertical-align: middle;\n",
       "    }\n",
       "\n",
       "    .dataframe tbody tr th {\n",
       "        vertical-align: top;\n",
       "    }\n",
       "\n",
       "    .dataframe thead th {\n",
       "        text-align: right;\n",
       "    }\n",
       "</style>\n",
       "<table border=\"1\" class=\"dataframe\">\n",
       "  <thead>\n",
       "    <tr style=\"text-align: right;\">\n",
       "      <th></th>\n",
       "      <th>product</th>\n",
       "      <th>helpful_count</th>\n",
       "      <th>total_comments</th>\n",
       "      <th>review_country</th>\n",
       "      <th>reviewed_at</th>\n",
       "      <th>review_text</th>\n",
       "      <th>review_rating</th>\n",
       "      <th>review_title</th>\n",
       "      <th>polarity</th>\n",
       "      <th>subjectivity</th>\n",
       "    </tr>\n",
       "  </thead>\n",
       "  <tbody>\n",
       "    <tr>\n",
       "      <th>35</th>\n",
       "      <td>Apple iPhone XR (64GB) - Black</td>\n",
       "      <td>29</td>\n",
       "      <td>0</td>\n",
       "      <td>India</td>\n",
       "      <td>4/11/19</td>\n",
       "      <td>Smooth as butter, no lag and awesome display with superb camera..Just the perfect phone</td>\n",
       "      <td>5</td>\n",
       "      <td>Smooth as Butter</td>\n",
       "      <td>0.850000</td>\n",
       "      <td>0.8750</td>\n",
       "    </tr>\n",
       "    <tr>\n",
       "      <th>38</th>\n",
       "      <td>Apple iPhone XR (64GB) - Black</td>\n",
       "      <td>23</td>\n",
       "      <td>0</td>\n",
       "      <td>India</td>\n",
       "      <td>11/26/18</td>\n",
       "      <td>A Perfect Phone with a great camera, great performance, Great look, Great Battery life and a good Display. Worth the trade off. Perfect size</td>\n",
       "      <td>5</td>\n",
       "      <td>Awesome Phone</td>\n",
       "      <td>0.775000</td>\n",
       "      <td>0.7125</td>\n",
       "    </tr>\n",
       "    <tr>\n",
       "      <th>61</th>\n",
       "      <td>Apple iPhone XR (64GB) - Black</td>\n",
       "      <td>9</td>\n",
       "      <td>0</td>\n",
       "      <td>India</td>\n",
       "      <td>1/21/19</td>\n",
       "      <td>Got this phone for offer price. Everything is great from packing to delivery. Display quality is very good. Dual sim option is very good, got esim from airtel</td>\n",
       "      <td>5</td>\n",
       "      <td>Xcellent phone</td>\n",
       "      <td>0.873333</td>\n",
       "      <td>0.7700</td>\n",
       "    </tr>\n",
       "    <tr>\n",
       "      <th>62</th>\n",
       "      <td>Apple iPhone XR (64GB) - Black</td>\n",
       "      <td>4</td>\n",
       "      <td>0</td>\n",
       "      <td>India</td>\n",
       "      <td>7/16/19</td>\n",
       "      <td>Bought this phone for my wife. She's absolutely happy with the phone.</td>\n",
       "      <td>5</td>\n",
       "      <td>Best iPhone to buy at this price.</td>\n",
       "      <td>0.800000</td>\n",
       "      <td>1.0000</td>\n",
       "    </tr>\n",
       "    <tr>\n",
       "      <th>89</th>\n",
       "      <td>Apple iPhone XR (64GB) - Black</td>\n",
       "      <td>3</td>\n",
       "      <td>0</td>\n",
       "      <td>India</td>\n",
       "      <td>10/10/19</td>\n",
       "      <td>Received product yesterday and product looks perfectly awesome.</td>\n",
       "      <td>5</td>\n",
       "      <td>Ignore the negative reviews and just go for this awesome phone</td>\n",
       "      <td>1.000000</td>\n",
       "      <td>1.0000</td>\n",
       "    </tr>\n",
       "    <tr>\n",
       "      <th>95</th>\n",
       "      <td>Apple iPhone XR (64GB) - Black</td>\n",
       "      <td>3</td>\n",
       "      <td>0</td>\n",
       "      <td>India</td>\n",
       "      <td>9/29/19</td>\n",
       "      <td>Camera superb</td>\n",
       "      <td>5</td>\n",
       "      <td>In this price of 45000, its the best choice for long term</td>\n",
       "      <td>1.000000</td>\n",
       "      <td>1.0000</td>\n",
       "    </tr>\n",
       "    <tr>\n",
       "      <th>118</th>\n",
       "      <td>Apple iPhone XR (64GB) - Black</td>\n",
       "      <td>0</td>\n",
       "      <td>0</td>\n",
       "      <td>India</td>\n",
       "      <td>11/1/19</td>\n",
       "      <td>I got it during great Indian festival for 38,000rs. Great value for the price.</td>\n",
       "      <td>5</td>\n",
       "      <td>One of the best phones even in 2019 that can satisfy your needs</td>\n",
       "      <td>0.800000</td>\n",
       "      <td>0.7500</td>\n",
       "    </tr>\n",
       "    <tr>\n",
       "      <th>148</th>\n",
       "      <td>Apple iPhone XR (64GB) - Black</td>\n",
       "      <td>0</td>\n",
       "      <td>0</td>\n",
       "      <td>India</td>\n",
       "      <td>10/7/19</td>\n",
       "      <td>Excellent deals offered by Amazon 38k after bank discount.......best iPhone for every aspect.......good camera ...... battery backup excellent......... looks elegant.....feels premium in hand.....and  one think i said to all , though it's a 720p display but display is excellent quality.......the...</td>\n",
       "      <td>5</td>\n",
       "      <td>Best iPhone i ever used..........</td>\n",
       "      <td>1.000000</td>\n",
       "      <td>0.8250</td>\n",
       "    </tr>\n",
       "    <tr>\n",
       "      <th>179</th>\n",
       "      <td>Apple iPhone XR (64GB) - Black</td>\n",
       "      <td>5</td>\n",
       "      <td>0</td>\n",
       "      <td>India</td>\n",
       "      <td>4/3/19</td>\n",
       "      <td>Great phone! Best ux in the class, no offense android but why does my calculator need permission to access my contacts?</td>\n",
       "      <td>5</td>\n",
       "      <td>You’re paying for the experience!</td>\n",
       "      <td>1.000000</td>\n",
       "      <td>0.5250</td>\n",
       "    </tr>\n",
       "    <tr>\n",
       "      <th>190</th>\n",
       "      <td>Apple iPhone XR (64GB) - Black</td>\n",
       "      <td>1</td>\n",
       "      <td>0</td>\n",
       "      <td>India</td>\n",
       "      <td>10/12/19</td>\n",
       "      <td>The best camera and feel of security...</td>\n",
       "      <td>5</td>\n",
       "      <td>OH APPLE! WHAT HAVE YOU MADE...(👌 AWESOME)</td>\n",
       "      <td>1.000000</td>\n",
       "      <td>0.3000</td>\n",
       "    </tr>\n",
       "  </tbody>\n",
       "</table>\n",
       "</div>"
      ],
      "text/plain": [
       "                            product helpful_count  total_comments  \\\n",
       "35   Apple iPhone XR (64GB) - Black            29               0   \n",
       "38   Apple iPhone XR (64GB) - Black            23               0   \n",
       "61   Apple iPhone XR (64GB) - Black             9               0   \n",
       "62   Apple iPhone XR (64GB) - Black             4               0   \n",
       "89   Apple iPhone XR (64GB) - Black             3               0   \n",
       "95   Apple iPhone XR (64GB) - Black             3               0   \n",
       "118  Apple iPhone XR (64GB) - Black             0               0   \n",
       "148  Apple iPhone XR (64GB) - Black             0               0   \n",
       "179  Apple iPhone XR (64GB) - Black             5               0   \n",
       "190  Apple iPhone XR (64GB) - Black             1               0   \n",
       "\n",
       "    review_country reviewed_at  \\\n",
       "35          India      4/11/19   \n",
       "38          India     11/26/18   \n",
       "61          India      1/21/19   \n",
       "62          India      7/16/19   \n",
       "89          India     10/10/19   \n",
       "95          India      9/29/19   \n",
       "118         India      11/1/19   \n",
       "148         India      10/7/19   \n",
       "179         India       4/3/19   \n",
       "190         India     10/12/19   \n",
       "\n",
       "                                                                                                                                                                                                                                                                                                     review_text  \\\n",
       "35                                                                                                                                                                                                                       Smooth as butter, no lag and awesome display with superb camera..Just the perfect phone   \n",
       "38                                                                                                                                                                  A Perfect Phone with a great camera, great performance, Great look, Great Battery life and a good Display. Worth the trade off. Perfect size   \n",
       "61                                                                                                                                                Got this phone for offer price. Everything is great from packing to delivery. Display quality is very good. Dual sim option is very good, got esim from airtel   \n",
       "62                                                                                                                                                                                                                                         Bought this phone for my wife. She's absolutely happy with the phone.   \n",
       "89                                                                                                                                                                                                                                               Received product yesterday and product looks perfectly awesome.   \n",
       "95                                                                                                                                                                                                                                                                                                 Camera superb   \n",
       "118                                                                                                                                                                                                                               I got it during great Indian festival for 38,000rs. Great value for the price.   \n",
       "148  Excellent deals offered by Amazon 38k after bank discount.......best iPhone for every aspect.......good camera ...... battery backup excellent......... looks elegant.....feels premium in hand.....and  one think i said to all , though it's a 720p display but display is excellent quality.......the...   \n",
       "179                                                                                                                                                                                      Great phone! Best ux in the class, no offense android but why does my calculator need permission to access my contacts?   \n",
       "190                                                                                                                                                                                                                                                                      The best camera and feel of security...   \n",
       "\n",
       "     review_rating  \\\n",
       "35               5   \n",
       "38               5   \n",
       "61               5   \n",
       "62               5   \n",
       "89               5   \n",
       "95               5   \n",
       "118              5   \n",
       "148              5   \n",
       "179              5   \n",
       "190              5   \n",
       "\n",
       "                                                        review_title  \\\n",
       "35                                                  Smooth as Butter   \n",
       "38                                                     Awesome Phone   \n",
       "61                                                    Xcellent phone   \n",
       "62                                 Best iPhone to buy at this price.   \n",
       "89    Ignore the negative reviews and just go for this awesome phone   \n",
       "95         In this price of 45000, its the best choice for long term   \n",
       "118  One of the best phones even in 2019 that can satisfy your needs   \n",
       "148                                Best iPhone i ever used..........   \n",
       "179                                You’re paying for the experience!   \n",
       "190                       OH APPLE! WHAT HAVE YOU MADE...(👌 AWESOME)   \n",
       "\n",
       "     polarity  subjectivity  \n",
       "35   0.850000        0.8750  \n",
       "38   0.775000        0.7125  \n",
       "61   0.873333        0.7700  \n",
       "62   0.800000        1.0000  \n",
       "89   1.000000        1.0000  \n",
       "95   1.000000        1.0000  \n",
       "118  0.800000        0.7500  \n",
       "148  1.000000        0.8250  \n",
       "179  1.000000        0.5250  \n",
       "190  1.000000        0.3000  "
      ]
     },
     "execution_count": 451,
     "metadata": {},
     "output_type": "execute_result"
    }
   ],
   "source": [
    "reviews_df[reviews_df.polarity>0.75].head(10)"
   ]
  },
  {
   "cell_type": "markdown",
   "id": "e0338632",
   "metadata": {},
   "source": [
    "# Displaying Most Common Words used in Positive Reviews"
   ]
  },
  {
   "cell_type": "code",
   "execution_count": 452,
   "id": "c9c81bc0",
   "metadata": {},
   "outputs": [
    {
     "name": "stdout",
     "output_type": "stream",
     "text": [
      "['phone', 'Best', 'Excellent', 'Awesome', 'good', 'best', 'product', 'Great', 'battery', 'awesome', 'great', 'iPhone', 'life', 'camera', 'price', 'quality', 'Superb', 'ever', 'iphone', '.', 'nice', 'excellent', 'mobile', 'one', 'Apple', 'superb', 'XR', 'Battery', 'buy', 'happy', 'Perfect', 'Camera', 'apple', 'Good', 'deal', 'perfect', 'phone.', 'Face', 'good.', 'backup', 'Product', 'Everything', 'Amazon', 'One', 'It’s', 'use', 'amazon', 'Got', 'value', 'performance']\n"
     ]
    },
    {
     "name": "stderr",
     "output_type": "stream",
     "text": [
      "[nltk_data] Downloading package stopwords to\n",
      "[nltk_data]     /Users/harshithabenakanahallinagaraj/nltk_data...\n",
      "[nltk_data]   Package stopwords is already up-to-date!\n"
     ]
    }
   ],
   "source": [
    "nltk.download('stopwords')\n",
    "stop_words = set(stopwords.words('english'))\n",
    "positive_reviews = reviews_df[reviews_df.polarity>0.75]['review_text'].values\n",
    "\n",
    "\n",
    "count = Counter()\n",
    "for text in positive_reviews:\n",
    "    for word in text.split():\n",
    "        if word.lower() not in stop_words:\n",
    "            count[word] += 1\n",
    "\n",
    "\n",
    "most_common_words = count.most_common(50)\n",
    "most_common_wordList = []\n",
    "most_common_countList = []\n",
    "for x, y in most_common_words:\n",
    "    most_common_wordList.append(x)\n",
    "    most_common_countList.append(y)\n",
    "\n",
    "print(most_common_wordList) \n"
   ]
  },
  {
   "cell_type": "code",
   "execution_count": 453,
   "id": "4caa8aee",
   "metadata": {},
   "outputs": [
    {
     "data": {
      "image/png": "[encoded data removed]",
      "text/plain": [
       "<Figure size 1500x1300 with 1 Axes>"
      ]
     },
     "metadata": {},
     "output_type": "display_data"
    }
   ],
   "source": [
    "import seaborn as sns\n",
    "\n",
    "\n",
    "plt.figure(figsize=(15,13))\n",
    "sns.barplot(x=most_common_wordList[0:20], y=most_common_countList[0:20])\n",
    "plt.ylabel('Word Count', fontsize=14)\n",
    "plt.xticks(fontsize=14, rotation=40)\n",
    "plt.title('Most Common words used in Positive Reviews', fontsize=20)\n",
    "plt.show()\n"
   ]
  },
  {
   "cell_type": "markdown",
   "id": "e35c52f7",
   "metadata": {},
   "source": [
    "# Distribution of Positive Reviews"
   ]
  },
  {
   "cell_type": "code",
   "execution_count": 454,
   "id": "95ff5661",
   "metadata": {},
   "outputs": [
    {
     "data": {
      "text/plain": [
       "<Axes: >"
      ]
     },
     "execution_count": 454,
     "metadata": {},
     "output_type": "execute_result"
    },
    {
     "data": {
      "image/png": "[encoded data removed]",
      "text/plain": [
       "<Figure size 640x480 with 1 Axes>"
      ]
     },
     "metadata": {},
     "output_type": "display_data"
    }
   ],
   "source": [
    "reviews_df.polarity.hist(bins=20)"
   ]
  },
  {
   "cell_type": "markdown",
   "id": "9191ee19",
   "metadata": {},
   "source": [
    "# Displaying Negative Reviews"
   ]
  },
  {
   "cell_type": "code",
   "execution_count": 455,
   "id": "2de3f836",
   "metadata": {
    "scrolled": false
   },
   "outputs": [
    {
     "data": {
      "text/html": [
       "<div>\n",
       "<style scoped>\n",
       "    .dataframe tbody tr th:only-of-type {\n",
       "        vertical-align: middle;\n",
       "    }\n",
       "\n",
       "    .dataframe tbody tr th {\n",
       "        vertical-align: top;\n",
       "    }\n",
       "\n",
       "    .dataframe thead th {\n",
       "        text-align: right;\n",
       "    }\n",
       "</style>\n",
       "<table border=\"1\" class=\"dataframe\">\n",
       "  <thead>\n",
       "    <tr style=\"text-align: right;\">\n",
       "      <th></th>\n",
       "      <th>product</th>\n",
       "      <th>helpful_count</th>\n",
       "      <th>total_comments</th>\n",
       "      <th>review_country</th>\n",
       "      <th>reviewed_at</th>\n",
       "      <th>review_text</th>\n",
       "      <th>review_rating</th>\n",
       "      <th>review_title</th>\n",
       "      <th>polarity</th>\n",
       "      <th>subjectivity</th>\n",
       "    </tr>\n",
       "  </thead>\n",
       "  <tbody>\n",
       "    <tr>\n",
       "      <th>0</th>\n",
       "      <td>Apple iPhone XR (64GB) - Black</td>\n",
       "      <td>5,087</td>\n",
       "      <td>24</td>\n",
       "      <td>India</td>\n",
       "      <td>12/12/18</td>\n",
       "      <td>NOTE:</td>\n",
       "      <td>3</td>\n",
       "      <td>Which iPhone you should Purchase ? iPhone 8, X, XS, XR ?</td>\n",
       "      <td>0.000000</td>\n",
       "      <td>0.000000</td>\n",
       "    </tr>\n",
       "    <tr>\n",
       "      <th>1</th>\n",
       "      <td>Apple iPhone XR (64GB) - Black</td>\n",
       "      <td>2,822</td>\n",
       "      <td>6</td>\n",
       "      <td>India</td>\n",
       "      <td>11/17/18</td>\n",
       "      <td>Very bad experience with this iPhone xr phone. Back camera found defective and non functional. Amazon is very careless. I haven't got any response on confirmation for replacing. I am just hanging with a damaged piece worth of more than 91000 rupees.</td>\n",
       "      <td>1</td>\n",
       "      <td>Don't buy iPhone xr from Amazon.</td>\n",
       "      <td>-0.152000</td>\n",
       "      <td>0.493333</td>\n",
       "    </tr>\n",
       "    <tr>\n",
       "      <th>3</th>\n",
       "      <td>Apple iPhone XR (64GB) - Black</td>\n",
       "      <td>1,366</td>\n",
       "      <td>14</td>\n",
       "      <td>India</td>\n",
       "      <td>5/2/19</td>\n",
       "      <td>So I got the iPhone XR just today. The product looks amazing. But unfortunately the Face ID is not working and there’s a glitch in the front camera’s portrait mode. That’s fine, it may happen. But what’s not fine is the pathetic service provided by amazon and apple. Firstly, amazon takes no resp...</td>\n",
       "      <td>1</td>\n",
       "      <td>Amazon is not an apple authorised reseller. Please take a note.</td>\n",
       "      <td>-0.033902</td>\n",
       "      <td>0.710985</td>\n",
       "    </tr>\n",
       "    <tr>\n",
       "      <th>5</th>\n",
       "      <td>Apple iPhone XR (64GB) - Black</td>\n",
       "      <td>313</td>\n",
       "      <td>2</td>\n",
       "      <td>India</td>\n",
       "      <td>4/22/19</td>\n",
       "      <td>I was delivered a phone that did not work immediately after removing from the box. I was not able to return it as I need to first check with Apple. Apple service told me that the phone was lying without charge since 5 months and hence the battery failed. Now I have had to leave the phone with Ap...</td>\n",
       "      <td>1</td>\n",
       "      <td>Never purchase a phone online.</td>\n",
       "      <td>-0.140000</td>\n",
       "      <td>0.345000</td>\n",
       "    </tr>\n",
       "    <tr>\n",
       "      <th>7</th>\n",
       "      <td>Apple iPhone XR (64GB) - Black</td>\n",
       "      <td>164</td>\n",
       "      <td>1</td>\n",
       "      <td>India</td>\n",
       "      <td>11/25/18</td>\n",
       "      <td>The phone is hanging. Video quality is not very good.</td>\n",
       "      <td>1</td>\n",
       "      <td>Exchange of I phone xr with xs.</td>\n",
       "      <td>-0.269231</td>\n",
       "      <td>0.461538</td>\n",
       "    </tr>\n",
       "    <tr>\n",
       "      <th>21</th>\n",
       "      <td>Apple iPhone XR (64GB) - Black</td>\n",
       "      <td>69</td>\n",
       "      <td>1</td>\n",
       "      <td>India</td>\n",
       "      <td>7/21/19</td>\n",
       "      <td>Don't buy Apple products from Amazon. I got a defective product which is not activating. During first charging the iPhone started heating like anything. Since there was a 10 days replacement policy, so I asked Amazon to replace it as the product is defective. But very poor customer service from ...</td>\n",
       "      <td>1</td>\n",
       "      <td>Horrible Experience with Amazon</td>\n",
       "      <td>-0.135000</td>\n",
       "      <td>0.556667</td>\n",
       "    </tr>\n",
       "    <tr>\n",
       "      <th>22</th>\n",
       "      <td>Apple iPhone XR (64GB) - Black</td>\n",
       "      <td>63</td>\n",
       "      <td>0</td>\n",
       "      <td>India</td>\n",
       "      <td>4/4/19</td>\n",
       "      <td>Face recognition is slower some times. I have no complaints about it. I am die hard fan of XR. I was eagerly waiting for dual sim iPhone. It’s heavy but looks are so attractive that you will be ready to carry that little extra weight. I am using it since two months. Don’t watch any reviews. Just...</td>\n",
       "      <td>5</td>\n",
       "      <td>It fulfilled my expectations.</td>\n",
       "      <td>0.115530</td>\n",
       "      <td>0.467424</td>\n",
       "    </tr>\n",
       "    <tr>\n",
       "      <th>24</th>\n",
       "      <td>Apple iPhone XR (64GB) - Black</td>\n",
       "      <td>55</td>\n",
       "      <td>0</td>\n",
       "      <td>India</td>\n",
       "      <td>6/4/19</td>\n",
       "      <td>There are lots of reviews on net for XR, I would give just quick points based on my experience of XR 128 GB.</td>\n",
       "      <td>5</td>\n",
       "      <td>A Dark Horse</td>\n",
       "      <td>0.166667</td>\n",
       "      <td>0.250000</td>\n",
       "    </tr>\n",
       "    <tr>\n",
       "      <th>25</th>\n",
       "      <td>Apple iPhone XR (64GB) - Black</td>\n",
       "      <td>62</td>\n",
       "      <td>1</td>\n",
       "      <td>India</td>\n",
       "      <td>11/27/18</td>\n",
       "      <td>Don’t buy this phone only waste of money it hang’s many time.</td>\n",
       "      <td>2</td>\n",
       "      <td>Hang’s many time</td>\n",
       "      <td>0.100000</td>\n",
       "      <td>0.500000</td>\n",
       "    </tr>\n",
       "    <tr>\n",
       "      <th>26</th>\n",
       "      <td>Apple iPhone XR (64GB) - Black</td>\n",
       "      <td>45</td>\n",
       "      <td>0</td>\n",
       "      <td>India</td>\n",
       "      <td>9/24/19</td>\n",
       "      <td>STEVE JOBS GONE i phone gone !!!!!!</td>\n",
       "      <td>1</td>\n",
       "      <td>I PHONE  THOFE ME MILE THO LELO</td>\n",
       "      <td>0.000000</td>\n",
       "      <td>0.000000</td>\n",
       "    </tr>\n",
       "  </tbody>\n",
       "</table>\n",
       "</div>"
      ],
      "text/plain": [
       "                           product helpful_count  total_comments  \\\n",
       "0   Apple iPhone XR (64GB) - Black         5,087              24   \n",
       "1   Apple iPhone XR (64GB) - Black         2,822               6   \n",
       "3   Apple iPhone XR (64GB) - Black         1,366              14   \n",
       "5   Apple iPhone XR (64GB) - Black           313               2   \n",
       "7   Apple iPhone XR (64GB) - Black           164               1   \n",
       "21  Apple iPhone XR (64GB) - Black            69               1   \n",
       "22  Apple iPhone XR (64GB) - Black            63               0   \n",
       "24  Apple iPhone XR (64GB) - Black            55               0   \n",
       "25  Apple iPhone XR (64GB) - Black            62               1   \n",
       "26  Apple iPhone XR (64GB) - Black            45               0   \n",
       "\n",
       "   review_country reviewed_at  \\\n",
       "0          India     12/12/18   \n",
       "1          India     11/17/18   \n",
       "3          India       5/2/19   \n",
       "5          India      4/22/19   \n",
       "7          India     11/25/18   \n",
       "21         India      7/21/19   \n",
       "22         India       4/4/19   \n",
       "24         India       6/4/19   \n",
       "25         India     11/27/18   \n",
       "26         India      9/24/19   \n",
       "\n",
       "                                                                                                                                                                                                                                                                                                    review_text  \\\n",
       "0                                                                                                                                                                                                                                                                                                         NOTE:   \n",
       "1                                                     Very bad experience with this iPhone xr phone. Back camera found defective and non functional. Amazon is very careless. I haven't got any response on confirmation for replacing. I am just hanging with a damaged piece worth of more than 91000 rupees.   \n",
       "3   So I got the iPhone XR just today. The product looks amazing. But unfortunately the Face ID is not working and there’s a glitch in the front camera’s portrait mode. That’s fine, it may happen. But what’s not fine is the pathetic service provided by amazon and apple. Firstly, amazon takes no resp...   \n",
       "5   I was delivered a phone that did not work immediately after removing from the box. I was not able to return it as I need to first check with Apple. Apple service told me that the phone was lying without charge since 5 months and hence the battery failed. Now I have had to leave the phone with Ap...   \n",
       "7                                                                                                                                                                                                                                                         The phone is hanging. Video quality is not very good.   \n",
       "21  Don't buy Apple products from Amazon. I got a defective product which is not activating. During first charging the iPhone started heating like anything. Since there was a 10 days replacement policy, so I asked Amazon to replace it as the product is defective. But very poor customer service from ...   \n",
       "22  Face recognition is slower some times. I have no complaints about it. I am die hard fan of XR. I was eagerly waiting for dual sim iPhone. It’s heavy but looks are so attractive that you will be ready to carry that little extra weight. I am using it since two months. Don’t watch any reviews. Just...   \n",
       "24                                                                                                                                                                                                 There are lots of reviews on net for XR, I would give just quick points based on my experience of XR 128 GB.   \n",
       "25                                                                                                                                                                                                                                                Don’t buy this phone only waste of money it hang’s many time.   \n",
       "26                                                                                                                                                                                                                                                                          STEVE JOBS GONE i phone gone !!!!!!   \n",
       "\n",
       "    review_rating  \\\n",
       "0               3   \n",
       "1               1   \n",
       "3               1   \n",
       "5               1   \n",
       "7               1   \n",
       "21              1   \n",
       "22              5   \n",
       "24              5   \n",
       "25              2   \n",
       "26              1   \n",
       "\n",
       "                                                       review_title  polarity  \\\n",
       "0          Which iPhone you should Purchase ? iPhone 8, X, XS, XR ?  0.000000   \n",
       "1                                  Don't buy iPhone xr from Amazon. -0.152000   \n",
       "3   Amazon is not an apple authorised reseller. Please take a note. -0.033902   \n",
       "5                                    Never purchase a phone online. -0.140000   \n",
       "7                                   Exchange of I phone xr with xs. -0.269231   \n",
       "21                                  Horrible Experience with Amazon -0.135000   \n",
       "22                                    It fulfilled my expectations.  0.115530   \n",
       "24                                                     A Dark Horse  0.166667   \n",
       "25                                                 Hang’s many time  0.100000   \n",
       "26                                  I PHONE  THOFE ME MILE THO LELO  0.000000   \n",
       "\n",
       "    subjectivity  \n",
       "0       0.000000  \n",
       "1       0.493333  \n",
       "3       0.710985  \n",
       "5       0.345000  \n",
       "7       0.461538  \n",
       "21      0.556667  \n",
       "22      0.467424  \n",
       "24      0.250000  \n",
       "25      0.500000  \n",
       "26      0.000000  "
      ]
     },
     "execution_count": 455,
     "metadata": {},
     "output_type": "execute_result"
    }
   ],
   "source": [
    "reviews_df[reviews_df.polarity<0.25].head(10)"
   ]
  },
  {
   "cell_type": "markdown",
   "id": "5b64bf0c",
   "metadata": {},
   "source": [
    "# Displaying Most Common Words used in Negative Reviews"
   ]
  },
  {
   "cell_type": "code",
   "execution_count": 456,
   "id": "510e7151",
   "metadata": {},
   "outputs": [],
   "source": [
    "data['review_text'] = data['review_text'].astype(str)"
   ]
  },
  {
   "cell_type": "code",
   "execution_count": 457,
   "id": "ae762de4",
   "metadata": {},
   "outputs": [
    {
     "name": "stdout",
     "output_type": "stream",
     "text": [
      "['phone', 'iPhone', 'product', 'good', 'battery', 'Apple', 'camera', 'apple', 'quality', 'XR', 'life', 'working', 'one', 'got', 'like', 'Battery', 'buy', 'iphone', 'amazon', 'time', 'money', 'screen', 'price', 'Amazon', '.', 'phone.', 'using', 'go', 'get', 'mobile', 'also', 'use', 'Camera', 'problem', 'even', ',', 'need', 'it.', 'little', 'bit', 'bad', 'experience', 'service', 'issue', 'heavy', 'days', 'bought', 'received', 'Face', 'product.']\n"
     ]
    }
   ],
   "source": [
    "stop_words = set(stopwords.words('english'))\n",
    "negative_reviews = reviews_df[reviews_df.polarity<0.25]['review_text'].values\n",
    "\n",
    "\n",
    "count = Counter()\n",
    "for text in negative_reviews:\n",
    "    for word in text.split():\n",
    "        if word.lower() not in stop_words:\n",
    "            count[word] += 1\n",
    "\n",
    "\n",
    "most_common_words = count.most_common(50)\n",
    "most_common_wordList = []\n",
    "most_common_countList = []\n",
    "for x, y in most_common_words:\n",
    "    most_common_wordList.append(x)\n",
    "    most_common_countList.append(y)\n",
    "\n",
    "print(most_common_wordList) \n"
   ]
  },
  {
   "cell_type": "code",
   "execution_count": 458,
   "id": "62dd9304",
   "metadata": {},
   "outputs": [
    {
     "data": {
      "image/png": "[encoded data removed]",
      "text/plain": [
       "<Figure size 1500x1300 with 1 Axes>"
      ]
     },
     "metadata": {},
     "output_type": "display_data"
    }
   ],
   "source": [
    "import seaborn as sns\n",
    "\n",
    "\n",
    "plt.figure(figsize=(15,13))\n",
    "sns.barplot(x=most_common_wordList[0:20], y=most_common_countList[0:20])\n",
    "plt.ylabel('Word Count', fontsize=14)\n",
    "plt.xticks(fontsize=14, rotation=40)\n",
    "plt.title('Most Common words used in Negative Reviews', fontsize=20)\n",
    "plt.show()\n"
   ]
  },
  {
   "cell_type": "markdown",
   "id": "0242c9a3",
   "metadata": {},
   "source": [
    "# Plotting count of Positive, Neutral and Negative Reviews"
   ]
  },
  {
   "cell_type": "code",
   "execution_count": 476,
   "id": "dd846d42",
   "metadata": {},
   "outputs": [
    {
     "data": {
      "text/plain": [
       "Text(0, 0.5, 'Number of Reviews')"
      ]
     },
     "execution_count": 476,
     "metadata": {},
     "output_type": "execute_result"
    },
    {
     "data": {
      "image/png": "[encoded data removed]",
      "text/plain": [
       "<Figure size 640x480 with 1 Axes>"
      ]
     },
     "metadata": {},
     "output_type": "display_data"
    }
   ],
   "source": [
    "reviews_df['polarity'][reviews_df.polarity==0] = 0\n",
    "reviews_df['polarity'][reviews_df.polarity>0] = 1\n",
    "reviews_df['polarity'][reviews_df.polarity<0] = -1\n",
    "reviews_df.polarity.value_counts().plot.pie()\n",
    "reviews_df.polarity.value_counts()\n",
    "plt.title('Polarity Distribution')\n",
    "plt.xlabel('Polarity')\n",
    "plt.ylabel('Number of Reviews')"
   ]
  },
  {
   "cell_type": "markdown",
   "id": "eefee97d",
   "metadata": {},
   "source": [
    "# Removing Punctuation marks and stopwords from Data"
   ]
  },
  {
   "cell_type": "code",
   "execution_count": 460,
   "id": "53220227",
   "metadata": {},
   "outputs": [
    {
     "name": "stdout",
     "output_type": "stream",
     "text": [
      "!\"#$%&'()*+,-./:;<=>?@[\\]^_`{|}~\n"
     ]
    }
   ],
   "source": [
    "punct_to_remove = string.punctuation\n",
    "print(punct_to_remove)"
   ]
  },
  {
   "cell_type": "code",
   "execution_count": 461,
   "id": "263be095",
   "metadata": {},
   "outputs": [],
   "source": [
    "#Function to remove punctuations\n",
    "def remove_punctuation(x):\n",
    "    if isinstance(x, str):\n",
    "        return x.translate(str.maketrans(\"\", \"\", punct_to_remove))\n",
    "    else:\n",
    "        return x\n"
   ]
  },
  {
   "cell_type": "code",
   "execution_count": 462,
   "id": "3adc975a",
   "metadata": {},
   "outputs": [],
   "source": [
    "data['review_text'] = data['review_text'].apply(lambda x: remove_punctuation(x))\n",
    "data['review_title'] = data['review_title'].apply(lambda x: remove_punctuation(x))"
   ]
  },
  {
   "cell_type": "code",
   "execution_count": 463,
   "id": "6a871521",
   "metadata": {},
   "outputs": [
    {
     "data": {
      "text/html": [
       "<div>\n",
       "<style scoped>\n",
       "    .dataframe tbody tr th:only-of-type {\n",
       "        vertical-align: middle;\n",
       "    }\n",
       "\n",
       "    .dataframe tbody tr th {\n",
       "        vertical-align: top;\n",
       "    }\n",
       "\n",
       "    .dataframe thead th {\n",
       "        text-align: right;\n",
       "    }\n",
       "</style>\n",
       "<table border=\"1\" class=\"dataframe\">\n",
       "  <thead>\n",
       "    <tr style=\"text-align: right;\">\n",
       "      <th></th>\n",
       "      <th>product</th>\n",
       "      <th>helpful_count</th>\n",
       "      <th>total_comments</th>\n",
       "      <th>review_country</th>\n",
       "      <th>reviewed_at</th>\n",
       "      <th>review_text</th>\n",
       "      <th>review_rating</th>\n",
       "      <th>review_title</th>\n",
       "      <th>polarity</th>\n",
       "      <th>subjectivity</th>\n",
       "    </tr>\n",
       "  </thead>\n",
       "  <tbody>\n",
       "    <tr>\n",
       "      <th>0</th>\n",
       "      <td>Apple iPhone XR (64GB) - Black</td>\n",
       "      <td>5,087</td>\n",
       "      <td>24</td>\n",
       "      <td>India</td>\n",
       "      <td>12/12/18</td>\n",
       "      <td>NOTE</td>\n",
       "      <td>3</td>\n",
       "      <td>Which iPhone you should Purchase  iPhone 8 X XS XR</td>\n",
       "      <td>0.0</td>\n",
       "      <td>0.000000</td>\n",
       "    </tr>\n",
       "    <tr>\n",
       "      <th>1</th>\n",
       "      <td>Apple iPhone XR (64GB) - Black</td>\n",
       "      <td>2,822</td>\n",
       "      <td>6</td>\n",
       "      <td>India</td>\n",
       "      <td>11/17/18</td>\n",
       "      <td>Very bad experience with this iPhone xr phone Back camera found defective and non functional Amazon is very careless I havent got any response on confirmation for replacing I am just hanging with a damaged piece worth of more than 91000 rupees</td>\n",
       "      <td>1</td>\n",
       "      <td>Dont buy iPhone xr from Amazon</td>\n",
       "      <td>-1.0</td>\n",
       "      <td>0.493333</td>\n",
       "    </tr>\n",
       "  </tbody>\n",
       "</table>\n",
       "</div>"
      ],
      "text/plain": [
       "                          product helpful_count  total_comments  \\\n",
       "0  Apple iPhone XR (64GB) - Black         5,087              24   \n",
       "1  Apple iPhone XR (64GB) - Black         2,822               6   \n",
       "\n",
       "  review_country reviewed_at  \\\n",
       "0         India     12/12/18   \n",
       "1         India     11/17/18   \n",
       "\n",
       "                                                                                                                                                                                                                                           review_text  \\\n",
       "0                                                                                                                                                                                                                                                 NOTE   \n",
       "1  Very bad experience with this iPhone xr phone Back camera found defective and non functional Amazon is very careless I havent got any response on confirmation for replacing I am just hanging with a damaged piece worth of more than 91000 rupees   \n",
       "\n",
       "   review_rating                                         review_title  \\\n",
       "0              3  Which iPhone you should Purchase  iPhone 8 X XS XR    \n",
       "1              1                       Dont buy iPhone xr from Amazon   \n",
       "\n",
       "   polarity  subjectivity  \n",
       "0       0.0      0.000000  \n",
       "1      -1.0      0.493333  "
      ]
     },
     "execution_count": 463,
     "metadata": {},
     "output_type": "execute_result"
    }
   ],
   "source": [
    "data.head(2)"
   ]
  },
  {
   "cell_type": "code",
   "execution_count": 464,
   "id": "61f1c720",
   "metadata": {},
   "outputs": [],
   "source": [
    "import nltk"
   ]
  },
  {
   "cell_type": "code",
   "execution_count": 465,
   "id": "a2e2d370",
   "metadata": {},
   "outputs": [
    {
     "name": "stderr",
     "output_type": "stream",
     "text": [
      "[nltk_data] Downloading package stopwords to\n",
      "[nltk_data]     /Users/harshithabenakanahallinagaraj/nltk_data...\n",
      "[nltk_data]   Package stopwords is already up-to-date!\n"
     ]
    },
    {
     "data": {
      "text/plain": [
       "True"
      ]
     },
     "execution_count": 465,
     "metadata": {},
     "output_type": "execute_result"
    }
   ],
   "source": [
    "nltk.download('stopwords')"
   ]
  },
  {
   "cell_type": "code",
   "execution_count": 466,
   "id": "7387e790",
   "metadata": {},
   "outputs": [
    {
     "data": {
      "text/plain": [
       "\"i, me, my, myself, we, our, ours, ourselves, you, you're, you've, you'll, you'd, your, yours, yourself, yourselves, he, him, his, himself, she, she's, her, hers, herself, it, it's, its, itself, they, them, their, theirs, themselves, what, which, who, whom, this, that, that'll, these, those, am, is, are, was, were, be, been, being, have, has, had, having, do, does, did, doing, a, an, the, and, but, if, or, because, as, until, while, of, at, by, for, with, about, against, between, into, through, during, before, after, above, below, to, from, up, down, in, out, on, off, over, under, again, further, then, once, here, there, when, where, why, how, all, any, both, each, few, more, most, other, some, such, no, nor, not, only, own, same, so, than, too, very, s, t, can, will, just, don, don't, should, should've, now, d, ll, m, o, re, ve, y, ain, aren, aren't, couldn, couldn't, didn, didn't, doesn, doesn't, hadn, hadn't, hasn, hasn't, haven, haven't, isn, isn't, ma, mightn, mightn't, mustn, mustn't, needn, needn't, shan, shan't, shouldn, shouldn't, wasn, wasn't, weren, weren't, won, won't, wouldn, wouldn't\""
      ]
     },
     "execution_count": 466,
     "metadata": {},
     "output_type": "execute_result"
    }
   ],
   "source": [
    "from nltk.corpus import stopwords\n",
    "\", \".join(stopwords.words('english'))"
   ]
  },
  {
   "cell_type": "code",
   "execution_count": 467,
   "id": "416ee3ff",
   "metadata": {},
   "outputs": [
    {
     "data": {
      "text/plain": [
       "0                                                                                                                                                                                                                                                                                                            [NOTE]\n",
       "1                                                                                                            [bad, experience, iPhone, xr, phone, Back, camera, found, defective, non, functional, Amazon, careless, havent, got, response, confirmation, replacing, hanging, damaged, piece, worth, 91000, rupees]\n",
       "2                                                                                                                                                                                                                                [Amazing, phone, amazing, camera, coming, iPhone, 7, plus, great, service, amazon]\n",
       "3       [got, iPhone, XR, today, product, looks, amazing, unfortunately, Face, ID, working, there’s, glitch, front, camera’s, portrait, mode, That’s, fine, may, happen, what’s, fine, pathetic, service, provided, amazon, apple, Firstly, amazon, takes, responsibility, product, sold, Talking, giant, apple,...\n",
       "4       [Ive, android, user, life, decided, try, iPhone, XR, iOS, Loving, camera, battery, life, absolute, joy, one, month, since, got, phone, Im, loving, Face, ID, works, flawlessly, even, dark, dual, sim, function, working, like, charm, Im, using, Vodafone, primary, sim, Jio, esim, faced, problem, wha...\n",
       "                                                                                                                                                           ...                                                                                                                                                     \n",
       "5005                                                                                                                                                                                                                                                                                                      [Dhamaka]\n",
       "5006                                                                                                                                                                                                                                                                                                      [Goodbye]\n",
       "5007                                                                                                                                                                                                                                                                                                      [Nothing]\n",
       "5008                                                                                                                                                                                                                                                                                                      [Superbb]\n",
       "5009                                                                                                                                                                                                                                                                                                      [Nothing]\n",
       "Name: review_text, Length: 4972, dtype: object"
      ]
     },
     "execution_count": 467,
     "metadata": {},
     "output_type": "execute_result"
    }
   ],
   "source": [
    "stop_words = set(stopwords.words('english'))\n",
    "reviews_df['review_text'].apply(lambda x: [word for word in x.split() if word.lower() not in stop_words])\n"
   ]
  },
  {
   "cell_type": "markdown",
   "id": "5b57a16d",
   "metadata": {},
   "source": [
    "# Displaying Most Common 30 Words"
   ]
  },
  {
   "cell_type": "code",
   "execution_count": 468,
   "id": "8a3aff16",
   "metadata": {},
   "outputs": [
    {
     "name": "stdout",
     "output_type": "stream",
     "text": [
      "[('phone', 1383), ('good', 910), ('product', 702), ('iPhone', 576), ('battery', 532), ('Good', 487), ('life', 426), ('camera', 404), ('quality', 346), ('price', 278), ('best', 273), ('Apple', 263), ('XR', 256), ('Awesome', 242), ('one', 239), ('Best', 237), ('great', 234), ('apple', 234), ('Excellent', 232), ('Nice', 219), ('iphone', 211), ('awesome', 200), ('Amazon', 185), ('Battery', 183), ('buy', 181), ('Great', 176), ('amazon', 160), ('money', 160), ('got', 155), ('Amazing', 151)]\n"
     ]
    }
   ],
   "source": [
    "from collections import Counter\n",
    "from nltk.corpus import stopwords\n",
    "\n",
    "stop_words = set(stopwords.words('english'))\n",
    "\n",
    "cnt = Counter()\n",
    "for text in data['review_text'].values:\n",
    "    for word in text.split():\n",
    "        if word.lower() not in stop_words:\n",
    "            cnt[word]+=1\n",
    "\n",
    "mostcommon=cnt.most_common(30)\n",
    "print(mostcommon)\n"
   ]
  },
  {
   "cell_type": "code",
   "execution_count": 469,
   "id": "9ca1ac55",
   "metadata": {
    "scrolled": false
   },
   "outputs": [
    {
     "data": {
      "image/png": "[encoded data removed]",
      "text/plain": [
       "<Figure size 640x480 with 1 Axes>"
      ]
     },
     "metadata": {},
     "output_type": "display_data"
    }
   ],
   "source": [
    "plt.barh(range(len(mostcommon)),[val[1] for val in mostcommon], align='center')\n",
    "plt.yticks(range(len(mostcommon)), [val[0] for val in mostcommon])\n",
    "plt.show()"
   ]
  },
  {
   "cell_type": "markdown",
   "id": "45bbe39a",
   "metadata": {},
   "source": [
    "# Tokenization"
   ]
  },
  {
   "cell_type": "code",
   "execution_count": 470,
   "id": "6e61f86d",
   "metadata": {
    "scrolled": true
   },
   "outputs": [
    {
     "data": {
      "text/plain": [
       "0                                                                                                                                                                                                                                                                                                            [NOTE]\n",
       "1                    [Very, bad, experience, with, this, iPhone, xr, phone, Back, camera, found, defective, and, non, functional, Amazon, is, very, careless, I, havent, got, any, response, on, confirmation, for, replacing, I, am, just, hanging, with, a, damaged, piece, worth, of, more, than, 91000, rupees]\n",
       "2                                                                                                                                                                                                              [Amazing, phone, with, amazing, camera, coming, from, iPhone, 7, plus, great, service, from, amazon]\n",
       "3       [So, I, got, the, iPhone, XR, just, today, The, product, looks, amazing, But, unfortunately, the, Face, ID, is, not, working, and, there, ’, s, a, glitch, in, the, front, camera, ’, s, portrait, mode, That, ’, s, fine, it, may, happen, But, what, ’, s, not, fine, is, the, pathetic, service, prov...\n",
       "4       [Ive, been, an, android, user, all, my, life, until, I, decided, to, try, iPhone, XR, for, iOS, Loving, the, camera, and, battery, life, is, an, absolute, joy, to, have, Its, been, more, than, one, month, since, I, got, this, phone, and, Im, loving, it, Face, ID, works, flawlessly, even, in, the...\n",
       "                                                                                                                                                           ...                                                                                                                                                     \n",
       "5005                                                                                                                                                                                                                                                                                                      [Dhamaka]\n",
       "5006                                                                                                                                                                                                                                                                                                      [Goodbye]\n",
       "5007                                                                                                                                                                                                                                                                                                      [Nothing]\n",
       "5008                                                                                                                                                                                                                                                                                                      [Superbb]\n",
       "5009                                                                                                                                                                                                                                                                                                      [Nothing]\n",
       "Name: Tokenized_Reviews, Length: 4972, dtype: object"
      ]
     },
     "execution_count": 470,
     "metadata": {},
     "output_type": "execute_result"
    }
   ],
   "source": [
    "from nltk import word_tokenize\n",
    "data['Tokenized_Reviews'] = data['review_text'].apply(word_tokenize)\n",
    "data.Tokenized_Reviews"
   ]
  },
  {
   "cell_type": "code",
   "execution_count": 471,
   "id": "efb73b75",
   "metadata": {},
   "outputs": [
    {
     "data": {
      "text/html": [
       "<div>\n",
       "<style scoped>\n",
       "    .dataframe tbody tr th:only-of-type {\n",
       "        vertical-align: middle;\n",
       "    }\n",
       "\n",
       "    .dataframe tbody tr th {\n",
       "        vertical-align: top;\n",
       "    }\n",
       "\n",
       "    .dataframe thead th {\n",
       "        text-align: right;\n",
       "    }\n",
       "</style>\n",
       "<table border=\"1\" class=\"dataframe\">\n",
       "  <thead>\n",
       "    <tr style=\"text-align: right;\">\n",
       "      <th></th>\n",
       "      <th>product</th>\n",
       "      <th>helpful_count</th>\n",
       "      <th>total_comments</th>\n",
       "      <th>review_country</th>\n",
       "      <th>reviewed_at</th>\n",
       "      <th>review_text</th>\n",
       "      <th>review_rating</th>\n",
       "      <th>review_title</th>\n",
       "      <th>polarity</th>\n",
       "      <th>subjectivity</th>\n",
       "      <th>Tokenized_Reviews</th>\n",
       "    </tr>\n",
       "  </thead>\n",
       "  <tbody>\n",
       "    <tr>\n",
       "      <th>0</th>\n",
       "      <td>Apple iPhone XR (64GB) - Black</td>\n",
       "      <td>5,087</td>\n",
       "      <td>24</td>\n",
       "      <td>India</td>\n",
       "      <td>12/12/18</td>\n",
       "      <td>NOTE</td>\n",
       "      <td>3</td>\n",
       "      <td>Which iPhone you should Purchase  iPhone 8 X XS XR</td>\n",
       "      <td>0.0</td>\n",
       "      <td>0.000000</td>\n",
       "      <td>[NOTE]</td>\n",
       "    </tr>\n",
       "    <tr>\n",
       "      <th>1</th>\n",
       "      <td>Apple iPhone XR (64GB) - Black</td>\n",
       "      <td>2,822</td>\n",
       "      <td>6</td>\n",
       "      <td>India</td>\n",
       "      <td>11/17/18</td>\n",
       "      <td>Very bad experience with this iPhone xr phone Back camera found defective and non functional Amazon is very careless I havent got any response on confirmation for replacing I am just hanging with a damaged piece worth of more than 91000 rupees</td>\n",
       "      <td>1</td>\n",
       "      <td>Dont buy iPhone xr from Amazon</td>\n",
       "      <td>-1.0</td>\n",
       "      <td>0.493333</td>\n",
       "      <td>[Very, bad, experience, with, this, iPhone, xr, phone, Back, camera, found, defective, and, non, functional, Amazon, is, very, careless, I, havent, got, any, response, on, confirmation, for, replacing, I, am, just, hanging, with, a, damaged, piece, worth, of, more, than, 91000, rupees]</td>\n",
       "    </tr>\n",
       "    <tr>\n",
       "      <th>2</th>\n",
       "      <td>Apple iPhone XR (64GB) - Black</td>\n",
       "      <td>1,798</td>\n",
       "      <td>0</td>\n",
       "      <td>India</td>\n",
       "      <td>1/27/19</td>\n",
       "      <td>Amazing phone with amazing camera coming from iPhone 7 plus great service from amazon</td>\n",
       "      <td>5</td>\n",
       "      <td>Happy with the purchase</td>\n",
       "      <td>1.0</td>\n",
       "      <td>0.850000</td>\n",
       "      <td>[Amazing, phone, with, amazing, camera, coming, from, iPhone, 7, plus, great, service, from, amazon]</td>\n",
       "    </tr>\n",
       "    <tr>\n",
       "      <th>3</th>\n",
       "      <td>Apple iPhone XR (64GB) - Black</td>\n",
       "      <td>1,366</td>\n",
       "      <td>14</td>\n",
       "      <td>India</td>\n",
       "      <td>5/2/19</td>\n",
       "      <td>So I got the iPhone XR just today The product looks amazing But unfortunately the Face ID is not working and there’s a glitch in the front camera’s portrait mode That’s fine it may happen But what’s not fine is the pathetic service provided by amazon and apple Firstly amazon takes no responsibil...</td>\n",
       "      <td>1</td>\n",
       "      <td>Amazon is not an apple authorised reseller Please take a note</td>\n",
       "      <td>-1.0</td>\n",
       "      <td>0.710985</td>\n",
       "      <td>[So, I, got, the, iPhone, XR, just, today, The, product, looks, amazing, But, unfortunately, the, Face, ID, is, not, working, and, there, ’, s, a, glitch, in, the, front, camera, ’, s, portrait, mode, That, ’, s, fine, it, may, happen, But, what, ’, s, not, fine, is, the, pathetic, service, prov...</td>\n",
       "    </tr>\n",
       "    <tr>\n",
       "      <th>4</th>\n",
       "      <td>Apple iPhone XR (64GB) - Black</td>\n",
       "      <td>536</td>\n",
       "      <td>5</td>\n",
       "      <td>India</td>\n",
       "      <td>5/24/19</td>\n",
       "      <td>Ive been an android user all my life until I decided to try iPhone XR for iOS Loving the camera and battery life is an absolute joy to have Its been more than one month since I got this phone and Im loving it Face ID works flawlessly even in the dark and the dual sim function is working like a c...</td>\n",
       "      <td>5</td>\n",
       "      <td>Excellent Battery life and buttery smooth UI</td>\n",
       "      <td>1.0</td>\n",
       "      <td>0.675000</td>\n",
       "      <td>[Ive, been, an, android, user, all, my, life, until, I, decided, to, try, iPhone, XR, for, iOS, Loving, the, camera, and, battery, life, is, an, absolute, joy, to, have, Its, been, more, than, one, month, since, I, got, this, phone, and, Im, loving, it, Face, ID, works, flawlessly, even, in, the...</td>\n",
       "    </tr>\n",
       "  </tbody>\n",
       "</table>\n",
       "</div>"
      ],
      "text/plain": [
       "                          product helpful_count  total_comments  \\\n",
       "0  Apple iPhone XR (64GB) - Black         5,087              24   \n",
       "1  Apple iPhone XR (64GB) - Black         2,822               6   \n",
       "2  Apple iPhone XR (64GB) - Black         1,798               0   \n",
       "3  Apple iPhone XR (64GB) - Black         1,366              14   \n",
       "4  Apple iPhone XR (64GB) - Black           536               5   \n",
       "\n",
       "  review_country reviewed_at  \\\n",
       "0         India     12/12/18   \n",
       "1         India     11/17/18   \n",
       "2         India      1/27/19   \n",
       "3         India       5/2/19   \n",
       "4         India      5/24/19   \n",
       "\n",
       "                                                                                                                                                                                                                                                                                                   review_text  \\\n",
       "0                                                                                                                                                                                                                                                                                                         NOTE   \n",
       "1                                                          Very bad experience with this iPhone xr phone Back camera found defective and non functional Amazon is very careless I havent got any response on confirmation for replacing I am just hanging with a damaged piece worth of more than 91000 rupees   \n",
       "2                                                                                                                                                                                                                        Amazing phone with amazing camera coming from iPhone 7 plus great service from amazon   \n",
       "3  So I got the iPhone XR just today The product looks amazing But unfortunately the Face ID is not working and there’s a glitch in the front camera’s portrait mode That’s fine it may happen But what’s not fine is the pathetic service provided by amazon and apple Firstly amazon takes no responsibil...   \n",
       "4  Ive been an android user all my life until I decided to try iPhone XR for iOS Loving the camera and battery life is an absolute joy to have Its been more than one month since I got this phone and Im loving it Face ID works flawlessly even in the dark and the dual sim function is working like a c...   \n",
       "\n",
       "   review_rating  \\\n",
       "0              3   \n",
       "1              1   \n",
       "2              5   \n",
       "3              1   \n",
       "4              5   \n",
       "\n",
       "                                                    review_title  polarity  \\\n",
       "0            Which iPhone you should Purchase  iPhone 8 X XS XR        0.0   \n",
       "1                                 Dont buy iPhone xr from Amazon      -1.0   \n",
       "2                                        Happy with the purchase       1.0   \n",
       "3  Amazon is not an apple authorised reseller Please take a note      -1.0   \n",
       "4                   Excellent Battery life and buttery smooth UI       1.0   \n",
       "\n",
       "   subjectivity  \\\n",
       "0      0.000000   \n",
       "1      0.493333   \n",
       "2      0.850000   \n",
       "3      0.710985   \n",
       "4      0.675000   \n",
       "\n",
       "                                                                                                                                                                                                                                                                                             Tokenized_Reviews  \n",
       "0                                                                                                                                                                                                                                                                                                       [NOTE]  \n",
       "1               [Very, bad, experience, with, this, iPhone, xr, phone, Back, camera, found, defective, and, non, functional, Amazon, is, very, careless, I, havent, got, any, response, on, confirmation, for, replacing, I, am, just, hanging, with, a, damaged, piece, worth, of, more, than, 91000, rupees]  \n",
       "2                                                                                                                                                                                                         [Amazing, phone, with, amazing, camera, coming, from, iPhone, 7, plus, great, service, from, amazon]  \n",
       "3  [So, I, got, the, iPhone, XR, just, today, The, product, looks, amazing, But, unfortunately, the, Face, ID, is, not, working, and, there, ’, s, a, glitch, in, the, front, camera, ’, s, portrait, mode, That, ’, s, fine, it, may, happen, But, what, ’, s, not, fine, is, the, pathetic, service, prov...  \n",
       "4  [Ive, been, an, android, user, all, my, life, until, I, decided, to, try, iPhone, XR, for, iOS, Loving, the, camera, and, battery, life, is, an, absolute, joy, to, have, Its, been, more, than, one, month, since, I, got, this, phone, and, Im, loving, it, Face, ID, works, flawlessly, even, in, the...  "
      ]
     },
     "execution_count": 471,
     "metadata": {},
     "output_type": "execute_result"
    }
   ],
   "source": [
    "data.head(5)\n"
   ]
  },
  {
   "cell_type": "markdown",
   "id": "a37b37df",
   "metadata": {},
   "source": [
    "# Stemming"
   ]
  },
  {
   "cell_type": "code",
   "execution_count": 472,
   "id": "c499eb55",
   "metadata": {},
   "outputs": [
    {
     "data": {
      "text/plain": [
       "0                                                                                                                                                                                                                                                                                                              note\n",
       "1                                                                                                                                   veribadexperiwiththisiphonxrphonebackcamerafounddefectandnonfunctionamazonisvericarelessihaventgotaniresponsonconfirmforreplaciamjusthangwithadamagpiecworthofmorethan91000rupe\n",
       "2                                                                                                                                                                                                                                                    amazphonewithamazcameracomefromiphon7plusgreatservicfromamazon\n",
       "3       soigottheiphonxrjusttodaytheproductlookamazbutunfortunthefaceidisnotworkandthere’saglitchinthefrontcamera’sportraitmodethat’sfineitmayhappenbutwhat’snotfineisthepathetservicprovidbyamazonandapplfirstamazontakenoresponsoftheproductoncsoldtalkaboutthegiantapplthesocallmarketleaderwenttotheservicce...\n",
       "4                  ivebeenanandroiduserallmylifeuntilidecidtotriiphonxrforiolovethecameraandbatterilifeisanabsolutjoytohaveitbeenmorethanonemonthsincigotthisphoneandimloveitfaceidworkflawlesseveninthedarkandthedualsimfunctionisworklikeacharmimusevodafonasmyprimarisimandjioasesimandhavefacenoproblemwhatsoev\n",
       "                                                                                                                                                           ...                                                                                                                                                     \n",
       "5005                                                                                                                                                                                                                                                                                                        dhamaka\n",
       "5006                                                                                                                                                                                                                                                                                                         goodby\n",
       "5007                                                                                                                                                                                                                                                                                                           noth\n",
       "5008                                                                                                                                                                                                                                                                                                        superbb\n",
       "5009                                                                                                                                                                                                                                                                                                           noth\n",
       "Name: Stemmed_Reviews, Length: 4972, dtype: object"
      ]
     },
     "execution_count": 472,
     "metadata": {},
     "output_type": "execute_result"
    }
   ],
   "source": [
    "stemmer = nltk.SnowballStemmer('english')\n",
    "\n",
    "def stemming(text):\n",
    "    text = [stemmer.stem(word) for word in text]\n",
    "    text =\"\".join(text)\n",
    "    return text\n",
    "\n",
    "data['Stemmed_Reviews'] = data['Tokenized_Reviews'].apply(stemming)\n",
    "data.Stemmed_Reviews"
   ]
  },
  {
   "cell_type": "markdown",
   "id": "d170b5f1",
   "metadata": {},
   "source": [
    "# Lemmantizing"
   ]
  },
  {
   "cell_type": "code",
   "execution_count": 473,
   "id": "09c5ba40",
   "metadata": {},
   "outputs": [
    {
     "data": {
      "text/plain": [
       "0                                                                                                                                                                                                                                                                                                              NOTE\n",
       "1                                                                                                         VerybadexperiencewiththisiPhonexrphoneBackcamerafounddefectiveandnonfunctionalAmazonisverycarelessIhaventgotanyresponseonconfirmationforreplacingIamjusthangingwithadamagedpieceworthofmorethan91000rupee\n",
       "2                                                                                                                                                                                                                                          AmazingphonewithamazingcameracomingfromiPhone7plusgreatservicefromamazon\n",
       "3       SoIgottheiPhoneXRjusttodayTheproductlookamazingButunfortunatelytheFaceIDisnotworkingandthere’saglitchinthefrontcamera’sportraitmodeThat’sfineitmayhappenButwhat’snotfineisthepatheticserviceprovidedbyamazonandappleFirstlyamazontakenoresponsibilityoftheproductoncesoldTalkingaboutthegiantapplethesoc...\n",
       "4       IvebeenanandroiduserallmylifeuntilIdecidedtotryiPhoneXRforiOSLovingthecameraandbatterylifeisanabsolutejoytohaveItsbeenmorethanonemonthsinceIgotthisphoneandImlovingitFaceIDworkflawlesslyeveninthedarkandthedualsimfunctionisworkinglikeacharmImusingVodafoneamyprimarysimandJioaesimandhavefacednoprobl...\n",
       "                                                                                                                                                           ...                                                                                                                                                     \n",
       "5005                                                                                                                                                                                                                                                                                                        Dhamaka\n",
       "5006                                                                                                                                                                                                                                                                                                        Goodbye\n",
       "5007                                                                                                                                                                                                                                                                                                        Nothing\n",
       "5008                                                                                                                                                                                                                                                                                                        Superbb\n",
       "5009                                                                                                                                                                                                                                                                                                        Nothing\n",
       "Name: Lemmantized_Reviews, Length: 4972, dtype: object"
      ]
     },
     "execution_count": 473,
     "metadata": {},
     "output_type": "execute_result"
    }
   ],
   "source": [
    "from nltk.stem import WordNetLemmatizer\n",
    "lemmatizer = WordNetLemmatizer()\n",
    "\n",
    "def lemmantizing(text):\n",
    "    text = [lemmatizer.lemmatize(word) for word in text]\n",
    "    text =\"\".join(text)\n",
    "    return text\n",
    "\n",
    "data['Lemmantized_Reviews'] = data['Tokenized_Reviews'].apply(lemmantizing)\n",
    "data.Lemmantized_Reviews"
   ]
  },
  {
   "cell_type": "markdown",
   "id": "8c8c4b0e",
   "metadata": {},
   "source": [
    "# VADER MODEL\n"
   ]
  },
  {
   "cell_type": "markdown",
   "id": "8610ecf7",
   "metadata": {},
   "source": [
    "**The overall sentiment of the IPhone reviews**"
   ]
  },
  {
   "cell_type": "code",
   "execution_count": 474,
   "id": "573cb17c",
   "metadata": {},
   "outputs": [
    {
     "name": "stdout",
     "output_type": "stream",
     "text": [
      "Neutral\n"
     ]
    }
   ],
   "source": [
    "x = sum(data_analysis[\"Positive\"])\n",
    "y = sum(data_analysis[\"Negative\"])\n",
    "z = sum(data_analysis[\"Neutral\"])\n",
    "\n",
    "def sentiment_score(a, b, c):\n",
    "    if (a>b) and (a>c):\n",
    "        print(\"Positive\")\n",
    "    elif (b>a) and (b>c):\n",
    "        print(\"Negative \")\n",
    "    else:\n",
    "        print(\"Neutral\")\n",
    "sentiment_score(x, y, z)"
   ]
  },
  {
   "cell_type": "markdown",
   "id": "29af946c",
   "metadata": {},
   "source": [
    " **Sentiment Score of each category**"
   ]
  },
  {
   "cell_type": "code",
   "execution_count": 475,
   "id": "047a525a",
   "metadata": {
    "scrolled": false
   },
   "outputs": [
    {
     "name": "stdout",
     "output_type": "stream",
     "text": [
      "Positive:  448.0\n",
      "Negative:  3.0\n",
      "Neutral:  4509.0\n"
     ]
    }
   ],
   "source": [
    "print(\"Positive: \", round(x,2))\n",
    "print(\"Negative: \", round(y,2))\n",
    "print(\"Neutral: \", round(z,2))"
   ]
  },
  {
   "cell_type": "markdown",
   "id": "2ee10a78",
   "metadata": {},
   "source": [
    "**We can see that, according to  VADER model, sentiment score is Neutral.**"
   ]
  }
 ],
 "metadata": {
  "kernelspec": {
   "display_name": "Python 3 (ipykernel)",
   "language": "python",
   "name": "python3"
  },
  "language_info": {
   "codemirror_mode": {
    "name": "ipython",
    "version": 3
   },
   "file_extension": ".py",
   "mimetype": "text/x-python",
   "name": "python",
   "nbconvert_exporter": "python",
   "pygments_lexer": "ipython3",
   "version": "3.11.2"
  }
 },
 "nbformat": 4,
 "nbformat_minor": 5
}
